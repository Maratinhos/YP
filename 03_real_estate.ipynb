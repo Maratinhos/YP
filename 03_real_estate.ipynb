{
 "cells": [
  {
   "cell_type": "markdown",
   "metadata": {},
   "source": [
    "<h1>Исследование объявлений о продаже квартир</h1>"
   ]
  },
  {
   "cell_type": "markdown",
   "metadata": {},
   "source": [
    "<h2>Описание и цели проекта</h2>\n",
    "\n",
    "В вашем распоряжении данные сервиса Яндекс.Недвижимость — архив объявлений о продаже квартир в Санкт-Петербурге и соседних населённых пунктов за несколько лет. Нужно научиться определять рыночную стоимость объектов недвижимости. Ваша задача — установить параметры. Это позволит построить автоматизированную систему: она отследит аномалии и мошенническую деятельность. \n",
    "\n",
    "По каждой квартире на продажу доступны два вида данных. Первые вписаны пользователем, вторые — получены автоматически на основе картографических данных. Например, расстояние до центра, аэропорта, ближайшего парка и водоёма. \n",
    "\n",
    "<h2>Описание данных</h2>\n",
    "\n",
    "Файл с данными _/datasets/real_estate_data.csv_ содержит необходимую информацию:\n",
    "\n",
    "* _airports_nearest_ — расстояние до ближайшего аэропорта в метрах (м)\n",
    "* _balcony_ — число балконов\n",
    "* _ceiling_height_ — высота потолков (м)\n",
    "* _cityCenters_nearest_ — расстояние до центра города (м)\n",
    "* _days_exposition_ — сколько дней было размещено объявление (от публикации до снятия)\n",
    "* _first_day_exposition_ — дата публикации\n",
    "* _floor_ — этаж\n",
    "* _floors_total_ — всего этажей в доме\n",
    "* _is_apartment_ — апартаменты (булев тип)\n",
    "* _kitchen_area_ — площадь кухни в квадратных метрах (м²)\n",
    "* _last_price_ — цена на момент снятия с публикации\n",
    "* _living_area_ — жилая площадь в квадратных метрах(м²)\n",
    "* _locality_name_ — название населённого пункта\n",
    "* _open_plan_ — свободная планировка (булев тип)\n",
    "* _parks_around3000_ — число парков в радиусе 3 км\n",
    "* _parks_nearest_ — расстояние до ближайшего парка (м)\n",
    "* _ponds_around3000_ — число водоёмов в радиусе 3 км\n",
    "* _ponds_nearest_ — расстояние до ближайшего водоёма (м)\n",
    "* _rooms_ — число комнат\n",
    "* _studio_ — квартира-студия (булев тип)\n",
    "* _total_area_ — площадь квартиры в квадратных метрах (м²)\n",
    "* _total_images_ — число фотографий квартиры в объявлении\n",
    "\n",
    "Пояснение: апартаменты — это нежилые помещения, не относящиеся к жилому фонду, но имеющие необходимые условия для проживания.\n",
    "\n",
    "<h2>Оглавление</h2>\n",
    "\n",
    "1. [Открытие данных](#step_1)\n",
    "2. [Предобработка данных](#step_2)\n",
    "    - Порядок столбцов и название столбцов\n",
    "    - Обработка пропусков\n",
    "    - Замена типа данных\n",
    "3. [Добавление новых столбцов](#step_3)\n",
    "4. [Исследовательский анализ](#step_4)\n",
    "5. [Общий вывод](#step_5)"
   ]
  },
  {
   "cell_type": "markdown",
   "metadata": {},
   "source": [
    "### Шаг 1. Откройте файл с данными и изучите общую информацию. \n",
    "<a id=\"step_1\"></a>"
   ]
  },
  {
   "cell_type": "code",
   "execution_count": 1,
   "metadata": {},
   "outputs": [],
   "source": [
    "import pandas as pd\n",
    "import matplotlib.pyplot as plt"
   ]
  },
  {
   "cell_type": "code",
   "execution_count": 2,
   "metadata": {},
   "outputs": [],
   "source": [
    "pd.set_option('display.max_columns', None)"
   ]
  },
  {
   "cell_type": "code",
   "execution_count": 3,
   "metadata": {},
   "outputs": [],
   "source": [
    "real_estate = pd.read_csv('/datasets/real_estate_data.csv')"
   ]
  },
  {
   "cell_type": "code",
   "execution_count": 4,
   "metadata": {
    "scrolled": true
   },
   "outputs": [
    {
     "data": {
      "text/html": [
       "<div>\n",
       "<style scoped>\n",
       "    .dataframe tbody tr th:only-of-type {\n",
       "        vertical-align: middle;\n",
       "    }\n",
       "\n",
       "    .dataframe tbody tr th {\n",
       "        vertical-align: top;\n",
       "    }\n",
       "\n",
       "    .dataframe thead th {\n",
       "        text-align: right;\n",
       "    }\n",
       "</style>\n",
       "<table border=\"1\" class=\"dataframe\">\n",
       "  <thead>\n",
       "    <tr style=\"text-align: right;\">\n",
       "      <th></th>\n",
       "      <th>total_images\\tlast_price\\ttotal_area\\tfirst_day_exposition\\trooms\\tceiling_height\\tfloors_total\\tliving_area\\tfloor\\tis_apartment\\tstudio\\topen_plan\\tkitchen_area\\tbalcony\\tlocality_name\\tairports_nearest\\tcityCenters_nearest\\tparks_around3000\\tparks_nearest\\tponds_around3000\\tponds_nearest\\tdays_exposition</th>\n",
       "    </tr>\n",
       "  </thead>\n",
       "  <tbody>\n",
       "    <tr>\n",
       "      <td>0</td>\n",
       "      <td>20\\t13000000.0\\t108.0\\t2019-03-07T00:00:00\\t3\\...</td>\n",
       "    </tr>\n",
       "    <tr>\n",
       "      <td>1</td>\n",
       "      <td>7\\t3350000.0\\t40.4\\t2018-12-04T00:00:00\\t1\\t\\t...</td>\n",
       "    </tr>\n",
       "    <tr>\n",
       "      <td>2</td>\n",
       "      <td>10\\t5196000.0\\t56.0\\t2015-08-20T00:00:00\\t2\\t\\...</td>\n",
       "    </tr>\n",
       "    <tr>\n",
       "      <td>3</td>\n",
       "      <td>0\\t64900000.0\\t159.0\\t2015-07-24T00:00:00\\t3\\t...</td>\n",
       "    </tr>\n",
       "    <tr>\n",
       "      <td>4</td>\n",
       "      <td>2\\t10000000.0\\t100.0\\t2018-06-19T00:00:00\\t2\\t...</td>\n",
       "    </tr>\n",
       "  </tbody>\n",
       "</table>\n",
       "</div>"
      ],
      "text/plain": [
       "  total_images\\tlast_price\\ttotal_area\\tfirst_day_exposition\\trooms\\tceiling_height\\tfloors_total\\tliving_area\\tfloor\\tis_apartment\\tstudio\\topen_plan\\tkitchen_area\\tbalcony\\tlocality_name\\tairports_nearest\\tcityCenters_nearest\\tparks_around3000\\tparks_nearest\\tponds_around3000\\tponds_nearest\\tdays_exposition\n",
       "0  20\\t13000000.0\\t108.0\\t2019-03-07T00:00:00\\t3\\...                                                                                                                                                                                                                                                                  \n",
       "1  7\\t3350000.0\\t40.4\\t2018-12-04T00:00:00\\t1\\t\\t...                                                                                                                                                                                                                                                                  \n",
       "2  10\\t5196000.0\\t56.0\\t2015-08-20T00:00:00\\t2\\t\\...                                                                                                                                                                                                                                                                  \n",
       "3  0\\t64900000.0\\t159.0\\t2015-07-24T00:00:00\\t3\\t...                                                                                                                                                                                                                                                                  \n",
       "4  2\\t10000000.0\\t100.0\\t2018-06-19T00:00:00\\t2\\t...                                                                                                                                                                                                                                                                  "
      ]
     },
     "execution_count": 4,
     "metadata": {},
     "output_type": "execute_result"
    }
   ],
   "source": [
    "# посмотрим первые 5 строк\n",
    "real_estate.head()"
   ]
  },
  {
   "cell_type": "markdown",
   "metadata": {},
   "source": [
    "Разделитель по умолчанию не подошел, нееобходимо добавить параметр sep='\\t'"
   ]
  },
  {
   "cell_type": "code",
   "execution_count": 5,
   "metadata": {},
   "outputs": [],
   "source": [
    "real_estate = pd.read_csv('/datasets/real_estate_data.csv', sep='\\t')"
   ]
  },
  {
   "cell_type": "code",
   "execution_count": 6,
   "metadata": {},
   "outputs": [
    {
     "data": {
      "text/html": [
       "<div>\n",
       "<style scoped>\n",
       "    .dataframe tbody tr th:only-of-type {\n",
       "        vertical-align: middle;\n",
       "    }\n",
       "\n",
       "    .dataframe tbody tr th {\n",
       "        vertical-align: top;\n",
       "    }\n",
       "\n",
       "    .dataframe thead th {\n",
       "        text-align: right;\n",
       "    }\n",
       "</style>\n",
       "<table border=\"1\" class=\"dataframe\">\n",
       "  <thead>\n",
       "    <tr style=\"text-align: right;\">\n",
       "      <th></th>\n",
       "      <th>total_images</th>\n",
       "      <th>last_price</th>\n",
       "      <th>total_area</th>\n",
       "      <th>first_day_exposition</th>\n",
       "      <th>rooms</th>\n",
       "      <th>ceiling_height</th>\n",
       "      <th>floors_total</th>\n",
       "      <th>living_area</th>\n",
       "      <th>floor</th>\n",
       "      <th>is_apartment</th>\n",
       "      <th>studio</th>\n",
       "      <th>open_plan</th>\n",
       "      <th>kitchen_area</th>\n",
       "      <th>balcony</th>\n",
       "      <th>locality_name</th>\n",
       "      <th>airports_nearest</th>\n",
       "      <th>cityCenters_nearest</th>\n",
       "      <th>parks_around3000</th>\n",
       "      <th>parks_nearest</th>\n",
       "      <th>ponds_around3000</th>\n",
       "      <th>ponds_nearest</th>\n",
       "      <th>days_exposition</th>\n",
       "    </tr>\n",
       "  </thead>\n",
       "  <tbody>\n",
       "    <tr>\n",
       "      <td>0</td>\n",
       "      <td>20</td>\n",
       "      <td>13000000.0</td>\n",
       "      <td>108.0</td>\n",
       "      <td>2019-03-07T00:00:00</td>\n",
       "      <td>3</td>\n",
       "      <td>2.70</td>\n",
       "      <td>16.0</td>\n",
       "      <td>51.0</td>\n",
       "      <td>8</td>\n",
       "      <td>NaN</td>\n",
       "      <td>False</td>\n",
       "      <td>False</td>\n",
       "      <td>25.0</td>\n",
       "      <td>NaN</td>\n",
       "      <td>Санкт-Петербург</td>\n",
       "      <td>18863.0</td>\n",
       "      <td>16028.0</td>\n",
       "      <td>1.0</td>\n",
       "      <td>482.0</td>\n",
       "      <td>2.0</td>\n",
       "      <td>755.0</td>\n",
       "      <td>NaN</td>\n",
       "    </tr>\n",
       "    <tr>\n",
       "      <td>1</td>\n",
       "      <td>7</td>\n",
       "      <td>3350000.0</td>\n",
       "      <td>40.4</td>\n",
       "      <td>2018-12-04T00:00:00</td>\n",
       "      <td>1</td>\n",
       "      <td>NaN</td>\n",
       "      <td>11.0</td>\n",
       "      <td>18.6</td>\n",
       "      <td>1</td>\n",
       "      <td>NaN</td>\n",
       "      <td>False</td>\n",
       "      <td>False</td>\n",
       "      <td>11.0</td>\n",
       "      <td>2.0</td>\n",
       "      <td>посёлок Шушары</td>\n",
       "      <td>12817.0</td>\n",
       "      <td>18603.0</td>\n",
       "      <td>0.0</td>\n",
       "      <td>NaN</td>\n",
       "      <td>0.0</td>\n",
       "      <td>NaN</td>\n",
       "      <td>81.0</td>\n",
       "    </tr>\n",
       "    <tr>\n",
       "      <td>2</td>\n",
       "      <td>10</td>\n",
       "      <td>5196000.0</td>\n",
       "      <td>56.0</td>\n",
       "      <td>2015-08-20T00:00:00</td>\n",
       "      <td>2</td>\n",
       "      <td>NaN</td>\n",
       "      <td>5.0</td>\n",
       "      <td>34.3</td>\n",
       "      <td>4</td>\n",
       "      <td>NaN</td>\n",
       "      <td>False</td>\n",
       "      <td>False</td>\n",
       "      <td>8.3</td>\n",
       "      <td>0.0</td>\n",
       "      <td>Санкт-Петербург</td>\n",
       "      <td>21741.0</td>\n",
       "      <td>13933.0</td>\n",
       "      <td>1.0</td>\n",
       "      <td>90.0</td>\n",
       "      <td>2.0</td>\n",
       "      <td>574.0</td>\n",
       "      <td>558.0</td>\n",
       "    </tr>\n",
       "    <tr>\n",
       "      <td>3</td>\n",
       "      <td>0</td>\n",
       "      <td>64900000.0</td>\n",
       "      <td>159.0</td>\n",
       "      <td>2015-07-24T00:00:00</td>\n",
       "      <td>3</td>\n",
       "      <td>NaN</td>\n",
       "      <td>14.0</td>\n",
       "      <td>NaN</td>\n",
       "      <td>9</td>\n",
       "      <td>NaN</td>\n",
       "      <td>False</td>\n",
       "      <td>False</td>\n",
       "      <td>NaN</td>\n",
       "      <td>0.0</td>\n",
       "      <td>Санкт-Петербург</td>\n",
       "      <td>28098.0</td>\n",
       "      <td>6800.0</td>\n",
       "      <td>2.0</td>\n",
       "      <td>84.0</td>\n",
       "      <td>3.0</td>\n",
       "      <td>234.0</td>\n",
       "      <td>424.0</td>\n",
       "    </tr>\n",
       "    <tr>\n",
       "      <td>4</td>\n",
       "      <td>2</td>\n",
       "      <td>10000000.0</td>\n",
       "      <td>100.0</td>\n",
       "      <td>2018-06-19T00:00:00</td>\n",
       "      <td>2</td>\n",
       "      <td>3.03</td>\n",
       "      <td>14.0</td>\n",
       "      <td>32.0</td>\n",
       "      <td>13</td>\n",
       "      <td>NaN</td>\n",
       "      <td>False</td>\n",
       "      <td>False</td>\n",
       "      <td>41.0</td>\n",
       "      <td>NaN</td>\n",
       "      <td>Санкт-Петербург</td>\n",
       "      <td>31856.0</td>\n",
       "      <td>8098.0</td>\n",
       "      <td>2.0</td>\n",
       "      <td>112.0</td>\n",
       "      <td>1.0</td>\n",
       "      <td>48.0</td>\n",
       "      <td>121.0</td>\n",
       "    </tr>\n",
       "  </tbody>\n",
       "</table>\n",
       "</div>"
      ],
      "text/plain": [
       "   total_images  last_price  total_area first_day_exposition  rooms  \\\n",
       "0            20  13000000.0       108.0  2019-03-07T00:00:00      3   \n",
       "1             7   3350000.0        40.4  2018-12-04T00:00:00      1   \n",
       "2            10   5196000.0        56.0  2015-08-20T00:00:00      2   \n",
       "3             0  64900000.0       159.0  2015-07-24T00:00:00      3   \n",
       "4             2  10000000.0       100.0  2018-06-19T00:00:00      2   \n",
       "\n",
       "   ceiling_height  floors_total  living_area  floor is_apartment  studio  \\\n",
       "0            2.70          16.0         51.0      8          NaN   False   \n",
       "1             NaN          11.0         18.6      1          NaN   False   \n",
       "2             NaN           5.0         34.3      4          NaN   False   \n",
       "3             NaN          14.0          NaN      9          NaN   False   \n",
       "4            3.03          14.0         32.0     13          NaN   False   \n",
       "\n",
       "   open_plan  kitchen_area  balcony    locality_name  airports_nearest  \\\n",
       "0      False          25.0      NaN  Санкт-Петербург           18863.0   \n",
       "1      False          11.0      2.0   посёлок Шушары           12817.0   \n",
       "2      False           8.3      0.0  Санкт-Петербург           21741.0   \n",
       "3      False           NaN      0.0  Санкт-Петербург           28098.0   \n",
       "4      False          41.0      NaN  Санкт-Петербург           31856.0   \n",
       "\n",
       "   cityCenters_nearest  parks_around3000  parks_nearest  ponds_around3000  \\\n",
       "0              16028.0               1.0          482.0               2.0   \n",
       "1              18603.0               0.0            NaN               0.0   \n",
       "2              13933.0               1.0           90.0               2.0   \n",
       "3               6800.0               2.0           84.0               3.0   \n",
       "4               8098.0               2.0          112.0               1.0   \n",
       "\n",
       "   ponds_nearest  days_exposition  \n",
       "0          755.0              NaN  \n",
       "1            NaN             81.0  \n",
       "2          574.0            558.0  \n",
       "3          234.0            424.0  \n",
       "4           48.0            121.0  "
      ]
     },
     "execution_count": 6,
     "metadata": {},
     "output_type": "execute_result"
    }
   ],
   "source": [
    "# посмотрим первые 5 строк\n",
    "real_estate.head()"
   ]
  },
  {
   "cell_type": "code",
   "execution_count": 7,
   "metadata": {},
   "outputs": [
    {
     "data": {
      "text/plain": [
       "(23699, 22)"
      ]
     },
     "execution_count": 7,
     "metadata": {},
     "output_type": "execute_result"
    }
   ],
   "source": [
    "# посмотрим размер таблицы\n",
    "real_estate.shape"
   ]
  },
  {
   "cell_type": "code",
   "execution_count": 8,
   "metadata": {
    "scrolled": false
   },
   "outputs": [
    {
     "name": "stdout",
     "output_type": "stream",
     "text": [
      "<class 'pandas.core.frame.DataFrame'>\n",
      "RangeIndex: 23699 entries, 0 to 23698\n",
      "Data columns (total 22 columns):\n",
      "total_images            23699 non-null int64\n",
      "last_price              23699 non-null float64\n",
      "total_area              23699 non-null float64\n",
      "first_day_exposition    23699 non-null object\n",
      "rooms                   23699 non-null int64\n",
      "ceiling_height          14504 non-null float64\n",
      "floors_total            23613 non-null float64\n",
      "living_area             21796 non-null float64\n",
      "floor                   23699 non-null int64\n",
      "is_apartment            2775 non-null object\n",
      "studio                  23699 non-null bool\n",
      "open_plan               23699 non-null bool\n",
      "kitchen_area            21421 non-null float64\n",
      "balcony                 12180 non-null float64\n",
      "locality_name           23650 non-null object\n",
      "airports_nearest        18157 non-null float64\n",
      "cityCenters_nearest     18180 non-null float64\n",
      "parks_around3000        18181 non-null float64\n",
      "parks_nearest           8079 non-null float64\n",
      "ponds_around3000        18181 non-null float64\n",
      "ponds_nearest           9110 non-null float64\n",
      "days_exposition         20518 non-null float64\n",
      "dtypes: bool(2), float64(14), int64(3), object(3)\n",
      "memory usage: 3.7+ MB\n"
     ]
    }
   ],
   "source": [
    "# общая информация\n",
    "real_estate.info()"
   ]
  },
  {
   "cell_type": "markdown",
   "metadata": {},
   "source": [
    "По общей информации можно увидеть наличие пропусков в столбцах:\n",
    "- высоте потолков _ceiling_height_\n",
    "- кол-ве этажей в доме _floors_total_\n",
    "- жилой площади _living_area_\n",
    "- признаке апартаменты _is_apartment_\n",
    "- площади кухни _kitchen_area_\n",
    "- числе балконов _balcony_\n",
    "- названии населенного пункта _locality_name_\n",
    "- растоянии до аэропорта _airports_nearest_\n",
    "- растоянии до центра _cityCenters_nearest_\n",
    "- числе парков в 3х км _parks_around3000_\n",
    "- растоянии до ближайщего парка _parks_nearest_\n",
    "- числе водоемов в 3х км _ponds_around3000_\n",
    "- растоянии до ближайщего водоема _ponds_nearest_\n",
    "- в кол-ве дней публикации объявлении _days_exposition_\n",
    "\n",
    "Так же не подходящие типы данных в столбцах:\n",
    "- _first_day_exposition_ - должно быть датой\n",
    "- _balcony_ - кол-во баконов должны быть целым числом\n",
    "- _floors_total_ - кол-во этажей в доме тоже должно быть целым числом\n",
    "- _days_exposition_ - должно быть целочисленным типом, НО содержит пропуски, поэтому оставим float64\n",
    "- _parks_around3000_ - должно быть целочисленным типом\n",
    "- _ponds_around3000_ - должно быть целочисленным типом\n",
    "\n",
    "Можно еще избавиться от заглавных букв в названии столбца _cityCenters_nearest_, а так же переименовать:\n",
    "- _studio_ => _is_studio_ \n",
    "- _open_plan_ => _is_open_plan_\n",
    "\n",
    "И еще не удобное расположение столбцов, можно изменить порядок столбцов."
   ]
  },
  {
   "cell_type": "code",
   "execution_count": 9,
   "metadata": {
    "scrolled": false
   },
   "outputs": [
    {
     "data": {
      "text/html": [
       "<div>\n",
       "<style scoped>\n",
       "    .dataframe tbody tr th:only-of-type {\n",
       "        vertical-align: middle;\n",
       "    }\n",
       "\n",
       "    .dataframe tbody tr th {\n",
       "        vertical-align: top;\n",
       "    }\n",
       "\n",
       "    .dataframe thead th {\n",
       "        text-align: right;\n",
       "    }\n",
       "</style>\n",
       "<table border=\"1\" class=\"dataframe\">\n",
       "  <thead>\n",
       "    <tr style=\"text-align: right;\">\n",
       "      <th></th>\n",
       "      <th>total_images</th>\n",
       "      <th>last_price</th>\n",
       "      <th>total_area</th>\n",
       "      <th>rooms</th>\n",
       "      <th>ceiling_height</th>\n",
       "      <th>floors_total</th>\n",
       "      <th>living_area</th>\n",
       "      <th>floor</th>\n",
       "      <th>kitchen_area</th>\n",
       "      <th>balcony</th>\n",
       "      <th>airports_nearest</th>\n",
       "      <th>cityCenters_nearest</th>\n",
       "      <th>parks_around3000</th>\n",
       "      <th>parks_nearest</th>\n",
       "      <th>ponds_around3000</th>\n",
       "      <th>ponds_nearest</th>\n",
       "      <th>days_exposition</th>\n",
       "    </tr>\n",
       "  </thead>\n",
       "  <tbody>\n",
       "    <tr>\n",
       "      <td>count</td>\n",
       "      <td>23699.000000</td>\n",
       "      <td>2.369900e+04</td>\n",
       "      <td>23699.000000</td>\n",
       "      <td>23699.000000</td>\n",
       "      <td>14504.000000</td>\n",
       "      <td>23613.000000</td>\n",
       "      <td>21796.000000</td>\n",
       "      <td>23699.000000</td>\n",
       "      <td>21421.000000</td>\n",
       "      <td>12180.000000</td>\n",
       "      <td>18157.000000</td>\n",
       "      <td>18180.000000</td>\n",
       "      <td>18181.000000</td>\n",
       "      <td>8079.000000</td>\n",
       "      <td>18181.000000</td>\n",
       "      <td>9110.000000</td>\n",
       "      <td>20518.000000</td>\n",
       "    </tr>\n",
       "    <tr>\n",
       "      <td>mean</td>\n",
       "      <td>9.858475</td>\n",
       "      <td>6.541549e+06</td>\n",
       "      <td>60.348651</td>\n",
       "      <td>2.070636</td>\n",
       "      <td>2.771499</td>\n",
       "      <td>10.673824</td>\n",
       "      <td>34.457852</td>\n",
       "      <td>5.892358</td>\n",
       "      <td>10.569807</td>\n",
       "      <td>1.150082</td>\n",
       "      <td>28793.672193</td>\n",
       "      <td>14191.277833</td>\n",
       "      <td>0.611408</td>\n",
       "      <td>490.804555</td>\n",
       "      <td>0.770255</td>\n",
       "      <td>517.980900</td>\n",
       "      <td>180.888634</td>\n",
       "    </tr>\n",
       "    <tr>\n",
       "      <td>std</td>\n",
       "      <td>5.682529</td>\n",
       "      <td>1.088701e+07</td>\n",
       "      <td>35.654083</td>\n",
       "      <td>1.078405</td>\n",
       "      <td>1.261056</td>\n",
       "      <td>6.597173</td>\n",
       "      <td>22.030445</td>\n",
       "      <td>4.885249</td>\n",
       "      <td>5.905438</td>\n",
       "      <td>1.071300</td>\n",
       "      <td>12630.880622</td>\n",
       "      <td>8608.386210</td>\n",
       "      <td>0.802074</td>\n",
       "      <td>342.317995</td>\n",
       "      <td>0.938346</td>\n",
       "      <td>277.720643</td>\n",
       "      <td>219.727988</td>\n",
       "    </tr>\n",
       "    <tr>\n",
       "      <td>min</td>\n",
       "      <td>0.000000</td>\n",
       "      <td>1.219000e+04</td>\n",
       "      <td>12.000000</td>\n",
       "      <td>0.000000</td>\n",
       "      <td>1.000000</td>\n",
       "      <td>1.000000</td>\n",
       "      <td>2.000000</td>\n",
       "      <td>1.000000</td>\n",
       "      <td>1.300000</td>\n",
       "      <td>0.000000</td>\n",
       "      <td>0.000000</td>\n",
       "      <td>181.000000</td>\n",
       "      <td>0.000000</td>\n",
       "      <td>1.000000</td>\n",
       "      <td>0.000000</td>\n",
       "      <td>13.000000</td>\n",
       "      <td>1.000000</td>\n",
       "    </tr>\n",
       "    <tr>\n",
       "      <td>25%</td>\n",
       "      <td>6.000000</td>\n",
       "      <td>3.400000e+06</td>\n",
       "      <td>40.000000</td>\n",
       "      <td>1.000000</td>\n",
       "      <td>2.520000</td>\n",
       "      <td>5.000000</td>\n",
       "      <td>18.600000</td>\n",
       "      <td>2.000000</td>\n",
       "      <td>7.000000</td>\n",
       "      <td>0.000000</td>\n",
       "      <td>18585.000000</td>\n",
       "      <td>9238.000000</td>\n",
       "      <td>0.000000</td>\n",
       "      <td>288.000000</td>\n",
       "      <td>0.000000</td>\n",
       "      <td>294.000000</td>\n",
       "      <td>45.000000</td>\n",
       "    </tr>\n",
       "    <tr>\n",
       "      <td>50%</td>\n",
       "      <td>9.000000</td>\n",
       "      <td>4.650000e+06</td>\n",
       "      <td>52.000000</td>\n",
       "      <td>2.000000</td>\n",
       "      <td>2.650000</td>\n",
       "      <td>9.000000</td>\n",
       "      <td>30.000000</td>\n",
       "      <td>4.000000</td>\n",
       "      <td>9.100000</td>\n",
       "      <td>1.000000</td>\n",
       "      <td>26726.000000</td>\n",
       "      <td>13098.500000</td>\n",
       "      <td>0.000000</td>\n",
       "      <td>455.000000</td>\n",
       "      <td>1.000000</td>\n",
       "      <td>502.000000</td>\n",
       "      <td>95.000000</td>\n",
       "    </tr>\n",
       "    <tr>\n",
       "      <td>75%</td>\n",
       "      <td>14.000000</td>\n",
       "      <td>6.800000e+06</td>\n",
       "      <td>69.900000</td>\n",
       "      <td>3.000000</td>\n",
       "      <td>2.800000</td>\n",
       "      <td>16.000000</td>\n",
       "      <td>42.300000</td>\n",
       "      <td>8.000000</td>\n",
       "      <td>12.000000</td>\n",
       "      <td>2.000000</td>\n",
       "      <td>37273.000000</td>\n",
       "      <td>16293.000000</td>\n",
       "      <td>1.000000</td>\n",
       "      <td>612.000000</td>\n",
       "      <td>1.000000</td>\n",
       "      <td>729.000000</td>\n",
       "      <td>232.000000</td>\n",
       "    </tr>\n",
       "    <tr>\n",
       "      <td>max</td>\n",
       "      <td>50.000000</td>\n",
       "      <td>7.630000e+08</td>\n",
       "      <td>900.000000</td>\n",
       "      <td>19.000000</td>\n",
       "      <td>100.000000</td>\n",
       "      <td>60.000000</td>\n",
       "      <td>409.700000</td>\n",
       "      <td>33.000000</td>\n",
       "      <td>112.000000</td>\n",
       "      <td>5.000000</td>\n",
       "      <td>84869.000000</td>\n",
       "      <td>65968.000000</td>\n",
       "      <td>3.000000</td>\n",
       "      <td>3190.000000</td>\n",
       "      <td>3.000000</td>\n",
       "      <td>1344.000000</td>\n",
       "      <td>1580.000000</td>\n",
       "    </tr>\n",
       "  </tbody>\n",
       "</table>\n",
       "</div>"
      ],
      "text/plain": [
       "       total_images    last_price    total_area         rooms  ceiling_height  \\\n",
       "count  23699.000000  2.369900e+04  23699.000000  23699.000000    14504.000000   \n",
       "mean       9.858475  6.541549e+06     60.348651      2.070636        2.771499   \n",
       "std        5.682529  1.088701e+07     35.654083      1.078405        1.261056   \n",
       "min        0.000000  1.219000e+04     12.000000      0.000000        1.000000   \n",
       "25%        6.000000  3.400000e+06     40.000000      1.000000        2.520000   \n",
       "50%        9.000000  4.650000e+06     52.000000      2.000000        2.650000   \n",
       "75%       14.000000  6.800000e+06     69.900000      3.000000        2.800000   \n",
       "max       50.000000  7.630000e+08    900.000000     19.000000      100.000000   \n",
       "\n",
       "       floors_total   living_area         floor  kitchen_area       balcony  \\\n",
       "count  23613.000000  21796.000000  23699.000000  21421.000000  12180.000000   \n",
       "mean      10.673824     34.457852      5.892358     10.569807      1.150082   \n",
       "std        6.597173     22.030445      4.885249      5.905438      1.071300   \n",
       "min        1.000000      2.000000      1.000000      1.300000      0.000000   \n",
       "25%        5.000000     18.600000      2.000000      7.000000      0.000000   \n",
       "50%        9.000000     30.000000      4.000000      9.100000      1.000000   \n",
       "75%       16.000000     42.300000      8.000000     12.000000      2.000000   \n",
       "max       60.000000    409.700000     33.000000    112.000000      5.000000   \n",
       "\n",
       "       airports_nearest  cityCenters_nearest  parks_around3000  parks_nearest  \\\n",
       "count      18157.000000         18180.000000      18181.000000    8079.000000   \n",
       "mean       28793.672193         14191.277833          0.611408     490.804555   \n",
       "std        12630.880622          8608.386210          0.802074     342.317995   \n",
       "min            0.000000           181.000000          0.000000       1.000000   \n",
       "25%        18585.000000          9238.000000          0.000000     288.000000   \n",
       "50%        26726.000000         13098.500000          0.000000     455.000000   \n",
       "75%        37273.000000         16293.000000          1.000000     612.000000   \n",
       "max        84869.000000         65968.000000          3.000000    3190.000000   \n",
       "\n",
       "       ponds_around3000  ponds_nearest  days_exposition  \n",
       "count      18181.000000    9110.000000     20518.000000  \n",
       "mean           0.770255     517.980900       180.888634  \n",
       "std            0.938346     277.720643       219.727988  \n",
       "min            0.000000      13.000000         1.000000  \n",
       "25%            0.000000     294.000000        45.000000  \n",
       "50%            1.000000     502.000000        95.000000  \n",
       "75%            1.000000     729.000000       232.000000  \n",
       "max            3.000000    1344.000000      1580.000000  "
      ]
     },
     "execution_count": 9,
     "metadata": {},
     "output_type": "execute_result"
    }
   ],
   "source": [
    "# основные статистические данные\n",
    "real_estate.describe()"
   ]
  },
  {
   "cell_type": "code",
   "execution_count": 10,
   "metadata": {},
   "outputs": [
    {
     "data": {
      "text/plain": [
       "0"
      ]
     },
     "execution_count": 10,
     "metadata": {},
     "output_type": "execute_result"
    }
   ],
   "source": [
    "# проверим есть ли полные дубли\n",
    "real_estate.duplicated().sum()"
   ]
  },
  {
   "cell_type": "markdown",
   "metadata": {},
   "source": [
    "### Вывод"
   ]
  },
  {
   "cell_type": "markdown",
   "metadata": {},
   "source": [
    "По общей информации о данных можно выделить следующие проблемы:\n",
    "\n",
    "- Пропуски\n",
    "- Порядок столбцов\n",
    "- Название столбцов\n",
    "- Типы данных"
   ]
  },
  {
   "cell_type": "markdown",
   "metadata": {},
   "source": [
    "### Шаг 2. Предобработка данных\n",
    "<a id=\"step_2\"></a>"
   ]
  },
  {
   "cell_type": "markdown",
   "metadata": {},
   "source": [
    "#### Порядок столбцов и название столбцов"
   ]
  },
  {
   "cell_type": "code",
   "execution_count": 11,
   "metadata": {},
   "outputs": [
    {
     "data": {
      "text/plain": [
       "['total_images',\n",
       " 'last_price',\n",
       " 'total_area',\n",
       " 'first_day_exposition',\n",
       " 'rooms',\n",
       " 'ceiling_height',\n",
       " 'floors_total',\n",
       " 'living_area',\n",
       " 'floor',\n",
       " 'is_apartment',\n",
       " 'studio',\n",
       " 'open_plan',\n",
       " 'kitchen_area',\n",
       " 'balcony',\n",
       " 'locality_name',\n",
       " 'airports_nearest',\n",
       " 'cityCenters_nearest',\n",
       " 'parks_around3000',\n",
       " 'parks_nearest',\n",
       " 'ponds_around3000',\n",
       " 'ponds_nearest',\n",
       " 'days_exposition']"
      ]
     },
     "execution_count": 11,
     "metadata": {},
     "output_type": "execute_result"
    }
   ],
   "source": [
    "# получим название всех столбцов (чтобы скопировать)\n",
    "real_estate.columns.tolist()"
   ]
  },
  {
   "cell_type": "code",
   "execution_count": 12,
   "metadata": {},
   "outputs": [],
   "source": [
    "# поменяем порядок столбцов\n",
    "real_estate = real_estate[[\n",
    " 'locality_name',\n",
    " 'rooms',    \n",
    " 'balcony',    \n",
    " 'total_area',\n",
    " 'living_area',\n",
    " 'kitchen_area',\n",
    " 'floor',\n",
    " 'floors_total',\n",
    " 'first_day_exposition',\n",
    " 'days_exposition',\n",
    " 'last_price',\n",
    " 'total_images',\n",
    " 'ceiling_height',\n",
    " 'is_apartment',\n",
    " 'studio',\n",
    " 'open_plan',\n",
    " 'cityCenters_nearest',    \n",
    " 'parks_nearest',    \n",
    " 'ponds_nearest',\n",
    " 'airports_nearest',\n",
    " 'parks_around3000',\n",
    " 'ponds_around3000'\n",
    "]]"
   ]
  },
  {
   "cell_type": "code",
   "execution_count": 13,
   "metadata": {},
   "outputs": [],
   "source": [
    "# переименуем необходимые столбцы\n",
    "columns = [\n",
    " 'locality_name',\n",
    " 'rooms',    \n",
    " 'balcony',    \n",
    " 'total_area',\n",
    " 'living_area',\n",
    " 'kitchen_area',\n",
    " 'floor',\n",
    " 'floors_total',\n",
    " 'first_day_exposition',\n",
    " 'days_exposition',\n",
    " 'last_price',\n",
    " 'total_images',\n",
    " 'ceiling_height',\n",
    " 'is_apartment',\n",
    " 'is_studio',\n",
    " 'is_open_plan',\n",
    " 'city_centers_nearest',    \n",
    " 'parks_nearest',    \n",
    " 'ponds_nearest',\n",
    " 'airports_nearest',\n",
    " 'parks_around3000',\n",
    " 'ponds_around3000'    \n",
    "]\n",
    "\n",
    "real_estate.set_axis(columns, axis='columns', inplace=True)"
   ]
  },
  {
   "cell_type": "code",
   "execution_count": 14,
   "metadata": {
    "scrolled": true
   },
   "outputs": [
    {
     "data": {
      "text/html": [
       "<div>\n",
       "<style scoped>\n",
       "    .dataframe tbody tr th:only-of-type {\n",
       "        vertical-align: middle;\n",
       "    }\n",
       "\n",
       "    .dataframe tbody tr th {\n",
       "        vertical-align: top;\n",
       "    }\n",
       "\n",
       "    .dataframe thead th {\n",
       "        text-align: right;\n",
       "    }\n",
       "</style>\n",
       "<table border=\"1\" class=\"dataframe\">\n",
       "  <thead>\n",
       "    <tr style=\"text-align: right;\">\n",
       "      <th></th>\n",
       "      <th>locality_name</th>\n",
       "      <th>rooms</th>\n",
       "      <th>balcony</th>\n",
       "      <th>total_area</th>\n",
       "      <th>living_area</th>\n",
       "      <th>kitchen_area</th>\n",
       "      <th>floor</th>\n",
       "      <th>floors_total</th>\n",
       "      <th>first_day_exposition</th>\n",
       "      <th>days_exposition</th>\n",
       "      <th>last_price</th>\n",
       "      <th>total_images</th>\n",
       "      <th>ceiling_height</th>\n",
       "      <th>is_apartment</th>\n",
       "      <th>is_studio</th>\n",
       "      <th>is_open_plan</th>\n",
       "      <th>city_centers_nearest</th>\n",
       "      <th>parks_nearest</th>\n",
       "      <th>ponds_nearest</th>\n",
       "      <th>airports_nearest</th>\n",
       "      <th>parks_around3000</th>\n",
       "      <th>ponds_around3000</th>\n",
       "    </tr>\n",
       "  </thead>\n",
       "  <tbody>\n",
       "    <tr>\n",
       "      <td>0</td>\n",
       "      <td>Санкт-Петербург</td>\n",
       "      <td>3</td>\n",
       "      <td>NaN</td>\n",
       "      <td>108.0</td>\n",
       "      <td>51.0</td>\n",
       "      <td>25.0</td>\n",
       "      <td>8</td>\n",
       "      <td>16.0</td>\n",
       "      <td>2019-03-07T00:00:00</td>\n",
       "      <td>NaN</td>\n",
       "      <td>13000000.0</td>\n",
       "      <td>20</td>\n",
       "      <td>2.70</td>\n",
       "      <td>NaN</td>\n",
       "      <td>False</td>\n",
       "      <td>False</td>\n",
       "      <td>16028.0</td>\n",
       "      <td>482.0</td>\n",
       "      <td>755.0</td>\n",
       "      <td>18863.0</td>\n",
       "      <td>1.0</td>\n",
       "      <td>2.0</td>\n",
       "    </tr>\n",
       "    <tr>\n",
       "      <td>1</td>\n",
       "      <td>посёлок Шушары</td>\n",
       "      <td>1</td>\n",
       "      <td>2.0</td>\n",
       "      <td>40.4</td>\n",
       "      <td>18.6</td>\n",
       "      <td>11.0</td>\n",
       "      <td>1</td>\n",
       "      <td>11.0</td>\n",
       "      <td>2018-12-04T00:00:00</td>\n",
       "      <td>81.0</td>\n",
       "      <td>3350000.0</td>\n",
       "      <td>7</td>\n",
       "      <td>NaN</td>\n",
       "      <td>NaN</td>\n",
       "      <td>False</td>\n",
       "      <td>False</td>\n",
       "      <td>18603.0</td>\n",
       "      <td>NaN</td>\n",
       "      <td>NaN</td>\n",
       "      <td>12817.0</td>\n",
       "      <td>0.0</td>\n",
       "      <td>0.0</td>\n",
       "    </tr>\n",
       "    <tr>\n",
       "      <td>2</td>\n",
       "      <td>Санкт-Петербург</td>\n",
       "      <td>2</td>\n",
       "      <td>0.0</td>\n",
       "      <td>56.0</td>\n",
       "      <td>34.3</td>\n",
       "      <td>8.3</td>\n",
       "      <td>4</td>\n",
       "      <td>5.0</td>\n",
       "      <td>2015-08-20T00:00:00</td>\n",
       "      <td>558.0</td>\n",
       "      <td>5196000.0</td>\n",
       "      <td>10</td>\n",
       "      <td>NaN</td>\n",
       "      <td>NaN</td>\n",
       "      <td>False</td>\n",
       "      <td>False</td>\n",
       "      <td>13933.0</td>\n",
       "      <td>90.0</td>\n",
       "      <td>574.0</td>\n",
       "      <td>21741.0</td>\n",
       "      <td>1.0</td>\n",
       "      <td>2.0</td>\n",
       "    </tr>\n",
       "    <tr>\n",
       "      <td>3</td>\n",
       "      <td>Санкт-Петербург</td>\n",
       "      <td>3</td>\n",
       "      <td>0.0</td>\n",
       "      <td>159.0</td>\n",
       "      <td>NaN</td>\n",
       "      <td>NaN</td>\n",
       "      <td>9</td>\n",
       "      <td>14.0</td>\n",
       "      <td>2015-07-24T00:00:00</td>\n",
       "      <td>424.0</td>\n",
       "      <td>64900000.0</td>\n",
       "      <td>0</td>\n",
       "      <td>NaN</td>\n",
       "      <td>NaN</td>\n",
       "      <td>False</td>\n",
       "      <td>False</td>\n",
       "      <td>6800.0</td>\n",
       "      <td>84.0</td>\n",
       "      <td>234.0</td>\n",
       "      <td>28098.0</td>\n",
       "      <td>2.0</td>\n",
       "      <td>3.0</td>\n",
       "    </tr>\n",
       "    <tr>\n",
       "      <td>4</td>\n",
       "      <td>Санкт-Петербург</td>\n",
       "      <td>2</td>\n",
       "      <td>NaN</td>\n",
       "      <td>100.0</td>\n",
       "      <td>32.0</td>\n",
       "      <td>41.0</td>\n",
       "      <td>13</td>\n",
       "      <td>14.0</td>\n",
       "      <td>2018-06-19T00:00:00</td>\n",
       "      <td>121.0</td>\n",
       "      <td>10000000.0</td>\n",
       "      <td>2</td>\n",
       "      <td>3.03</td>\n",
       "      <td>NaN</td>\n",
       "      <td>False</td>\n",
       "      <td>False</td>\n",
       "      <td>8098.0</td>\n",
       "      <td>112.0</td>\n",
       "      <td>48.0</td>\n",
       "      <td>31856.0</td>\n",
       "      <td>2.0</td>\n",
       "      <td>1.0</td>\n",
       "    </tr>\n",
       "  </tbody>\n",
       "</table>\n",
       "</div>"
      ],
      "text/plain": [
       "     locality_name  rooms  balcony  total_area  living_area  kitchen_area  \\\n",
       "0  Санкт-Петербург      3      NaN       108.0         51.0          25.0   \n",
       "1   посёлок Шушары      1      2.0        40.4         18.6          11.0   \n",
       "2  Санкт-Петербург      2      0.0        56.0         34.3           8.3   \n",
       "3  Санкт-Петербург      3      0.0       159.0          NaN           NaN   \n",
       "4  Санкт-Петербург      2      NaN       100.0         32.0          41.0   \n",
       "\n",
       "   floor  floors_total first_day_exposition  days_exposition  last_price  \\\n",
       "0      8          16.0  2019-03-07T00:00:00              NaN  13000000.0   \n",
       "1      1          11.0  2018-12-04T00:00:00             81.0   3350000.0   \n",
       "2      4           5.0  2015-08-20T00:00:00            558.0   5196000.0   \n",
       "3      9          14.0  2015-07-24T00:00:00            424.0  64900000.0   \n",
       "4     13          14.0  2018-06-19T00:00:00            121.0  10000000.0   \n",
       "\n",
       "   total_images  ceiling_height is_apartment  is_studio  is_open_plan  \\\n",
       "0            20            2.70          NaN      False         False   \n",
       "1             7             NaN          NaN      False         False   \n",
       "2            10             NaN          NaN      False         False   \n",
       "3             0             NaN          NaN      False         False   \n",
       "4             2            3.03          NaN      False         False   \n",
       "\n",
       "   city_centers_nearest  parks_nearest  ponds_nearest  airports_nearest  \\\n",
       "0               16028.0          482.0          755.0           18863.0   \n",
       "1               18603.0            NaN            NaN           12817.0   \n",
       "2               13933.0           90.0          574.0           21741.0   \n",
       "3                6800.0           84.0          234.0           28098.0   \n",
       "4                8098.0          112.0           48.0           31856.0   \n",
       "\n",
       "   parks_around3000  ponds_around3000  \n",
       "0               1.0               2.0  \n",
       "1               0.0               0.0  \n",
       "2               1.0               2.0  \n",
       "3               2.0               3.0  \n",
       "4               2.0               1.0  "
      ]
     },
     "execution_count": 14,
     "metadata": {},
     "output_type": "execute_result"
    }
   ],
   "source": [
    "# посмотрим что получилось\n",
    "real_estate.head()"
   ]
  },
  {
   "cell_type": "markdown",
   "metadata": {},
   "source": [
    "#### Обработка пропусков"
   ]
  },
  {
   "cell_type": "code",
   "execution_count": 15,
   "metadata": {
    "scrolled": false
   },
   "outputs": [
    {
     "data": {
      "text/plain": [
       "is_apartment            20924\n",
       "parks_nearest           15620\n",
       "ponds_nearest           14589\n",
       "balcony                 11519\n",
       "ceiling_height           9195\n",
       "airports_nearest         5542\n",
       "city_centers_nearest     5519\n",
       "ponds_around3000         5518\n",
       "parks_around3000         5518\n",
       "days_exposition          3181\n",
       "kitchen_area             2278\n",
       "living_area              1903\n",
       "floors_total               86\n",
       "locality_name              49\n",
       "first_day_exposition        0\n",
       "floor                       0\n",
       "total_images                0\n",
       "is_studio                   0\n",
       "total_area                  0\n",
       "is_open_plan                0\n",
       "rooms                       0\n",
       "last_price                  0\n",
       "dtype: int64"
      ]
     },
     "execution_count": 15,
     "metadata": {},
     "output_type": "execute_result"
    }
   ],
   "source": [
    "# вернемся к пропускам\n",
    "real_estate.isnull().sum().sort_values(ascending=False)"
   ]
  },
  {
   "cell_type": "markdown",
   "metadata": {},
   "source": [
    "##### ceiling_height"
   ]
  },
  {
   "cell_type": "code",
   "execution_count": 16,
   "metadata": {},
   "outputs": [
    {
     "data": {
      "text/plain": [
       "2.65"
      ]
     },
     "execution_count": 16,
     "metadata": {},
     "output_type": "execute_result"
    }
   ],
   "source": [
    "# посмотрим на медиану\n",
    "ceiling_height_median = real_estate['ceiling_height'].median()\n",
    "ceiling_height_median"
   ]
  },
  {
   "cell_type": "code",
   "execution_count": 17,
   "metadata": {},
   "outputs": [],
   "source": [
    "# заполним медианой высоту потолков\n",
    "real_estate['ceiling_height'] = real_estate['ceiling_height'].fillna(ceiling_height_median)"
   ]
  },
  {
   "cell_type": "markdown",
   "metadata": {},
   "source": [
    "##### is_apartment"
   ]
  },
  {
   "cell_type": "code",
   "execution_count": 18,
   "metadata": {},
   "outputs": [],
   "source": [
    "# заполним признак апартаментов по умолчанию False\n",
    "real_estate['is_apartment'].fillna(False, inplace=True)"
   ]
  },
  {
   "cell_type": "markdown",
   "metadata": {},
   "source": [
    "##### balcony"
   ]
  },
  {
   "cell_type": "code",
   "execution_count": 19,
   "metadata": {},
   "outputs": [],
   "source": [
    "# заполним пропуски 0 (нет балконов)\n",
    "real_estate['balcony'].fillna(0, inplace=True)"
   ]
  },
  {
   "cell_type": "markdown",
   "metadata": {},
   "source": [
    "##### locality_name"
   ]
  },
  {
   "cell_type": "code",
   "execution_count": 20,
   "metadata": {},
   "outputs": [
    {
     "data": {
      "text/plain": [
       "(49, 0.20675977889362418)"
      ]
     },
     "execution_count": 20,
     "metadata": {},
     "output_type": "execute_result"
    }
   ],
   "source": [
    "# посмотрим на  пропуски населенных пунктов\n",
    "real_estate['locality_name'].isnull().sum(), real_estate['locality_name'].isnull().sum() / real_estate.shape[0] * 100"
   ]
  },
  {
   "cell_type": "code",
   "execution_count": 21,
   "metadata": {},
   "outputs": [],
   "source": [
    "# мало пропусков, поэтому мы удалим строки без населенных пунктов\n",
    "real_estate = real_estate.dropna(subset=['locality_name']).reset_index(drop=True)"
   ]
  },
  {
   "cell_type": "markdown",
   "metadata": {},
   "source": [
    "##### floors_total"
   ]
  },
  {
   "cell_type": "code",
   "execution_count": 22,
   "metadata": {},
   "outputs": [
    {
     "data": {
      "text/plain": [
       "(85, 0.3594080338266385)"
      ]
     },
     "execution_count": 22,
     "metadata": {},
     "output_type": "execute_result"
    }
   ],
   "source": [
    "# посмотрим на кол-во этажей\n",
    "real_estate['floors_total'].isnull().sum(), real_estate['floors_total'].isnull().sum() / real_estate.shape[0] * 100"
   ]
  },
  {
   "cell_type": "code",
   "execution_count": 23,
   "metadata": {},
   "outputs": [],
   "source": [
    "# пропусков 0.36% поэтому просто удалим эти строки\n",
    "# real_estate = real_estate.dropna(subset=['floors_total']).reset_index(drop=True)"
   ]
  },
  {
   "cell_type": "code",
   "execution_count": 24,
   "metadata": {},
   "outputs": [],
   "source": [
    "# заполоним пропуски этажности дома текуим этажом квартиры\n",
    "real_estate.loc[real_estate['floors_total'].isnull(), 'floors_total'] = real_estate.loc[real_estate['floors_total'].isnull(), 'floor']"
   ]
  },
  {
   "cell_type": "code",
   "execution_count": 25,
   "metadata": {},
   "outputs": [
    {
     "data": {
      "text/plain": [
       "(0, 0.0)"
      ]
     },
     "execution_count": 25,
     "metadata": {},
     "output_type": "execute_result"
    }
   ],
   "source": [
    "# проверим что все заполнилось\n",
    "real_estate['floors_total'].isnull().sum(), real_estate['floors_total'].isnull().sum() / real_estate.shape[0] * 100"
   ]
  },
  {
   "cell_type": "markdown",
   "metadata": {},
   "source": [
    "##### parks_around3000 и ponds_around3000"
   ]
  },
  {
   "cell_type": "code",
   "execution_count": 26,
   "metadata": {},
   "outputs": [],
   "source": [
    "# скорее всего не заполненные число парков и водоемов означает их отсутствие, заполним 0\n",
    "real_estate['parks_around3000'].fillna(0, inplace=True)\n",
    "real_estate['ponds_around3000'].fillna(0, inplace=True)"
   ]
  },
  {
   "cell_type": "code",
   "execution_count": 27,
   "metadata": {},
   "outputs": [
    {
     "data": {
      "text/plain": [
       "(0, 0)"
      ]
     },
     "execution_count": 27,
     "metadata": {},
     "output_type": "execute_result"
    }
   ],
   "source": [
    "# проверим что не получилось так что кол-во парков в 3х км равно 0, \n",
    "# а есть значение в столбце расстояние до ближайшего меньше 3х км.\n",
    "(\n",
    "    real_estate.query('parks_around3000 == 0 and parks_nearest <= 3000')['parks_around3000'].count(),\n",
    "    real_estate.query('ponds_around3000 == 0 and ponds_nearest <= 3000')['ponds_around3000'].count()\n",
    ")"
   ]
  },
  {
   "cell_type": "markdown",
   "metadata": {},
   "source": [
    "##### kitchen_area"
   ]
  },
  {
   "cell_type": "code",
   "execution_count": 28,
   "metadata": {
    "scrolled": true
   },
   "outputs": [
    {
     "data": {
      "text/plain": [
       "is_studio\n",
       "False    2120\n",
       "True      149\n",
       "Name: is_studio, dtype: int64"
      ]
     },
     "execution_count": 28,
     "metadata": {},
     "output_type": "execute_result"
    }
   ],
   "source": [
    "# посмотрим сначала на пропуски в студиях\n",
    "real_estate.query('kitchen_area.isnull()').groupby('is_studio')['is_studio'].count()"
   ]
  },
  {
   "cell_type": "code",
   "execution_count": 29,
   "metadata": {
    "scrolled": true
   },
   "outputs": [
    {
     "data": {
      "text/html": [
       "<div>\n",
       "<style scoped>\n",
       "    .dataframe tbody tr th:only-of-type {\n",
       "        vertical-align: middle;\n",
       "    }\n",
       "\n",
       "    .dataframe tbody tr th {\n",
       "        vertical-align: top;\n",
       "    }\n",
       "\n",
       "    .dataframe thead th {\n",
       "        text-align: right;\n",
       "    }\n",
       "</style>\n",
       "<table border=\"1\" class=\"dataframe\">\n",
       "  <thead>\n",
       "    <tr style=\"text-align: right;\">\n",
       "      <th></th>\n",
       "      <th>is_studio</th>\n",
       "      <th>total_area</th>\n",
       "      <th>living_area</th>\n",
       "      <th>kitchen_area</th>\n",
       "    </tr>\n",
       "  </thead>\n",
       "  <tbody>\n",
       "  </tbody>\n",
       "</table>\n",
       "</div>"
      ],
      "text/plain": [
       "Empty DataFrame\n",
       "Columns: [is_studio, total_area, living_area, kitchen_area]\n",
       "Index: []"
      ]
     },
     "execution_count": 29,
     "metadata": {},
     "output_type": "execute_result"
    }
   ],
   "source": [
    "# посмотрим сначала на значения площадей в студиях\n",
    "real_estate.query('is_studio == True and kitchen_area.notnull()')[['is_studio', 'total_area', 'living_area', 'kitchen_area']].head()"
   ]
  },
  {
   "cell_type": "code",
   "execution_count": 30,
   "metadata": {},
   "outputs": [],
   "source": [
    "# т.к. площадь кухни в студии не указывается, то заполним её 0\n",
    "real_estate.loc[(real_estate['kitchen_area'].isnull()) & (real_estate['is_studio'] == True), 'kitchen_area'] = 0"
   ]
  },
  {
   "cell_type": "code",
   "execution_count": 31,
   "metadata": {},
   "outputs": [],
   "source": [
    "# оставшиеся пропуски посчитаем как (медиана площади кухни / медиана общая площадь) * общая площадь (текущая)\n",
    "kitchen_area_median = real_estate.query('is_studio == False')['kitchen_area'].median()\n",
    "total_area_median = real_estate.query('is_studio == False')['total_area'].median()\n",
    "k = kitchen_area_median / total_area_median\n",
    "\n",
    "real_estate.loc[real_estate['kitchen_area'].isnull(), 'kitchen_area'] = real_estate.loc[real_estate['kitchen_area'].isnull(), 'total_area'] * k"
   ]
  },
  {
   "cell_type": "markdown",
   "metadata": {},
   "source": [
    "##### living_area"
   ]
  },
  {
   "cell_type": "code",
   "execution_count": 32,
   "metadata": {},
   "outputs": [],
   "source": [
    "# пропуски посчитаем как (медиана жилой площади / медиана общая площадь) * общая площадь (текущая)\n",
    "living_area_median = real_estate['living_area'].median()\n",
    "total_area_median = real_estate['total_area'].median()\n",
    "k = living_area_median / total_area_median\n",
    "\n",
    "real_estate.loc[real_estate['living_area'].isnull(), 'living_area'] = real_estate.loc[real_estate['living_area'].isnull(), 'total_area'] * k"
   ]
  },
  {
   "cell_type": "markdown",
   "metadata": {},
   "source": [
    "##### parks_nearest"
   ]
  },
  {
   "cell_type": "code",
   "execution_count": 33,
   "metadata": {},
   "outputs": [
    {
     "data": {
      "text/plain": [
       "(12, 352)"
      ]
     },
     "execution_count": 33,
     "metadata": {},
     "output_type": "execute_result"
    }
   ],
   "source": [
    "# посмотрим сразу ближайшие парки по населенным пунктам\n",
    "parks_nearest = real_estate.groupby('locality_name')['parks_nearest'].median()\n",
    "(parks_nearest.notnull().sum(), parks_nearest.isnull().sum())"
   ]
  },
  {
   "cell_type": "code",
   "execution_count": 34,
   "metadata": {
    "scrolled": false
   },
   "outputs": [],
   "source": [
    "# по населенным пунктам где есть ближайшие парки заполним медианой\n",
    "def nearest_median(row):\n",
    "    return parks_nearest.loc[row['locality_name']]\n",
    "\n",
    "real_estate.loc[real_estate['parks_nearest'].isnull(),'parks_nearest'] = real_estate.apply(nearest_median, axis=1)"
   ]
  },
  {
   "cell_type": "markdown",
   "metadata": {},
   "source": [
    "##### ponds_nearest"
   ]
  },
  {
   "cell_type": "code",
   "execution_count": 35,
   "metadata": {},
   "outputs": [
    {
     "data": {
      "text/plain": [
       "(19, 345)"
      ]
     },
     "execution_count": 35,
     "metadata": {},
     "output_type": "execute_result"
    }
   ],
   "source": [
    "# посмотрим сразу ближайшие водоемы по населенным пунктам\n",
    "ponds_nearest = real_estate.groupby('locality_name')['ponds_nearest'].median()\n",
    "(ponds_nearest.notnull().sum(), ponds_nearest.isnull().sum())"
   ]
  },
  {
   "cell_type": "code",
   "execution_count": 36,
   "metadata": {},
   "outputs": [],
   "source": [
    "# по населенным пунктам где есть ближайшие водоемы заполним медианой\n",
    "def nearest_median(row):\n",
    "    return ponds_nearest.loc[row['locality_name']]\n",
    "\n",
    "real_estate.loc[real_estate['ponds_nearest'].isnull(),'ponds_nearest'] = real_estate.apply(nearest_median, axis=1)"
   ]
  },
  {
   "cell_type": "markdown",
   "metadata": {},
   "source": [
    "##### airports_nearest"
   ]
  },
  {
   "cell_type": "code",
   "execution_count": 37,
   "metadata": {},
   "outputs": [
    {
     "data": {
      "text/plain": [
       "(28, 336)"
      ]
     },
     "execution_count": 37,
     "metadata": {},
     "output_type": "execute_result"
    }
   ],
   "source": [
    "# посмотрим сразу аэропорты по населенным пунктам\n",
    "airports_nearest = real_estate.groupby('locality_name')['airports_nearest'].median()\n",
    "(airports_nearest.notnull().sum(), airports_nearest.isnull().sum())"
   ]
  },
  {
   "cell_type": "code",
   "execution_count": 38,
   "metadata": {},
   "outputs": [],
   "source": [
    "# по населенным пунктам где есть ближайшие аэропорты заполним медианой\n",
    "def nearest_median(row):\n",
    "    return airports_nearest.loc[row['locality_name']]\n",
    "\n",
    "real_estate.loc[real_estate['airports_nearest'].isnull(),'airports_nearest'] = real_estate.apply(nearest_median, axis=1)"
   ]
  },
  {
   "cell_type": "markdown",
   "metadata": {},
   "source": [
    "##### city_centers_nearest"
   ]
  },
  {
   "cell_type": "code",
   "execution_count": 39,
   "metadata": {},
   "outputs": [
    {
     "data": {
      "text/plain": [
       "(28, 336)"
      ]
     },
     "execution_count": 39,
     "metadata": {},
     "output_type": "execute_result"
    }
   ],
   "source": [
    "# посмотрим сразу ближайшие водоемы по населенным пунктам\n",
    "city_centers_nearest = real_estate.groupby('locality_name')['city_centers_nearest'].median()\n",
    "(city_centers_nearest.notnull().sum(), city_centers_nearest.isnull().sum())"
   ]
  },
  {
   "cell_type": "code",
   "execution_count": 40,
   "metadata": {},
   "outputs": [],
   "source": [
    "# по населенным пунктам где есть ближайшие водоемы заполним медианой\n",
    "def nearest_median(row):\n",
    "    return city_centers_nearest.loc[row['locality_name']]\n",
    "\n",
    "real_estate.loc[real_estate['city_centers_nearest'].isnull(),'city_centers_nearest'] = real_estate.apply(nearest_median, axis=1)"
   ]
  },
  {
   "cell_type": "markdown",
   "metadata": {},
   "source": [
    "Проверим что все необходимые пропуски мы заполнили"
   ]
  },
  {
   "cell_type": "code",
   "execution_count": 41,
   "metadata": {
    "scrolled": false
   },
   "outputs": [
    {
     "data": {
      "text/plain": [
       "parks_nearest           5998\n",
       "ponds_nearest           5494\n",
       "airports_nearest        5386\n",
       "city_centers_nearest    5386\n",
       "days_exposition         3180\n",
       "ponds_around3000           0\n",
       "floors_total               0\n",
       "rooms                      0\n",
       "balcony                    0\n",
       "total_area                 0\n",
       "living_area                0\n",
       "kitchen_area               0\n",
       "floor                      0\n",
       "last_price                 0\n",
       "first_day_exposition       0\n",
       "parks_around3000           0\n",
       "total_images               0\n",
       "ceiling_height             0\n",
       "is_apartment               0\n",
       "is_studio                  0\n",
       "is_open_plan               0\n",
       "locality_name              0\n",
       "dtype: int64"
      ]
     },
     "execution_count": 41,
     "metadata": {},
     "output_type": "execute_result"
    }
   ],
   "source": [
    "# вернемся к пропускам\n",
    "real_estate.isnull().sum().sort_values(ascending=False)"
   ]
  },
  {
   "cell_type": "markdown",
   "metadata": {},
   "source": [
    "#### Замена типа данных"
   ]
  },
  {
   "cell_type": "code",
   "execution_count": 42,
   "metadata": {},
   "outputs": [
    {
     "name": "stdout",
     "output_type": "stream",
     "text": [
      "<class 'pandas.core.frame.DataFrame'>\n",
      "RangeIndex: 23650 entries, 0 to 23649\n",
      "Data columns (total 6 columns):\n",
      "first_day_exposition    23650 non-null object\n",
      "balcony                 23650 non-null float64\n",
      "floors_total            23650 non-null float64\n",
      "parks_around3000        23650 non-null float64\n",
      "ponds_around3000        23650 non-null float64\n",
      "last_price              23650 non-null float64\n",
      "dtypes: float64(5), object(1)\n",
      "memory usage: 1.1+ MB\n"
     ]
    }
   ],
   "source": [
    "# столбцы с типами которые мы будем менять\n",
    "real_estate[['first_day_exposition', 'balcony', 'floors_total', 'parks_around3000', 'ponds_around3000', 'last_price']].info()"
   ]
  },
  {
   "cell_type": "code",
   "execution_count": 43,
   "metadata": {
    "scrolled": true
   },
   "outputs": [
    {
     "data": {
      "text/plain": [
       "0    2019-03-07T00:00:00\n",
       "1    2018-12-04T00:00:00\n",
       "2    2015-08-20T00:00:00\n",
       "3    2015-07-24T00:00:00\n",
       "4    2018-06-19T00:00:00\n",
       "Name: first_day_exposition, dtype: object"
      ]
     },
     "execution_count": 43,
     "metadata": {},
     "output_type": "execute_result"
    }
   ],
   "source": [
    "# посмотрим на дату публикации\n",
    "real_estate['first_day_exposition'].head()"
   ]
  },
  {
   "cell_type": "code",
   "execution_count": 44,
   "metadata": {},
   "outputs": [],
   "source": [
    "# конвертируем в дату\n",
    "real_estate['first_day_exposition'] = pd.to_datetime(real_estate['first_day_exposition'], format=\"%Y-%m-%dT%H:%M:%S\")"
   ]
  },
  {
   "cell_type": "code",
   "execution_count": 45,
   "metadata": {},
   "outputs": [],
   "source": [
    "# конвертируем оставшиеся столбцы которые надо привести к целому числу\n",
    "columns = ['balcony', 'floors_total', 'parks_around3000', 'ponds_around3000', 'last_price']\n",
    "\n",
    "for column in columns:\n",
    "    real_estate[column] = real_estate[column].round(0).astype('int64')"
   ]
  },
  {
   "cell_type": "code",
   "execution_count": 46,
   "metadata": {
    "scrolled": false
   },
   "outputs": [
    {
     "name": "stdout",
     "output_type": "stream",
     "text": [
      "<class 'pandas.core.frame.DataFrame'>\n",
      "RangeIndex: 23650 entries, 0 to 23649\n",
      "Data columns (total 22 columns):\n",
      "locality_name           23650 non-null object\n",
      "rooms                   23650 non-null int64\n",
      "balcony                 23650 non-null int64\n",
      "total_area              23650 non-null float64\n",
      "living_area             23650 non-null float64\n",
      "kitchen_area            23650 non-null float64\n",
      "floor                   23650 non-null int64\n",
      "floors_total            23650 non-null int64\n",
      "first_day_exposition    23650 non-null datetime64[ns]\n",
      "days_exposition         20470 non-null float64\n",
      "last_price              23650 non-null int64\n",
      "total_images            23650 non-null int64\n",
      "ceiling_height          23650 non-null float64\n",
      "is_apartment            23650 non-null bool\n",
      "is_studio               23650 non-null bool\n",
      "is_open_plan            23650 non-null bool\n",
      "city_centers_nearest    18264 non-null float64\n",
      "parks_nearest           17652 non-null float64\n",
      "ponds_nearest           18156 non-null float64\n",
      "airports_nearest        18264 non-null float64\n",
      "parks_around3000        23650 non-null int64\n",
      "ponds_around3000        23650 non-null int64\n",
      "dtypes: bool(3), datetime64[ns](1), float64(9), int64(8), object(1)\n",
      "memory usage: 3.5+ MB\n"
     ]
    }
   ],
   "source": [
    "# Проверим что все типы стали такими как мы хотели\n",
    "real_estate.info()"
   ]
  },
  {
   "cell_type": "markdown",
   "metadata": {},
   "source": [
    "**Вывод**\n",
    "\n",
    "- Высоту потолков мы заполнили медианой.\n",
    "- Кол-во балконов мы заполнили 0-ми, так как их могли просто не заполнить из-за отсутствия.\n",
    "- Строки с пропусками населенных пунктов мы оставили, для анализа не будет мешать.\n",
    "- Строки с кол-вом этажей в доме мы тоже ришили осавить, для анализа не помешает.\n",
    "- Заполонили нолями кол-во парков и водоемов в 3х км.\n",
    "- Посчитали площадь кухни и жилую площадь у пропущенных.\n",
    "- Посчитали медианное расстояние до парков, водоемов, аэропортов и центра города в зависимости от населенного пункта и заполнили пропуски.\n",
    "- Заменили типы данных даты размещения, кол-ва балконов, кол-ва этажей в доме, кол-во парков и водоемов в 3хм и цены."
   ]
  },
  {
   "cell_type": "markdown",
   "metadata": {},
   "source": [
    "### Шаг 3. Посчитайте и добавьте в таблицу\n",
    "<a id=\"step_3\"></a>"
   ]
  },
  {
   "cell_type": "markdown",
   "metadata": {},
   "source": [
    "#### Цена квадратного метра"
   ]
  },
  {
   "cell_type": "code",
   "execution_count": 47,
   "metadata": {},
   "outputs": [],
   "source": [
    "real_estate['price_per_meter'] = (real_estate['last_price'] / real_estate['total_area']).round(0).astype('int64')"
   ]
  },
  {
   "cell_type": "code",
   "execution_count": 48,
   "metadata": {
    "scrolled": true
   },
   "outputs": [
    {
     "data": {
      "text/html": [
       "<div>\n",
       "<style scoped>\n",
       "    .dataframe tbody tr th:only-of-type {\n",
       "        vertical-align: middle;\n",
       "    }\n",
       "\n",
       "    .dataframe tbody tr th {\n",
       "        vertical-align: top;\n",
       "    }\n",
       "\n",
       "    .dataframe thead th {\n",
       "        text-align: right;\n",
       "    }\n",
       "</style>\n",
       "<table border=\"1\" class=\"dataframe\">\n",
       "  <thead>\n",
       "    <tr style=\"text-align: right;\">\n",
       "      <th></th>\n",
       "      <th>locality_name</th>\n",
       "      <th>rooms</th>\n",
       "      <th>last_price</th>\n",
       "      <th>total_area</th>\n",
       "      <th>price_per_meter</th>\n",
       "    </tr>\n",
       "  </thead>\n",
       "  <tbody>\n",
       "    <tr>\n",
       "      <td>1191</td>\n",
       "      <td>Санкт-Петербург</td>\n",
       "      <td>2</td>\n",
       "      <td>12000000</td>\n",
       "      <td>77.6</td>\n",
       "      <td>154639</td>\n",
       "    </tr>\n",
       "    <tr>\n",
       "      <td>20002</td>\n",
       "      <td>Санкт-Петербург</td>\n",
       "      <td>2</td>\n",
       "      <td>6100000</td>\n",
       "      <td>56.3</td>\n",
       "      <td>108348</td>\n",
       "    </tr>\n",
       "    <tr>\n",
       "      <td>19673</td>\n",
       "      <td>Санкт-Петербург</td>\n",
       "      <td>3</td>\n",
       "      <td>3700000</td>\n",
       "      <td>50.0</td>\n",
       "      <td>74000</td>\n",
       "    </tr>\n",
       "    <tr>\n",
       "      <td>5416</td>\n",
       "      <td>Санкт-Петербург</td>\n",
       "      <td>1</td>\n",
       "      <td>3300000</td>\n",
       "      <td>38.0</td>\n",
       "      <td>86842</td>\n",
       "    </tr>\n",
       "    <tr>\n",
       "      <td>8481</td>\n",
       "      <td>Санкт-Петербург</td>\n",
       "      <td>1</td>\n",
       "      <td>2950000</td>\n",
       "      <td>30.3</td>\n",
       "      <td>97360</td>\n",
       "    </tr>\n",
       "  </tbody>\n",
       "</table>\n",
       "</div>"
      ],
      "text/plain": [
       "         locality_name  rooms  last_price  total_area  price_per_meter\n",
       "1191   Санкт-Петербург      2    12000000        77.6           154639\n",
       "20002  Санкт-Петербург      2     6100000        56.3           108348\n",
       "19673  Санкт-Петербург      3     3700000        50.0            74000\n",
       "5416   Санкт-Петербург      1     3300000        38.0            86842\n",
       "8481   Санкт-Петербург      1     2950000        30.3            97360"
      ]
     },
     "execution_count": 48,
     "metadata": {},
     "output_type": "execute_result"
    }
   ],
   "source": [
    "# посмотрим что получилось\n",
    "real_estate[['locality_name', 'rooms', 'last_price', 'total_area', 'price_per_meter']].sample(5)"
   ]
  },
  {
   "cell_type": "markdown",
   "metadata": {},
   "source": [
    "#### День недели, месяц и год публикации объявления"
   ]
  },
  {
   "cell_type": "code",
   "execution_count": 49,
   "metadata": {},
   "outputs": [],
   "source": [
    "real_estate['weekday_exposition'] = real_estate['first_day_exposition'].dt.dayofweek\n",
    "real_estate['month_exposition'] = real_estate['first_day_exposition'].dt.month\n",
    "real_estate['year_exposition'] = real_estate['first_day_exposition'].dt.year"
   ]
  },
  {
   "cell_type": "code",
   "execution_count": 50,
   "metadata": {},
   "outputs": [
    {
     "data": {
      "text/html": [
       "<div>\n",
       "<style scoped>\n",
       "    .dataframe tbody tr th:only-of-type {\n",
       "        vertical-align: middle;\n",
       "    }\n",
       "\n",
       "    .dataframe tbody tr th {\n",
       "        vertical-align: top;\n",
       "    }\n",
       "\n",
       "    .dataframe thead th {\n",
       "        text-align: right;\n",
       "    }\n",
       "</style>\n",
       "<table border=\"1\" class=\"dataframe\">\n",
       "  <thead>\n",
       "    <tr style=\"text-align: right;\">\n",
       "      <th></th>\n",
       "      <th>locality_name</th>\n",
       "      <th>first_day_exposition</th>\n",
       "      <th>weekday_exposition</th>\n",
       "      <th>month_exposition</th>\n",
       "      <th>year_exposition</th>\n",
       "    </tr>\n",
       "  </thead>\n",
       "  <tbody>\n",
       "    <tr>\n",
       "      <td>15132</td>\n",
       "      <td>Санкт-Петербург</td>\n",
       "      <td>2017-09-27</td>\n",
       "      <td>2</td>\n",
       "      <td>9</td>\n",
       "      <td>2017</td>\n",
       "    </tr>\n",
       "    <tr>\n",
       "      <td>17142</td>\n",
       "      <td>Санкт-Петербург</td>\n",
       "      <td>2019-04-30</td>\n",
       "      <td>1</td>\n",
       "      <td>4</td>\n",
       "      <td>2019</td>\n",
       "    </tr>\n",
       "    <tr>\n",
       "      <td>8958</td>\n",
       "      <td>Санкт-Петербург</td>\n",
       "      <td>2018-02-01</td>\n",
       "      <td>3</td>\n",
       "      <td>2</td>\n",
       "      <td>2018</td>\n",
       "    </tr>\n",
       "    <tr>\n",
       "      <td>15366</td>\n",
       "      <td>Санкт-Петербург</td>\n",
       "      <td>2018-03-02</td>\n",
       "      <td>4</td>\n",
       "      <td>3</td>\n",
       "      <td>2018</td>\n",
       "    </tr>\n",
       "    <tr>\n",
       "      <td>6948</td>\n",
       "      <td>Ломоносов</td>\n",
       "      <td>2015-05-06</td>\n",
       "      <td>2</td>\n",
       "      <td>5</td>\n",
       "      <td>2015</td>\n",
       "    </tr>\n",
       "  </tbody>\n",
       "</table>\n",
       "</div>"
      ],
      "text/plain": [
       "         locality_name first_day_exposition  weekday_exposition  \\\n",
       "15132  Санкт-Петербург           2017-09-27                   2   \n",
       "17142  Санкт-Петербург           2019-04-30                   1   \n",
       "8958   Санкт-Петербург           2018-02-01                   3   \n",
       "15366  Санкт-Петербург           2018-03-02                   4   \n",
       "6948         Ломоносов           2015-05-06                   2   \n",
       "\n",
       "       month_exposition  year_exposition  \n",
       "15132                 9             2017  \n",
       "17142                 4             2019  \n",
       "8958                  2             2018  \n",
       "15366                 3             2018  \n",
       "6948                  5             2015  "
      ]
     },
     "execution_count": 50,
     "metadata": {},
     "output_type": "execute_result"
    }
   ],
   "source": [
    "# проверим что получилось\n",
    "real_estate[['locality_name', 'first_day_exposition', 'weekday_exposition', 'month_exposition', 'year_exposition']].sample(5)"
   ]
  },
  {
   "cell_type": "markdown",
   "metadata": {},
   "source": [
    "#### Этаж квартиры: варианты — первый, последний, другой"
   ]
  },
  {
   "cell_type": "code",
   "execution_count": 51,
   "metadata": {},
   "outputs": [],
   "source": [
    "# разобьем на 3 категории применением функции к строке: первый, последний, другой\n",
    "def floor_categorize(row):\n",
    "    if row['floor'] == 1:\n",
    "        return 'первый'\n",
    "    elif row['floor'] == row['floors_total']:\n",
    "        return 'последний'\n",
    "    else:\n",
    "        return 'другой'\n",
    "    \n",
    "real_estate['floor_category'] = real_estate.apply(floor_categorize, axis=1)"
   ]
  },
  {
   "cell_type": "code",
   "execution_count": 52,
   "metadata": {},
   "outputs": [
    {
     "data": {
      "text/plain": [
       "другой       17326\n",
       "последний     3412\n",
       "первый        2912\n",
       "Name: floor_category, dtype: int64"
      ]
     },
     "execution_count": 52,
     "metadata": {},
     "output_type": "execute_result"
    }
   ],
   "source": [
    "# посмотрим как распределились этажи\n",
    "real_estate['floor_category'].value_counts()"
   ]
  },
  {
   "cell_type": "code",
   "execution_count": 53,
   "metadata": {
    "scrolled": true
   },
   "outputs": [
    {
     "data": {
      "text/html": [
       "<div>\n",
       "<style scoped>\n",
       "    .dataframe tbody tr th:only-of-type {\n",
       "        vertical-align: middle;\n",
       "    }\n",
       "\n",
       "    .dataframe tbody tr th {\n",
       "        vertical-align: top;\n",
       "    }\n",
       "\n",
       "    .dataframe thead th {\n",
       "        text-align: right;\n",
       "    }\n",
       "</style>\n",
       "<table border=\"1\" class=\"dataframe\">\n",
       "  <thead>\n",
       "    <tr style=\"text-align: right;\">\n",
       "      <th></th>\n",
       "      <th>locality_name</th>\n",
       "      <th>floor</th>\n",
       "      <th>floors_total</th>\n",
       "      <th>floor_category</th>\n",
       "    </tr>\n",
       "  </thead>\n",
       "  <tbody>\n",
       "    <tr>\n",
       "      <td>9736</td>\n",
       "      <td>деревня Сижно</td>\n",
       "      <td>1</td>\n",
       "      <td>1</td>\n",
       "      <td>первый</td>\n",
       "    </tr>\n",
       "    <tr>\n",
       "      <td>22808</td>\n",
       "      <td>Зеленогорск</td>\n",
       "      <td>1</td>\n",
       "      <td>1</td>\n",
       "      <td>первый</td>\n",
       "    </tr>\n",
       "    <tr>\n",
       "      <td>237</td>\n",
       "      <td>Санкт-Петербург</td>\n",
       "      <td>1</td>\n",
       "      <td>1</td>\n",
       "      <td>первый</td>\n",
       "    </tr>\n",
       "    <tr>\n",
       "      <td>8321</td>\n",
       "      <td>Луга</td>\n",
       "      <td>1</td>\n",
       "      <td>1</td>\n",
       "      <td>первый</td>\n",
       "    </tr>\n",
       "    <tr>\n",
       "      <td>5292</td>\n",
       "      <td>поселок станции Вещево</td>\n",
       "      <td>1</td>\n",
       "      <td>1</td>\n",
       "      <td>первый</td>\n",
       "    </tr>\n",
       "  </tbody>\n",
       "</table>\n",
       "</div>"
      ],
      "text/plain": [
       "                locality_name  floor  floors_total floor_category\n",
       "9736            деревня Сижно      1             1         первый\n",
       "22808             Зеленогорск      1             1         первый\n",
       "237           Санкт-Петербург      1             1         первый\n",
       "8321                     Луга      1             1         первый\n",
       "5292   поселок станции Вещево      1             1         первый"
      ]
     },
     "execution_count": 53,
     "metadata": {},
     "output_type": "execute_result"
    }
   ],
   "source": [
    "# и посмотрим что случилось с одноэтажной недвижимостью\n",
    "real_estate.query('floor == floors_total and floor == 1')[['locality_name', 'floor', 'floors_total', 'floor_category']].sample(5)"
   ]
  },
  {
   "cell_type": "markdown",
   "metadata": {},
   "source": [
    "Мы пока на результат выше обращать внимания не будем, но думаю обладателям одноэтажных частных домов не понравилось бы что их отнесли к квартирам на первом этаже."
   ]
  },
  {
   "cell_type": "markdown",
   "metadata": {},
   "source": [
    "#### Соотношение жилой и общей площади, а также отношение площади кухни к общей"
   ]
  },
  {
   "cell_type": "code",
   "execution_count": 54,
   "metadata": {},
   "outputs": [],
   "source": [
    "# поделим жилую площадь на общую\n",
    "real_estate['living_area_ratio'] = real_estate['living_area'] / real_estate['total_area']"
   ]
  },
  {
   "cell_type": "code",
   "execution_count": 55,
   "metadata": {},
   "outputs": [],
   "source": [
    "# поделим площадь кухни на общую\n",
    "real_estate['kitchen_area_ratio'] = real_estate['kitchen_area'] / real_estate['total_area']"
   ]
  },
  {
   "cell_type": "code",
   "execution_count": 56,
   "metadata": {},
   "outputs": [
    {
     "data": {
      "text/html": [
       "<div>\n",
       "<style scoped>\n",
       "    .dataframe tbody tr th:only-of-type {\n",
       "        vertical-align: middle;\n",
       "    }\n",
       "\n",
       "    .dataframe tbody tr th {\n",
       "        vertical-align: top;\n",
       "    }\n",
       "\n",
       "    .dataframe thead th {\n",
       "        text-align: right;\n",
       "    }\n",
       "</style>\n",
       "<table border=\"1\" class=\"dataframe\">\n",
       "  <thead>\n",
       "    <tr style=\"text-align: right;\">\n",
       "      <th></th>\n",
       "      <th>locality_name</th>\n",
       "      <th>total_area</th>\n",
       "      <th>living_area</th>\n",
       "      <th>kitchen_area</th>\n",
       "      <th>living_area_ratio</th>\n",
       "      <th>kitchen_area_ratio</th>\n",
       "    </tr>\n",
       "  </thead>\n",
       "  <tbody>\n",
       "    <tr>\n",
       "      <td>5454</td>\n",
       "      <td>Санкт-Петербург</td>\n",
       "      <td>51.64</td>\n",
       "      <td>18.95</td>\n",
       "      <td>18.34</td>\n",
       "      <td>0.366964</td>\n",
       "      <td>0.355151</td>\n",
       "    </tr>\n",
       "    <tr>\n",
       "      <td>18946</td>\n",
       "      <td>Санкт-Петербург</td>\n",
       "      <td>140.70</td>\n",
       "      <td>80.20</td>\n",
       "      <td>14.10</td>\n",
       "      <td>0.570007</td>\n",
       "      <td>0.100213</td>\n",
       "    </tr>\n",
       "    <tr>\n",
       "      <td>3487</td>\n",
       "      <td>Санкт-Петербург</td>\n",
       "      <td>72.00</td>\n",
       "      <td>36.00</td>\n",
       "      <td>14.00</td>\n",
       "      <td>0.500000</td>\n",
       "      <td>0.194444</td>\n",
       "    </tr>\n",
       "    <tr>\n",
       "      <td>20030</td>\n",
       "      <td>Всеволожск</td>\n",
       "      <td>51.00</td>\n",
       "      <td>30.60</td>\n",
       "      <td>8.00</td>\n",
       "      <td>0.600000</td>\n",
       "      <td>0.156863</td>\n",
       "    </tr>\n",
       "    <tr>\n",
       "      <td>1295</td>\n",
       "      <td>посёлок Парголово</td>\n",
       "      <td>38.20</td>\n",
       "      <td>14.70</td>\n",
       "      <td>12.70</td>\n",
       "      <td>0.384817</td>\n",
       "      <td>0.332461</td>\n",
       "    </tr>\n",
       "  </tbody>\n",
       "</table>\n",
       "</div>"
      ],
      "text/plain": [
       "           locality_name  total_area  living_area  kitchen_area  \\\n",
       "5454     Санкт-Петербург       51.64        18.95         18.34   \n",
       "18946    Санкт-Петербург      140.70        80.20         14.10   \n",
       "3487     Санкт-Петербург       72.00        36.00         14.00   \n",
       "20030         Всеволожск       51.00        30.60          8.00   \n",
       "1295   посёлок Парголово       38.20        14.70         12.70   \n",
       "\n",
       "       living_area_ratio  kitchen_area_ratio  \n",
       "5454            0.366964            0.355151  \n",
       "18946           0.570007            0.100213  \n",
       "3487            0.500000            0.194444  \n",
       "20030           0.600000            0.156863  \n",
       "1295            0.384817            0.332461  "
      ]
     },
     "execution_count": 56,
     "metadata": {},
     "output_type": "execute_result"
    }
   ],
   "source": [
    "# посмотрим на случайные объявления и результат расчетов\n",
    "real_estate[['locality_name', 'total_area', 'living_area', 'kitchen_area', 'living_area_ratio', 'kitchen_area_ratio']].sample(5)"
   ]
  },
  {
   "cell_type": "markdown",
   "metadata": {},
   "source": [
    "**Вывод**\n",
    "\n",
    "Мы посчитали стоимость квадратного метра и округлили его до целого числа.\n",
    "\n",
    "Выделили день недели, месяц и год от даты размещения.\n",
    "\n",
    "Категоризировали этажи на: первый, последний и другой.\n",
    "\n",
    "И посчитали соотношение жилой и общей площади, кухни и общей площади."
   ]
  },
  {
   "cell_type": "markdown",
   "metadata": {},
   "source": [
    "### Шаг 4. Проведите исследовательский анализ данных и выполните инструкции:\n",
    "<a id=\"step_4\"></a>"
   ]
  },
  {
   "cell_type": "markdown",
   "metadata": {},
   "source": [
    "#### 4.1 Изучите следующие параметры: площадь, цена, число комнат, высота потолков. Постройте гистограммы для каждого параметра"
   ]
  },
  {
   "cell_type": "code",
   "execution_count": 57,
   "metadata": {
    "scrolled": false
   },
   "outputs": [
    {
     "data": {
      "text/plain": [
       "count    23650.000000\n",
       "mean        60.329069\n",
       "std         35.661808\n",
       "min         12.000000\n",
       "25%         40.000000\n",
       "50%         52.000000\n",
       "75%         69.700000\n",
       "max        900.000000\n",
       "Name: total_area, dtype: float64"
      ]
     },
     "execution_count": 57,
     "metadata": {},
     "output_type": "execute_result"
    }
   ],
   "source": [
    "# посмотрим на общую площадь\n",
    "real_estate['total_area'].describe()"
   ]
  },
  {
   "cell_type": "markdown",
   "metadata": {},
   "source": [
    "75% объявлений с квартирами до 70 кв. м., при том что максимально значение 900 квм, значит на гистограмме у нас будет длинный хвост."
   ]
  },
  {
   "cell_type": "code",
   "execution_count": 58,
   "metadata": {
    "scrolled": false
   },
   "outputs": [
    {
     "data": {
      "image/png": "[encoded data removed]",
      "text/plain": [
       "<Figure size 720x288 with 1 Axes>"
      ]
     },
     "metadata": {
      "needs_background": "light"
     },
     "output_type": "display_data"
    }
   ],
   "source": [
    "# построим гистограмму по общей площади\n",
    "ax = real_estate['total_area'].plot(kind='hist', bins=30, figsize=(10, 4), grid=True, title='total_area')\n",
    "ax.set(xlabel=\"total_area\", ylabel=\"count\")\n",
    "plt.show()"
   ]
  },
  {
   "cell_type": "markdown",
   "metadata": {},
   "source": [
    "После 200 кв м, столцов практически не видно, значит квартир с площадью от 200 кв м и больше очень мало.\n",
    "Дополнительно посмотрим в диапазоне от 0 до 200 кв. м. и разбить на 20 корзин"
   ]
  },
  {
   "cell_type": "code",
   "execution_count": 59,
   "metadata": {},
   "outputs": [
    {
     "data": {
      "image/png": "[encoded data removed]",
      "text/plain": [
       "<Figure size 720x288 with 1 Axes>"
      ]
     },
     "metadata": {
      "needs_background": "light"
     },
     "output_type": "display_data"
    }
   ],
   "source": [
    "# построим гистограмму по общей площади в диапазоне от 0 до 200 кв м\n",
    "ax = real_estate['total_area'].plot(kind='hist', bins=20, figsize=(10, 4), range=(0, 200), grid=True, title='total_area 0-200 kv m')\n",
    "ax.set(xlabel=\"total_area\", ylabel=\"count\")\n",
    "plt.show()"
   ]
  },
  {
   "cell_type": "code",
   "execution_count": 60,
   "metadata": {},
   "outputs": [
    {
     "data": {
      "text/plain": [
       "count    2.365000e+04\n",
       "mean     6.541127e+06\n",
       "std      1.089640e+07\n",
       "min      1.219000e+04\n",
       "25%      3.400000e+06\n",
       "50%      4.650000e+06\n",
       "75%      6.799000e+06\n",
       "max      7.630000e+08\n",
       "Name: last_price, dtype: float64"
      ]
     },
     "execution_count": 60,
     "metadata": {},
     "output_type": "execute_result"
    }
   ],
   "source": [
    "# посмотрим на цену\n",
    "real_estate['last_price'].describe()"
   ]
  },
  {
   "cell_type": "markdown",
   "metadata": {},
   "source": [
    "У нас очень отличаются среднее и медиана, т.к. у нас 75% значений до 7 млн, а максимальное значение анамально большое и равно 763 млн. На гистограмме будет большой хвост, и скорее всего ничего не будет видно."
   ]
  },
  {
   "cell_type": "code",
   "execution_count": 61,
   "metadata": {
    "scrolled": true
   },
   "outputs": [
    {
     "data": {
      "image/png": "[encoded data removed]",
      "text/plain": [
       "<Figure size 720x288 with 1 Axes>"
      ]
     },
     "metadata": {
      "needs_background": "light"
     },
     "output_type": "display_data"
    }
   ],
   "source": [
    "ax = real_estate['last_price'].plot(kind='hist', bins=30, figsize=(10, 4), grid=True, title='last_price')\n",
    "ax.set(xlabel=\"last_price\", ylabel=\"count\")\n",
    "plt.show()"
   ]
  },
  {
   "cell_type": "code",
   "execution_count": 62,
   "metadata": {},
   "outputs": [
    {
     "data": {
      "image/png": "[encoded data removed]",
      "text/plain": [
       "<Figure size 720x288 with 1 Axes>"
      ]
     },
     "metadata": {
      "needs_background": "light"
     },
     "output_type": "display_data"
    }
   ],
   "source": [
    "# посмотрим сразу с диапазоном до 20 млн\n",
    "ax = real_estate['last_price'].plot(kind='hist', bins=30, figsize=(10, 4), range=(0, 20000000), grid=True, title='last_price 0-20 mln')\n",
    "ax.set(xlabel=\"last_price\", ylabel=\"count\")\n",
    "plt.show()"
   ]
  },
  {
   "cell_type": "code",
   "execution_count": 63,
   "metadata": {},
   "outputs": [
    {
     "data": {
      "text/plain": [
       "count    23650.000000\n",
       "mean         2.070106\n",
       "std          1.078620\n",
       "min          0.000000\n",
       "25%          1.000000\n",
       "50%          2.000000\n",
       "75%          3.000000\n",
       "max         19.000000\n",
       "Name: rooms, dtype: float64"
      ]
     },
     "execution_count": 63,
     "metadata": {},
     "output_type": "execute_result"
    }
   ],
   "source": [
    "# посмотрим на кол-во комнат\n",
    "real_estate['rooms'].describe()"
   ]
  },
  {
   "cell_type": "markdown",
   "metadata": {},
   "source": [
    "Все как обычно, у нас  есть выбросы, например макисмальное значение 19 комнат является анамально большим"
   ]
  },
  {
   "cell_type": "code",
   "execution_count": 64,
   "metadata": {},
   "outputs": [
    {
     "data": {
      "image/png": "[encoded data removed]",
      "text/plain": [
       "<Figure size 1152x288 with 1 Axes>"
      ]
     },
     "metadata": {
      "needs_background": "light"
     },
     "output_type": "display_data"
    }
   ],
   "source": [
    "# кол-во корзин возьмем как максимально значение, чтобы видеть каждый столбец отдельно\n",
    "ax = real_estate['rooms'].plot(kind='hist', bins=19, figsize=(16, 4), grid=True, title='rooms')\n",
    "ax.set(xlabel=\"rooms\", ylabel=\"count\")\n",
    "plt.show()"
   ]
  },
  {
   "cell_type": "markdown",
   "metadata": {},
   "source": [
    "На гистограмме мы видим что основная масса объявлений с 1-2 комантными квартирами, чуть меньше 3х комнатных квартир. Студии и квартиры с 4+ комнатами в меньшем кол-ве."
   ]
  },
  {
   "cell_type": "code",
   "execution_count": 65,
   "metadata": {},
   "outputs": [
    {
     "data": {
      "text/plain": [
       "count    23650.000000\n",
       "mean         2.724311\n",
       "std          0.989255\n",
       "min          1.000000\n",
       "25%          2.600000\n",
       "50%          2.650000\n",
       "75%          2.700000\n",
       "max        100.000000\n",
       "Name: ceiling_height, dtype: float64"
      ]
     },
     "execution_count": 65,
     "metadata": {},
     "output_type": "execute_result"
    }
   ],
   "source": [
    "# посмотрим на высоту потолков\n",
    "real_estate['ceiling_height'].describe()"
   ]
  },
  {
   "cell_type": "markdown",
   "metadata": {},
   "source": [
    "Медина и среднее значение примерно похожи, несмотря на наличие объявлений с максимальой высотой потолков 100 м. Что будет сильно мешать нам на гистограмме."
   ]
  },
  {
   "cell_type": "code",
   "execution_count": 66,
   "metadata": {},
   "outputs": [
    {
     "data": {
      "image/png": "[encoded data removed]",
      "text/plain": [
       "<Figure size 720x288 with 1 Axes>"
      ]
     },
     "metadata": {
      "needs_background": "light"
     },
     "output_type": "display_data"
    }
   ],
   "source": [
    "# посмотрим на гистограмму\n",
    "ax = real_estate['ceiling_height'].plot(kind='hist', bins=30, figsize=(10, 4), grid=True, title='ceiling_height')\n",
    "ax.set(xlabel=\"ceiling_height\", ylabel=\"count\")\n",
    "plt.show()"
   ]
  },
  {
   "cell_type": "code",
   "execution_count": 67,
   "metadata": {},
   "outputs": [
    {
     "data": {
      "image/png": "[encoded data removed]",
      "text/plain": [
       "<Figure size 720x288 with 1 Axes>"
      ]
     },
     "metadata": {
      "needs_background": "light"
     },
     "output_type": "display_data"
    }
   ],
   "source": [
    "# посмотрим в диапазоне от 2 до 4 м и кол-во корзин возьмем 8\n",
    "ax = real_estate['ceiling_height'].plot(kind='hist', bins=8, figsize=(10, 4), range=(2, 4), grid=True, title='ceiling_height 2-4 m')\n",
    "ax.set(xlabel=\"ceiling_height\", ylabel=\"count\")\n",
    "plt.show()"
   ]
  },
  {
   "cell_type": "markdown",
   "metadata": {},
   "source": [
    "Один пик в диапазоне от 2.5 до 2.75 м - это самая часто встречающаяся высота потолков"
   ]
  },
  {
   "cell_type": "markdown",
   "metadata": {},
   "source": [
    "#### 4.2 Изучите время продажи квартиры. \n",
    "- Постройте гистограмму. \n",
    "- Посчитайте среднее и медиану. \n",
    "- Опишите, сколько обычно занимает продажа. \n",
    "- Когда можно считать, что продажи прошли очень быстро, а когда необычно долго?"
   ]
  },
  {
   "cell_type": "code",
   "execution_count": 68,
   "metadata": {
    "scrolled": true
   },
   "outputs": [
    {
     "data": {
      "image/png": "[encoded data removed]",
      "text/plain": [
       "<Figure size 720x288 with 1 Axes>"
      ]
     },
     "metadata": {
      "needs_background": "light"
     },
     "output_type": "display_data"
    }
   ],
   "source": [
    "# построим гистограмму\n",
    "ax = real_estate['days_exposition'].plot(kind='hist', bins=30, figsize=(10, 4), grid=True, title='days_exposition')\n",
    "ax.set(xlabel=\"days_exposition\", ylabel=\"count\")\n",
    "plt.show()"
   ]
  },
  {
   "cell_type": "code",
   "execution_count": 69,
   "metadata": {},
   "outputs": [
    {
     "data": {
      "image/png": "[encoded data removed]",
      "text/plain": [
       "<Figure size 432x288 with 1 Axes>"
      ]
     },
     "metadata": {
      "needs_background": "light"
     },
     "output_type": "display_data"
    }
   ],
   "source": [
    "# посмотрим на диаграмму размаха\n",
    "ax = real_estate.boxplot(column=['days_exposition'], vert=False)\n",
    "plt.title('boxplot')\n",
    "plt.show()"
   ]
  },
  {
   "cell_type": "code",
   "execution_count": 70,
   "metadata": {
    "scrolled": false
   },
   "outputs": [
    {
     "data": {
      "image/png": "[encoded data removed]",
      "text/plain": [
       "<Figure size 720x288 with 1 Axes>"
      ]
     },
     "metadata": {
      "needs_background": "light"
     },
     "output_type": "display_data"
    }
   ],
   "source": [
    "# и построим гистограмму в диапазоне от 0 до 600 дней (все что нам интересно из диаграммы размаха)\n",
    "ax = real_estate['days_exposition'].plot(kind='hist', bins=90, figsize=(10, 4), range=(0, 600), grid=True, title='days_exposition 0-600 days')\n",
    "ax.set(xlabel=\"days_exposition\", ylabel=\"count\")\n",
    "plt.show()"
   ]
  },
  {
   "cell_type": "code",
   "execution_count": 71,
   "metadata": {
    "scrolled": true
   },
   "outputs": [
    {
     "data": {
      "image/png": "[encoded data removed]",
      "text/plain": [
       "<Figure size 720x288 with 1 Axes>"
      ]
     },
     "metadata": {
      "needs_background": "light"
     },
     "output_type": "display_data"
    }
   ],
   "source": [
    "# на гистограмме видны аномалии, посмотрим детальнее диапазон с 40 по 65 дней и 25 корзин\n",
    "ax = real_estate['days_exposition'].plot(kind='hist', bins=25, figsize=(10, 4), range=(40, 65), grid=True, title='days_exposition 40-65 days')\n",
    "ax.set(xlabel=\"days_exposition\", ylabel=\"count\")\n",
    "plt.show()"
   ]
  },
  {
   "cell_type": "markdown",
   "metadata": {},
   "source": [
    "На 45-ый день и на 60-ый день приходится явно много значений. Вероятно это какой период после которого обьявления автоматичские снимаются с размещения. Эти данные нам могут сильно мешать, но все же мы их оставим, т.к. квартиры уже могли быть проданы, а данных по точной дате продажи у нас тоже нет, а так хоть что-то есть."
   ]
  },
  {
   "cell_type": "code",
   "execution_count": 72,
   "metadata": {},
   "outputs": [
    {
     "data": {
      "text/plain": [
       "count    20470.000000\n",
       "mean       180.753200\n",
       "std        219.777916\n",
       "min          1.000000\n",
       "25%         45.000000\n",
       "50%         95.000000\n",
       "75%        231.000000\n",
       "max       1580.000000\n",
       "Name: days_exposition, dtype: float64"
      ]
     },
     "execution_count": 72,
     "metadata": {},
     "output_type": "execute_result"
    }
   ],
   "source": [
    "# посмотрим основные статистические показатели кол-ва дней объявления\n",
    "real_estate['days_exposition'].describe()"
   ]
  },
  {
   "cell_type": "markdown",
   "metadata": {},
   "source": [
    "Медиана 95 дней, а среднее кол-во 180 дней. На среднее сильно влияют большие значения, хоть их и меньше.\n",
    "Продажи обычно занимают от 45 до 230 дней. Отклонения в меньшую или большую сторону можно считать необычно быстрыми или долгими продажами"
   ]
  },
  {
   "cell_type": "markdown",
   "metadata": {},
   "source": [
    "#### 4.3 Уберите редкие и выбивающиеся значения. \n",
    "Опишите, какие особенности обнаружили."
   ]
  },
  {
   "cell_type": "code",
   "execution_count": 73,
   "metadata": {},
   "outputs": [
    {
     "data": {
      "text/html": [
       "<div>\n",
       "<style scoped>\n",
       "    .dataframe tbody tr th:only-of-type {\n",
       "        vertical-align: middle;\n",
       "    }\n",
       "\n",
       "    .dataframe tbody tr th {\n",
       "        vertical-align: top;\n",
       "    }\n",
       "\n",
       "    .dataframe thead th {\n",
       "        text-align: right;\n",
       "    }\n",
       "</style>\n",
       "<table border=\"1\" class=\"dataframe\">\n",
       "  <thead>\n",
       "    <tr style=\"text-align: right;\">\n",
       "      <th></th>\n",
       "      <th>rooms</th>\n",
       "      <th>balcony</th>\n",
       "      <th>total_area</th>\n",
       "      <th>living_area</th>\n",
       "      <th>kitchen_area</th>\n",
       "      <th>floor</th>\n",
       "      <th>floors_total</th>\n",
       "      <th>days_exposition</th>\n",
       "      <th>last_price</th>\n",
       "      <th>total_images</th>\n",
       "      <th>ceiling_height</th>\n",
       "      <th>city_centers_nearest</th>\n",
       "      <th>parks_nearest</th>\n",
       "      <th>ponds_nearest</th>\n",
       "      <th>airports_nearest</th>\n",
       "      <th>parks_around3000</th>\n",
       "      <th>ponds_around3000</th>\n",
       "      <th>price_per_meter</th>\n",
       "      <th>weekday_exposition</th>\n",
       "      <th>month_exposition</th>\n",
       "      <th>year_exposition</th>\n",
       "      <th>living_area_ratio</th>\n",
       "      <th>kitchen_area_ratio</th>\n",
       "    </tr>\n",
       "  </thead>\n",
       "  <tbody>\n",
       "    <tr>\n",
       "      <td>count</td>\n",
       "      <td>23650.000000</td>\n",
       "      <td>23650.000000</td>\n",
       "      <td>23650.000000</td>\n",
       "      <td>23650.000000</td>\n",
       "      <td>23650.000000</td>\n",
       "      <td>23650.000000</td>\n",
       "      <td>23650.000000</td>\n",
       "      <td>20470.000000</td>\n",
       "      <td>2.365000e+04</td>\n",
       "      <td>23650.000000</td>\n",
       "      <td>23650.000000</td>\n",
       "      <td>18264.000000</td>\n",
       "      <td>17652.000000</td>\n",
       "      <td>18156.000000</td>\n",
       "      <td>18264.000000</td>\n",
       "      <td>23650.000000</td>\n",
       "      <td>23650.000000</td>\n",
       "      <td>2.365000e+04</td>\n",
       "      <td>23650.000000</td>\n",
       "      <td>23650.000000</td>\n",
       "      <td>23650.000000</td>\n",
       "      <td>23650.000000</td>\n",
       "      <td>23650.000000</td>\n",
       "    </tr>\n",
       "    <tr>\n",
       "      <td>mean</td>\n",
       "      <td>2.070106</td>\n",
       "      <td>0.591712</td>\n",
       "      <td>60.329069</td>\n",
       "      <td>34.612450</td>\n",
       "      <td>10.471450</td>\n",
       "      <td>5.893277</td>\n",
       "      <td>10.673784</td>\n",
       "      <td>180.753200</td>\n",
       "      <td>6.541127e+06</td>\n",
       "      <td>9.862326</td>\n",
       "      <td>2.724311</td>\n",
       "      <td>14238.311761</td>\n",
       "      <td>475.966321</td>\n",
       "      <td>509.419751</td>\n",
       "      <td>28873.682435</td>\n",
       "      <td>0.469091</td>\n",
       "      <td>0.590359</td>\n",
       "      <td>9.943225e+04</td>\n",
       "      <td>2.568710</td>\n",
       "      <td>6.401564</td>\n",
       "      <td>2017.370021</td>\n",
       "      <td>0.565727</td>\n",
       "      <td>0.185082</td>\n",
       "    </tr>\n",
       "    <tr>\n",
       "      <td>std</td>\n",
       "      <td>1.078620</td>\n",
       "      <td>0.959662</td>\n",
       "      <td>35.661808</td>\n",
       "      <td>22.386704</td>\n",
       "      <td>6.076212</td>\n",
       "      <td>4.883317</td>\n",
       "      <td>6.593455</td>\n",
       "      <td>219.777916</td>\n",
       "      <td>1.089640e+07</td>\n",
       "      <td>5.682278</td>\n",
       "      <td>0.989255</td>\n",
       "      <td>8624.455713</td>\n",
       "      <td>235.650384</td>\n",
       "      <td>200.356069</td>\n",
       "      <td>12680.037208</td>\n",
       "      <td>0.748458</td>\n",
       "      <td>0.883539</td>\n",
       "      <td>5.033793e+04</td>\n",
       "      <td>1.788808</td>\n",
       "      <td>3.491418</td>\n",
       "      <td>1.037806</td>\n",
       "      <td>0.101122</td>\n",
       "      <td>0.071019</td>\n",
       "    </tr>\n",
       "    <tr>\n",
       "      <td>min</td>\n",
       "      <td>0.000000</td>\n",
       "      <td>0.000000</td>\n",
       "      <td>12.000000</td>\n",
       "      <td>2.000000</td>\n",
       "      <td>0.000000</td>\n",
       "      <td>1.000000</td>\n",
       "      <td>1.000000</td>\n",
       "      <td>1.000000</td>\n",
       "      <td>1.219000e+04</td>\n",
       "      <td>0.000000</td>\n",
       "      <td>1.000000</td>\n",
       "      <td>181.000000</td>\n",
       "      <td>1.000000</td>\n",
       "      <td>13.000000</td>\n",
       "      <td>0.000000</td>\n",
       "      <td>0.000000</td>\n",
       "      <td>0.000000</td>\n",
       "      <td>1.120000e+02</td>\n",
       "      <td>0.000000</td>\n",
       "      <td>1.000000</td>\n",
       "      <td>2014.000000</td>\n",
       "      <td>0.021583</td>\n",
       "      <td>0.000000</td>\n",
       "    </tr>\n",
       "    <tr>\n",
       "      <td>25%</td>\n",
       "      <td>1.000000</td>\n",
       "      <td>0.000000</td>\n",
       "      <td>40.000000</td>\n",
       "      <td>19.000000</td>\n",
       "      <td>7.000000</td>\n",
       "      <td>2.000000</td>\n",
       "      <td>5.000000</td>\n",
       "      <td>45.000000</td>\n",
       "      <td>3.400000e+06</td>\n",
       "      <td>6.000000</td>\n",
       "      <td>2.600000</td>\n",
       "      <td>9289.000000</td>\n",
       "      <td>428.500000</td>\n",
       "      <td>462.000000</td>\n",
       "      <td>18625.000000</td>\n",
       "      <td>0.000000</td>\n",
       "      <td>0.000000</td>\n",
       "      <td>7.661500e+04</td>\n",
       "      <td>1.000000</td>\n",
       "      <td>3.000000</td>\n",
       "      <td>2017.000000</td>\n",
       "      <td>0.500000</td>\n",
       "      <td>0.136267</td>\n",
       "    </tr>\n",
       "    <tr>\n",
       "      <td>50%</td>\n",
       "      <td>2.000000</td>\n",
       "      <td>0.000000</td>\n",
       "      <td>52.000000</td>\n",
       "      <td>30.000000</td>\n",
       "      <td>9.000000</td>\n",
       "      <td>4.000000</td>\n",
       "      <td>9.000000</td>\n",
       "      <td>95.000000</td>\n",
       "      <td>4.650000e+06</td>\n",
       "      <td>9.000000</td>\n",
       "      <td>2.650000</td>\n",
       "      <td>13107.000000</td>\n",
       "      <td>460.000000</td>\n",
       "      <td>503.000000</td>\n",
       "      <td>26757.500000</td>\n",
       "      <td>0.000000</td>\n",
       "      <td>0.000000</td>\n",
       "      <td>9.500000e+04</td>\n",
       "      <td>3.000000</td>\n",
       "      <td>6.000000</td>\n",
       "      <td>2017.000000</td>\n",
       "      <td>0.576923</td>\n",
       "      <td>0.175000</td>\n",
       "    </tr>\n",
       "    <tr>\n",
       "      <td>75%</td>\n",
       "      <td>3.000000</td>\n",
       "      <td>1.000000</td>\n",
       "      <td>69.700000</td>\n",
       "      <td>42.115385</td>\n",
       "      <td>12.000000</td>\n",
       "      <td>8.000000</td>\n",
       "      <td>16.000000</td>\n",
       "      <td>231.000000</td>\n",
       "      <td>6.799000e+06</td>\n",
       "      <td>14.000000</td>\n",
       "      <td>2.700000</td>\n",
       "      <td>16318.250000</td>\n",
       "      <td>460.000000</td>\n",
       "      <td>561.000000</td>\n",
       "      <td>37348.000000</td>\n",
       "      <td>1.000000</td>\n",
       "      <td>1.000000</td>\n",
       "      <td>1.142740e+05</td>\n",
       "      <td>4.000000</td>\n",
       "      <td>10.000000</td>\n",
       "      <td>2018.000000</td>\n",
       "      <td>0.631579</td>\n",
       "      <td>0.223773</td>\n",
       "    </tr>\n",
       "    <tr>\n",
       "      <td>max</td>\n",
       "      <td>19.000000</td>\n",
       "      <td>5.000000</td>\n",
       "      <td>900.000000</td>\n",
       "      <td>409.700000</td>\n",
       "      <td>112.000000</td>\n",
       "      <td>33.000000</td>\n",
       "      <td>60.000000</td>\n",
       "      <td>1580.000000</td>\n",
       "      <td>7.630000e+08</td>\n",
       "      <td>50.000000</td>\n",
       "      <td>100.000000</td>\n",
       "      <td>65968.000000</td>\n",
       "      <td>3190.000000</td>\n",
       "      <td>1344.000000</td>\n",
       "      <td>84869.000000</td>\n",
       "      <td>3.000000</td>\n",
       "      <td>3.000000</td>\n",
       "      <td>1.907500e+06</td>\n",
       "      <td>6.000000</td>\n",
       "      <td>12.000000</td>\n",
       "      <td>2019.000000</td>\n",
       "      <td>1.000000</td>\n",
       "      <td>0.787879</td>\n",
       "    </tr>\n",
       "  </tbody>\n",
       "</table>\n",
       "</div>"
      ],
      "text/plain": [
       "              rooms       balcony    total_area   living_area  kitchen_area  \\\n",
       "count  23650.000000  23650.000000  23650.000000  23650.000000  23650.000000   \n",
       "mean       2.070106      0.591712     60.329069     34.612450     10.471450   \n",
       "std        1.078620      0.959662     35.661808     22.386704      6.076212   \n",
       "min        0.000000      0.000000     12.000000      2.000000      0.000000   \n",
       "25%        1.000000      0.000000     40.000000     19.000000      7.000000   \n",
       "50%        2.000000      0.000000     52.000000     30.000000      9.000000   \n",
       "75%        3.000000      1.000000     69.700000     42.115385     12.000000   \n",
       "max       19.000000      5.000000    900.000000    409.700000    112.000000   \n",
       "\n",
       "              floor  floors_total  days_exposition    last_price  \\\n",
       "count  23650.000000  23650.000000     20470.000000  2.365000e+04   \n",
       "mean       5.893277     10.673784       180.753200  6.541127e+06   \n",
       "std        4.883317      6.593455       219.777916  1.089640e+07   \n",
       "min        1.000000      1.000000         1.000000  1.219000e+04   \n",
       "25%        2.000000      5.000000        45.000000  3.400000e+06   \n",
       "50%        4.000000      9.000000        95.000000  4.650000e+06   \n",
       "75%        8.000000     16.000000       231.000000  6.799000e+06   \n",
       "max       33.000000     60.000000      1580.000000  7.630000e+08   \n",
       "\n",
       "       total_images  ceiling_height  city_centers_nearest  parks_nearest  \\\n",
       "count  23650.000000    23650.000000          18264.000000   17652.000000   \n",
       "mean       9.862326        2.724311          14238.311761     475.966321   \n",
       "std        5.682278        0.989255           8624.455713     235.650384   \n",
       "min        0.000000        1.000000            181.000000       1.000000   \n",
       "25%        6.000000        2.600000           9289.000000     428.500000   \n",
       "50%        9.000000        2.650000          13107.000000     460.000000   \n",
       "75%       14.000000        2.700000          16318.250000     460.000000   \n",
       "max       50.000000      100.000000          65968.000000    3190.000000   \n",
       "\n",
       "       ponds_nearest  airports_nearest  parks_around3000  ponds_around3000  \\\n",
       "count   18156.000000      18264.000000      23650.000000      23650.000000   \n",
       "mean      509.419751      28873.682435          0.469091          0.590359   \n",
       "std       200.356069      12680.037208          0.748458          0.883539   \n",
       "min        13.000000          0.000000          0.000000          0.000000   \n",
       "25%       462.000000      18625.000000          0.000000          0.000000   \n",
       "50%       503.000000      26757.500000          0.000000          0.000000   \n",
       "75%       561.000000      37348.000000          1.000000          1.000000   \n",
       "max      1344.000000      84869.000000          3.000000          3.000000   \n",
       "\n",
       "       price_per_meter  weekday_exposition  month_exposition  year_exposition  \\\n",
       "count     2.365000e+04        23650.000000      23650.000000     23650.000000   \n",
       "mean      9.943225e+04            2.568710          6.401564      2017.370021   \n",
       "std       5.033793e+04            1.788808          3.491418         1.037806   \n",
       "min       1.120000e+02            0.000000          1.000000      2014.000000   \n",
       "25%       7.661500e+04            1.000000          3.000000      2017.000000   \n",
       "50%       9.500000e+04            3.000000          6.000000      2017.000000   \n",
       "75%       1.142740e+05            4.000000         10.000000      2018.000000   \n",
       "max       1.907500e+06            6.000000         12.000000      2019.000000   \n",
       "\n",
       "       living_area_ratio  kitchen_area_ratio  \n",
       "count       23650.000000        23650.000000  \n",
       "mean            0.565727            0.185082  \n",
       "std             0.101122            0.071019  \n",
       "min             0.021583            0.000000  \n",
       "25%             0.500000            0.136267  \n",
       "50%             0.576923            0.175000  \n",
       "75%             0.631579            0.223773  \n",
       "max             1.000000            0.787879  "
      ]
     },
     "execution_count": 73,
     "metadata": {},
     "output_type": "execute_result"
    }
   ],
   "source": [
    "real_estate.describe()"
   ]
  },
  {
   "cell_type": "code",
   "execution_count": 74,
   "metadata": {
    "scrolled": true
   },
   "outputs": [
    {
     "data": {
      "image/png": "[encoded data removed]",
      "text/plain": [
       "<Figure size 720x288 with 1 Axes>"
      ]
     },
     "metadata": {
      "needs_background": "light"
     },
     "output_type": "display_data"
    }
   ],
   "source": [
    "# посмотрим детальнее на кол-во комнат\n",
    "ax = real_estate['rooms'].plot(kind='hist', bins=19, figsize=(10, 4), grid=True, title='rooms')\n",
    "ax.set(xlabel=\"rooms\", ylabel=\"count\")\n",
    "plt.show()"
   ]
  },
  {
   "cell_type": "code",
   "execution_count": 75,
   "metadata": {
    "scrolled": false
   },
   "outputs": [
    {
     "data": {
      "image/png": "[encoded data removed]",
      "text/plain": [
       "<Figure size 720x288 with 1 Axes>"
      ]
     },
     "metadata": {
      "needs_background": "light"
     },
     "output_type": "display_data"
    }
   ],
   "source": [
    "# посмотрим детальнее на кол-во комнат в диапазоне от 7 до 19\n",
    "ax = real_estate['rooms'].plot(kind='hist', bins=13, figsize=(10, 4), range=(7, 19), grid=True, title='rooms 7-19')\n",
    "ax.set(xlabel=\"rooms\", ylabel=\"count\")\n",
    "plt.show()"
   ]
  },
  {
   "cell_type": "code",
   "execution_count": 76,
   "metadata": {
    "scrolled": false
   },
   "outputs": [
    {
     "name": "stderr",
     "output_type": "stream",
     "text": [
      "/opt/conda/lib/python3.7/site-packages/ipykernel_launcher.py:3: SettingWithCopyWarning: \n",
      "A value is trying to be set on a copy of a slice from a DataFrame.\n",
      "Try using .loc[row_indexer,col_indexer] = value instead\n",
      "\n",
      "See the caveats in the documentation: http://pandas.pydata.org/pandas-docs/stable/user_guide/indexing.html#returning-a-view-versus-a-copy\n",
      "  This is separate from the ipykernel package so we can avoid doing imports until\n"
     ]
    },
    {
     "data": {
      "text/html": [
       "<div>\n",
       "<style scoped>\n",
       "    .dataframe tbody tr th:only-of-type {\n",
       "        vertical-align: middle;\n",
       "    }\n",
       "\n",
       "    .dataframe tbody tr th {\n",
       "        vertical-align: top;\n",
       "    }\n",
       "\n",
       "    .dataframe thead th {\n",
       "        text-align: right;\n",
       "    }\n",
       "</style>\n",
       "<table border=\"1\" class=\"dataframe\">\n",
       "  <thead>\n",
       "    <tr style=\"text-align: right;\">\n",
       "      <th></th>\n",
       "      <th>locality_name</th>\n",
       "      <th>last_price</th>\n",
       "      <th>rooms</th>\n",
       "      <th>living_area</th>\n",
       "      <th>room_area</th>\n",
       "    </tr>\n",
       "  </thead>\n",
       "  <tbody>\n",
       "    <tr>\n",
       "      <td>866</td>\n",
       "      <td>Санкт-Петербург</td>\n",
       "      <td>25000000</td>\n",
       "      <td>14</td>\n",
       "      <td>222.0</td>\n",
       "      <td>15.857143</td>\n",
       "    </tr>\n",
       "    <tr>\n",
       "      <td>5349</td>\n",
       "      <td>Санкт-Петербург</td>\n",
       "      <td>65000000</td>\n",
       "      <td>15</td>\n",
       "      <td>409.0</td>\n",
       "      <td>27.266667</td>\n",
       "    </tr>\n",
       "    <tr>\n",
       "      <td>14473</td>\n",
       "      <td>Санкт-Петербург</td>\n",
       "      <td>32250000</td>\n",
       "      <td>19</td>\n",
       "      <td>264.5</td>\n",
       "      <td>13.921053</td>\n",
       "    </tr>\n",
       "    <tr>\n",
       "      <td>18815</td>\n",
       "      <td>Санкт-Петербург</td>\n",
       "      <td>28500000</td>\n",
       "      <td>16</td>\n",
       "      <td>180.0</td>\n",
       "      <td>11.250000</td>\n",
       "    </tr>\n",
       "    <tr>\n",
       "      <td>20789</td>\n",
       "      <td>Санкт-Петербург</td>\n",
       "      <td>28659000</td>\n",
       "      <td>14</td>\n",
       "      <td>168.3</td>\n",
       "      <td>12.021429</td>\n",
       "    </tr>\n",
       "  </tbody>\n",
       "</table>\n",
       "</div>"
      ],
      "text/plain": [
       "         locality_name  last_price  rooms  living_area  room_area\n",
       "866    Санкт-Петербург    25000000     14        222.0  15.857143\n",
       "5349   Санкт-Петербург    65000000     15        409.0  27.266667\n",
       "14473  Санкт-Петербург    32250000     19        264.5  13.921053\n",
       "18815  Санкт-Петербург    28500000     16        180.0  11.250000\n",
       "20789  Санкт-Петербург    28659000     14        168.3  12.021429"
      ]
     },
     "execution_count": 76,
     "metadata": {},
     "output_type": "execute_result"
    }
   ],
   "source": [
    "# посмотрим на квартиры с 14+ комнатами, посчитаем среднюю площадь комнаты\n",
    "real_estate_selected2 = real_estate.query('rooms >= 14')\n",
    "real_estate_selected2['room_area'] = real_estate_selected2['living_area'] / real_estate_selected2['rooms']\n",
    "real_estate_selected2[['locality_name','last_price', 'rooms', 'living_area', 'room_area']].head()"
   ]
  },
  {
   "cell_type": "markdown",
   "metadata": {},
   "source": [
    "Можно сказать, что 4 варианта из 5 это какие-то гостинницы или хостелы :) Думаю все равно стоит убрать всех 5 вариантов\n",
    "\n"
   ]
  },
  {
   "cell_type": "code",
   "execution_count": 77,
   "metadata": {},
   "outputs": [],
   "source": [
    "# больше 7 комнат уже на гистограмме почти не видно, поэтому отсечем их\n",
    "real_estate_clear = real_estate.query('rooms < 14')"
   ]
  },
  {
   "cell_type": "code",
   "execution_count": 78,
   "metadata": {
    "scrolled": true
   },
   "outputs": [
    {
     "data": {
      "image/png": "[encoded data removed]",
      "text/plain": [
       "<Figure size 720x288 with 1 Axes>"
      ]
     },
     "metadata": {
      "needs_background": "light"
     },
     "output_type": "display_data"
    }
   ],
   "source": [
    "# построим гистограмму кол-ва балконов\n",
    "ax = real_estate_clear['balcony'].plot(kind='hist', bins=6, figsize=(10, 4), grid=True, title='balcony')\n",
    "ax.set(xlabel=\"balcony\", ylabel=\"count\")\n",
    "plt.show()"
   ]
  },
  {
   "cell_type": "code",
   "execution_count": 79,
   "metadata": {
    "scrolled": false
   },
   "outputs": [
    {
     "data": {
      "text/html": [
       "<div>\n",
       "<style scoped>\n",
       "    .dataframe tbody tr th:only-of-type {\n",
       "        vertical-align: middle;\n",
       "    }\n",
       "\n",
       "    .dataframe tbody tr th {\n",
       "        vertical-align: top;\n",
       "    }\n",
       "\n",
       "    .dataframe thead th {\n",
       "        text-align: right;\n",
       "    }\n",
       "</style>\n",
       "<table border=\"1\" class=\"dataframe\">\n",
       "  <thead>\n",
       "    <tr style=\"text-align: right;\">\n",
       "      <th></th>\n",
       "      <th>locality_name</th>\n",
       "      <th>rooms</th>\n",
       "      <th>balcony</th>\n",
       "      <th>total_area</th>\n",
       "      <th>living_area</th>\n",
       "      <th>kitchen_area</th>\n",
       "      <th>floor</th>\n",
       "      <th>floors_total</th>\n",
       "      <th>first_day_exposition</th>\n",
       "      <th>days_exposition</th>\n",
       "      <th>last_price</th>\n",
       "      <th>total_images</th>\n",
       "      <th>ceiling_height</th>\n",
       "      <th>is_apartment</th>\n",
       "      <th>is_studio</th>\n",
       "      <th>is_open_plan</th>\n",
       "      <th>city_centers_nearest</th>\n",
       "      <th>parks_nearest</th>\n",
       "      <th>ponds_nearest</th>\n",
       "      <th>airports_nearest</th>\n",
       "      <th>parks_around3000</th>\n",
       "      <th>ponds_around3000</th>\n",
       "      <th>price_per_meter</th>\n",
       "      <th>weekday_exposition</th>\n",
       "      <th>month_exposition</th>\n",
       "      <th>year_exposition</th>\n",
       "      <th>floor_category</th>\n",
       "      <th>living_area_ratio</th>\n",
       "      <th>kitchen_area_ratio</th>\n",
       "    </tr>\n",
       "  </thead>\n",
       "  <tbody>\n",
       "    <tr>\n",
       "      <td>41</td>\n",
       "      <td>Санкт-Петербург</td>\n",
       "      <td>3</td>\n",
       "      <td>5</td>\n",
       "      <td>74.00</td>\n",
       "      <td>59.000000</td>\n",
       "      <td>12.000</td>\n",
       "      <td>8</td>\n",
       "      <td>14</td>\n",
       "      <td>2016-05-04</td>\n",
       "      <td>179.0</td>\n",
       "      <td>7900000</td>\n",
       "      <td>16</td>\n",
       "      <td>2.65</td>\n",
       "      <td>False</td>\n",
       "      <td>False</td>\n",
       "      <td>False</td>\n",
       "      <td>12612.0</td>\n",
       "      <td>725.0</td>\n",
       "      <td>759.0</td>\n",
       "      <td>37715.0</td>\n",
       "      <td>1</td>\n",
       "      <td>1</td>\n",
       "      <td>106757</td>\n",
       "      <td>2</td>\n",
       "      <td>5</td>\n",
       "      <td>2016</td>\n",
       "      <td>другой</td>\n",
       "      <td>0.797297</td>\n",
       "      <td>0.162162</td>\n",
       "    </tr>\n",
       "    <tr>\n",
       "      <td>116</td>\n",
       "      <td>Санкт-Петербург</td>\n",
       "      <td>3</td>\n",
       "      <td>5</td>\n",
       "      <td>97.20</td>\n",
       "      <td>56.076923</td>\n",
       "      <td>18.300</td>\n",
       "      <td>16</td>\n",
       "      <td>16</td>\n",
       "      <td>2017-11-13</td>\n",
       "      <td>394.0</td>\n",
       "      <td>10999000</td>\n",
       "      <td>18</td>\n",
       "      <td>2.50</td>\n",
       "      <td>False</td>\n",
       "      <td>False</td>\n",
       "      <td>False</td>\n",
       "      <td>21138.0</td>\n",
       "      <td>460.0</td>\n",
       "      <td>390.0</td>\n",
       "      <td>19426.0</td>\n",
       "      <td>0</td>\n",
       "      <td>2</td>\n",
       "      <td>113158</td>\n",
       "      <td>0</td>\n",
       "      <td>11</td>\n",
       "      <td>2017</td>\n",
       "      <td>последний</td>\n",
       "      <td>0.576923</td>\n",
       "      <td>0.188272</td>\n",
       "    </tr>\n",
       "    <tr>\n",
       "      <td>144</td>\n",
       "      <td>посёлок Мурино</td>\n",
       "      <td>0</td>\n",
       "      <td>2</td>\n",
       "      <td>27.00</td>\n",
       "      <td>15.500000</td>\n",
       "      <td>0.000</td>\n",
       "      <td>2</td>\n",
       "      <td>24</td>\n",
       "      <td>2017-03-30</td>\n",
       "      <td>181.0</td>\n",
       "      <td>2450000</td>\n",
       "      <td>1</td>\n",
       "      <td>2.65</td>\n",
       "      <td>False</td>\n",
       "      <td>True</td>\n",
       "      <td>False</td>\n",
       "      <td>NaN</td>\n",
       "      <td>NaN</td>\n",
       "      <td>NaN</td>\n",
       "      <td>NaN</td>\n",
       "      <td>0</td>\n",
       "      <td>0</td>\n",
       "      <td>90741</td>\n",
       "      <td>3</td>\n",
       "      <td>3</td>\n",
       "      <td>2017</td>\n",
       "      <td>другой</td>\n",
       "      <td>0.574074</td>\n",
       "      <td>0.000000</td>\n",
       "    </tr>\n",
       "    <tr>\n",
       "      <td>250</td>\n",
       "      <td>Всеволожск</td>\n",
       "      <td>2</td>\n",
       "      <td>4</td>\n",
       "      <td>51.70</td>\n",
       "      <td>29.200000</td>\n",
       "      <td>7.700</td>\n",
       "      <td>5</td>\n",
       "      <td>16</td>\n",
       "      <td>2019-01-22</td>\n",
       "      <td>21.0</td>\n",
       "      <td>3200000</td>\n",
       "      <td>13</td>\n",
       "      <td>2.65</td>\n",
       "      <td>False</td>\n",
       "      <td>False</td>\n",
       "      <td>False</td>\n",
       "      <td>NaN</td>\n",
       "      <td>NaN</td>\n",
       "      <td>NaN</td>\n",
       "      <td>NaN</td>\n",
       "      <td>0</td>\n",
       "      <td>0</td>\n",
       "      <td>61896</td>\n",
       "      <td>1</td>\n",
       "      <td>1</td>\n",
       "      <td>2019</td>\n",
       "      <td>другой</td>\n",
       "      <td>0.564797</td>\n",
       "      <td>0.148936</td>\n",
       "    </tr>\n",
       "    <tr>\n",
       "      <td>263</td>\n",
       "      <td>Санкт-Петербург</td>\n",
       "      <td>2</td>\n",
       "      <td>4</td>\n",
       "      <td>140.60</td>\n",
       "      <td>39.800000</td>\n",
       "      <td>49.200</td>\n",
       "      <td>7</td>\n",
       "      <td>8</td>\n",
       "      <td>2016-11-19</td>\n",
       "      <td>NaN</td>\n",
       "      <td>39900000</td>\n",
       "      <td>12</td>\n",
       "      <td>3.50</td>\n",
       "      <td>False</td>\n",
       "      <td>False</td>\n",
       "      <td>False</td>\n",
       "      <td>6589.0</td>\n",
       "      <td>460.0</td>\n",
       "      <td>99.0</td>\n",
       "      <td>32537.0</td>\n",
       "      <td>0</td>\n",
       "      <td>3</td>\n",
       "      <td>283784</td>\n",
       "      <td>5</td>\n",
       "      <td>11</td>\n",
       "      <td>2016</td>\n",
       "      <td>другой</td>\n",
       "      <td>0.283073</td>\n",
       "      <td>0.349929</td>\n",
       "    </tr>\n",
       "    <tr>\n",
       "      <td>...</td>\n",
       "      <td>...</td>\n",
       "      <td>...</td>\n",
       "      <td>...</td>\n",
       "      <td>...</td>\n",
       "      <td>...</td>\n",
       "      <td>...</td>\n",
       "      <td>...</td>\n",
       "      <td>...</td>\n",
       "      <td>...</td>\n",
       "      <td>...</td>\n",
       "      <td>...</td>\n",
       "      <td>...</td>\n",
       "      <td>...</td>\n",
       "      <td>...</td>\n",
       "      <td>...</td>\n",
       "      <td>...</td>\n",
       "      <td>...</td>\n",
       "      <td>...</td>\n",
       "      <td>...</td>\n",
       "      <td>...</td>\n",
       "      <td>...</td>\n",
       "      <td>...</td>\n",
       "      <td>...</td>\n",
       "      <td>...</td>\n",
       "      <td>...</td>\n",
       "      <td>...</td>\n",
       "      <td>...</td>\n",
       "      <td>...</td>\n",
       "      <td>...</td>\n",
       "    </tr>\n",
       "    <tr>\n",
       "      <td>23448</td>\n",
       "      <td>Санкт-Петербург</td>\n",
       "      <td>2</td>\n",
       "      <td>4</td>\n",
       "      <td>55.40</td>\n",
       "      <td>29.400000</td>\n",
       "      <td>9.600</td>\n",
       "      <td>16</td>\n",
       "      <td>20</td>\n",
       "      <td>2019-04-22</td>\n",
       "      <td>NaN</td>\n",
       "      <td>6150000</td>\n",
       "      <td>17</td>\n",
       "      <td>2.80</td>\n",
       "      <td>False</td>\n",
       "      <td>False</td>\n",
       "      <td>False</td>\n",
       "      <td>13873.0</td>\n",
       "      <td>460.0</td>\n",
       "      <td>481.0</td>\n",
       "      <td>16285.0</td>\n",
       "      <td>0</td>\n",
       "      <td>1</td>\n",
       "      <td>111011</td>\n",
       "      <td>0</td>\n",
       "      <td>4</td>\n",
       "      <td>2019</td>\n",
       "      <td>другой</td>\n",
       "      <td>0.530686</td>\n",
       "      <td>0.173285</td>\n",
       "    </tr>\n",
       "    <tr>\n",
       "      <td>23477</td>\n",
       "      <td>Санкт-Петербург</td>\n",
       "      <td>3</td>\n",
       "      <td>5</td>\n",
       "      <td>60.69</td>\n",
       "      <td>39.700000</td>\n",
       "      <td>6.200</td>\n",
       "      <td>2</td>\n",
       "      <td>9</td>\n",
       "      <td>2018-03-13</td>\n",
       "      <td>30.0</td>\n",
       "      <td>5800000</td>\n",
       "      <td>14</td>\n",
       "      <td>2.50</td>\n",
       "      <td>False</td>\n",
       "      <td>False</td>\n",
       "      <td>False</td>\n",
       "      <td>15954.0</td>\n",
       "      <td>460.0</td>\n",
       "      <td>503.0</td>\n",
       "      <td>51239.0</td>\n",
       "      <td>0</td>\n",
       "      <td>0</td>\n",
       "      <td>95568</td>\n",
       "      <td>1</td>\n",
       "      <td>3</td>\n",
       "      <td>2018</td>\n",
       "      <td>другой</td>\n",
       "      <td>0.654144</td>\n",
       "      <td>0.102159</td>\n",
       "    </tr>\n",
       "    <tr>\n",
       "      <td>23500</td>\n",
       "      <td>Санкт-Петербург</td>\n",
       "      <td>3</td>\n",
       "      <td>5</td>\n",
       "      <td>184.00</td>\n",
       "      <td>55.700000</td>\n",
       "      <td>24.500</td>\n",
       "      <td>19</td>\n",
       "      <td>19</td>\n",
       "      <td>2016-04-21</td>\n",
       "      <td>205.0</td>\n",
       "      <td>19600000</td>\n",
       "      <td>5</td>\n",
       "      <td>3.00</td>\n",
       "      <td>False</td>\n",
       "      <td>False</td>\n",
       "      <td>False</td>\n",
       "      <td>4837.0</td>\n",
       "      <td>460.0</td>\n",
       "      <td>503.0</td>\n",
       "      <td>18995.0</td>\n",
       "      <td>0</td>\n",
       "      <td>0</td>\n",
       "      <td>106522</td>\n",
       "      <td>3</td>\n",
       "      <td>4</td>\n",
       "      <td>2016</td>\n",
       "      <td>последний</td>\n",
       "      <td>0.302717</td>\n",
       "      <td>0.133152</td>\n",
       "    </tr>\n",
       "    <tr>\n",
       "      <td>23543</td>\n",
       "      <td>Никольское</td>\n",
       "      <td>0</td>\n",
       "      <td>2</td>\n",
       "      <td>29.00</td>\n",
       "      <td>18.000000</td>\n",
       "      <td>5.075</td>\n",
       "      <td>8</td>\n",
       "      <td>9</td>\n",
       "      <td>2017-11-11</td>\n",
       "      <td>82.0</td>\n",
       "      <td>1450000</td>\n",
       "      <td>10</td>\n",
       "      <td>2.65</td>\n",
       "      <td>False</td>\n",
       "      <td>False</td>\n",
       "      <td>True</td>\n",
       "      <td>NaN</td>\n",
       "      <td>NaN</td>\n",
       "      <td>NaN</td>\n",
       "      <td>NaN</td>\n",
       "      <td>0</td>\n",
       "      <td>0</td>\n",
       "      <td>50000</td>\n",
       "      <td>5</td>\n",
       "      <td>11</td>\n",
       "      <td>2017</td>\n",
       "      <td>другой</td>\n",
       "      <td>0.620690</td>\n",
       "      <td>0.175000</td>\n",
       "    </tr>\n",
       "    <tr>\n",
       "      <td>23588</td>\n",
       "      <td>посёлок Бугры</td>\n",
       "      <td>0</td>\n",
       "      <td>2</td>\n",
       "      <td>26.00</td>\n",
       "      <td>17.000000</td>\n",
       "      <td>0.000</td>\n",
       "      <td>4</td>\n",
       "      <td>25</td>\n",
       "      <td>2018-06-26</td>\n",
       "      <td>207.0</td>\n",
       "      <td>2350000</td>\n",
       "      <td>8</td>\n",
       "      <td>2.65</td>\n",
       "      <td>False</td>\n",
       "      <td>True</td>\n",
       "      <td>False</td>\n",
       "      <td>NaN</td>\n",
       "      <td>NaN</td>\n",
       "      <td>NaN</td>\n",
       "      <td>NaN</td>\n",
       "      <td>0</td>\n",
       "      <td>0</td>\n",
       "      <td>90385</td>\n",
       "      <td>1</td>\n",
       "      <td>6</td>\n",
       "      <td>2018</td>\n",
       "      <td>другой</td>\n",
       "      <td>0.653846</td>\n",
       "      <td>0.000000</td>\n",
       "    </tr>\n",
       "  </tbody>\n",
       "</table>\n",
       "<p>438 rows × 29 columns</p>\n",
       "</div>"
      ],
      "text/plain": [
       "         locality_name  rooms  balcony  total_area  living_area  kitchen_area  \\\n",
       "41     Санкт-Петербург      3        5       74.00    59.000000        12.000   \n",
       "116    Санкт-Петербург      3        5       97.20    56.076923        18.300   \n",
       "144     посёлок Мурино      0        2       27.00    15.500000         0.000   \n",
       "250         Всеволожск      2        4       51.70    29.200000         7.700   \n",
       "263    Санкт-Петербург      2        4      140.60    39.800000        49.200   \n",
       "...                ...    ...      ...         ...          ...           ...   \n",
       "23448  Санкт-Петербург      2        4       55.40    29.400000         9.600   \n",
       "23477  Санкт-Петербург      3        5       60.69    39.700000         6.200   \n",
       "23500  Санкт-Петербург      3        5      184.00    55.700000        24.500   \n",
       "23543       Никольское      0        2       29.00    18.000000         5.075   \n",
       "23588    посёлок Бугры      0        2       26.00    17.000000         0.000   \n",
       "\n",
       "       floor  floors_total first_day_exposition  days_exposition  last_price  \\\n",
       "41         8            14           2016-05-04            179.0     7900000   \n",
       "116       16            16           2017-11-13            394.0    10999000   \n",
       "144        2            24           2017-03-30            181.0     2450000   \n",
       "250        5            16           2019-01-22             21.0     3200000   \n",
       "263        7             8           2016-11-19              NaN    39900000   \n",
       "...      ...           ...                  ...              ...         ...   \n",
       "23448     16            20           2019-04-22              NaN     6150000   \n",
       "23477      2             9           2018-03-13             30.0     5800000   \n",
       "23500     19            19           2016-04-21            205.0    19600000   \n",
       "23543      8             9           2017-11-11             82.0     1450000   \n",
       "23588      4            25           2018-06-26            207.0     2350000   \n",
       "\n",
       "       total_images  ceiling_height  is_apartment  is_studio  is_open_plan  \\\n",
       "41               16            2.65         False      False         False   \n",
       "116              18            2.50         False      False         False   \n",
       "144               1            2.65         False       True         False   \n",
       "250              13            2.65         False      False         False   \n",
       "263              12            3.50         False      False         False   \n",
       "...             ...             ...           ...        ...           ...   \n",
       "23448            17            2.80         False      False         False   \n",
       "23477            14            2.50         False      False         False   \n",
       "23500             5            3.00         False      False         False   \n",
       "23543            10            2.65         False      False          True   \n",
       "23588             8            2.65         False       True         False   \n",
       "\n",
       "       city_centers_nearest  parks_nearest  ponds_nearest  airports_nearest  \\\n",
       "41                  12612.0          725.0          759.0           37715.0   \n",
       "116                 21138.0          460.0          390.0           19426.0   \n",
       "144                     NaN            NaN            NaN               NaN   \n",
       "250                     NaN            NaN            NaN               NaN   \n",
       "263                  6589.0          460.0           99.0           32537.0   \n",
       "...                     ...            ...            ...               ...   \n",
       "23448               13873.0          460.0          481.0           16285.0   \n",
       "23477               15954.0          460.0          503.0           51239.0   \n",
       "23500                4837.0          460.0          503.0           18995.0   \n",
       "23543                   NaN            NaN            NaN               NaN   \n",
       "23588                   NaN            NaN            NaN               NaN   \n",
       "\n",
       "       parks_around3000  ponds_around3000  price_per_meter  \\\n",
       "41                    1                 1           106757   \n",
       "116                   0                 2           113158   \n",
       "144                   0                 0            90741   \n",
       "250                   0                 0            61896   \n",
       "263                   0                 3           283784   \n",
       "...                 ...               ...              ...   \n",
       "23448                 0                 1           111011   \n",
       "23477                 0                 0            95568   \n",
       "23500                 0                 0           106522   \n",
       "23543                 0                 0            50000   \n",
       "23588                 0                 0            90385   \n",
       "\n",
       "       weekday_exposition  month_exposition  year_exposition floor_category  \\\n",
       "41                      2                 5             2016         другой   \n",
       "116                     0                11             2017      последний   \n",
       "144                     3                 3             2017         другой   \n",
       "250                     1                 1             2019         другой   \n",
       "263                     5                11             2016         другой   \n",
       "...                   ...               ...              ...            ...   \n",
       "23448                   0                 4             2019         другой   \n",
       "23477                   1                 3             2018         другой   \n",
       "23500                   3                 4             2016      последний   \n",
       "23543                   5                11             2017         другой   \n",
       "23588                   1                 6             2018         другой   \n",
       "\n",
       "       living_area_ratio  kitchen_area_ratio  \n",
       "41              0.797297            0.162162  \n",
       "116             0.576923            0.188272  \n",
       "144             0.574074            0.000000  \n",
       "250             0.564797            0.148936  \n",
       "263             0.283073            0.349929  \n",
       "...                  ...                 ...  \n",
       "23448           0.530686            0.173285  \n",
       "23477           0.654144            0.102159  \n",
       "23500           0.302717            0.133152  \n",
       "23543           0.620690            0.175000  \n",
       "23588           0.653846            0.000000  \n",
       "\n",
       "[438 rows x 29 columns]"
      ]
     },
     "execution_count": 79,
     "metadata": {},
     "output_type": "execute_result"
    }
   ],
   "source": [
    "# посмотрим сначала на такой вариант, когда в квартире может быть балконов больше чем кол-во комнат + кухня.\n",
    "real_estate_clear.query('balcony > rooms + 1')"
   ]
  },
  {
   "cell_type": "code",
   "execution_count": 80,
   "metadata": {},
   "outputs": [],
   "source": [
    "# отсечем квартиры где балконов больше чем кол-во комнат + 1 (кухня).\n",
    "real_estate_clear = real_estate_clear.query('balcony <= rooms + 1')"
   ]
  },
  {
   "cell_type": "code",
   "execution_count": 81,
   "metadata": {},
   "outputs": [
    {
     "data": {
      "image/png": "[encoded data removed]",
      "text/plain": [
       "<Figure size 720x288 with 1 Axes>"
      ]
     },
     "metadata": {
      "needs_background": "light"
     },
     "output_type": "display_data"
    }
   ],
   "source": [
    "# построим гистограмму общей площади\n",
    "ax = real_estate_clear['total_area'].plot(kind='hist', bins=30, figsize=(10, 4), grid=True, title='total_area')\n",
    "ax.set(xlabel=\"total_area\", ylabel=\"count\")\n",
    "plt.show()"
   ]
  },
  {
   "cell_type": "code",
   "execution_count": 82,
   "metadata": {},
   "outputs": [],
   "source": [
    "# отсечем квартиры с площадью больше 200 кв м\n",
    "real_estate_clear = real_estate_clear.query('total_area < 200')"
   ]
  },
  {
   "cell_type": "code",
   "execution_count": 83,
   "metadata": {},
   "outputs": [
    {
     "data": {
      "image/png": "[encoded data removed]",
      "text/plain": [
       "<Figure size 720x288 with 1 Axes>"
      ]
     },
     "metadata": {
      "needs_background": "light"
     },
     "output_type": "display_data"
    }
   ],
   "source": [
    "# построим гистограмму кол-ва дней\n",
    "ax = real_estate_clear['days_exposition'].plot(kind='hist', bins=30, figsize=(10, 4), grid=True, title='days_exposition')\n",
    "ax.set(xlabel='days_exposition', ylabel='count')\n",
    "plt.show()"
   ]
  },
  {
   "cell_type": "code",
   "execution_count": 84,
   "metadata": {},
   "outputs": [],
   "source": [
    "# отсечем квартиры с объявлениея больше 1000 дней\n",
    "real_estate_clear = real_estate_clear.query('days_exposition < 1000')"
   ]
  },
  {
   "cell_type": "code",
   "execution_count": 85,
   "metadata": {
    "scrolled": true
   },
   "outputs": [
    {
     "data": {
      "image/png": "[encoded data removed]",
      "text/plain": [
       "<Figure size 720x288 with 1 Axes>"
      ]
     },
     "metadata": {
      "needs_background": "light"
     },
     "output_type": "display_data"
    }
   ],
   "source": [
    "# построим гистограмму цены\n",
    "ax = real_estate_clear['last_price'].plot(kind='hist', bins=30, figsize=(10, 4), grid=True, title='last_price')\n",
    "ax.set(xlabel='last_price', ylabel='count')\n",
    "plt.show()"
   ]
  },
  {
   "cell_type": "code",
   "execution_count": 86,
   "metadata": {},
   "outputs": [
    {
     "data": {
      "image/png": "[encoded data removed]",
      "text/plain": [
       "<Figure size 720x288 with 1 Axes>"
      ]
     },
     "metadata": {
      "needs_background": "light"
     },
     "output_type": "display_data"
    }
   ],
   "source": [
    "# и детальнее посмотрим первые млн\n",
    "ax = real_estate_clear['last_price'].plot(kind='hist', bins=30, figsize=(10, 4), range=(0, 1000000), grid=True, title='last_price 0-10 mln')\n",
    "ax.set(xlabel='last_price', ylabel='count')\n",
    "plt.show()"
   ]
  },
  {
   "cell_type": "code",
   "execution_count": 87,
   "metadata": {},
   "outputs": [],
   "source": [
    "# отсечем квартиры с ценой до 400 тыс и ценой больше 20 млн\n",
    "real_estate_clear = real_estate_clear.query('last_price >= 400000 and last_price < 20000000')"
   ]
  },
  {
   "cell_type": "code",
   "execution_count": 88,
   "metadata": {},
   "outputs": [
    {
     "data": {
      "image/png": "[encoded data removed]",
      "text/plain": [
       "<Figure size 720x288 with 1 Axes>"
      ]
     },
     "metadata": {
      "needs_background": "light"
     },
     "output_type": "display_data"
    }
   ],
   "source": [
    "# построим гистограмму высоты с диапазоном от 0 до 5 м\n",
    "ax = real_estate_clear['ceiling_height'].plot(kind='hist', bins=20, figsize=(10, 4), range=(0, 5), grid=True, title='ceiling_height')\n",
    "ax.set(xlabel='ceiling_height', ylabel='count')\n",
    "plt.show()"
   ]
  },
  {
   "cell_type": "code",
   "execution_count": 89,
   "metadata": {},
   "outputs": [],
   "source": [
    "# отсечем квартиры с высотой потолков до 2 м и выше 5\n",
    "real_estate_clear = real_estate_clear.query('ceiling_height >= 2 and ceiling_height < 5')"
   ]
  },
  {
   "cell_type": "code",
   "execution_count": 90,
   "metadata": {},
   "outputs": [
    {
     "data": {
      "text/plain": [
       "(23650, 19276)"
      ]
     },
     "execution_count": 90,
     "metadata": {},
     "output_type": "execute_result"
    }
   ],
   "source": [
    "# и посмотрим на сколько порядела наша выборка относительно изначальной\n",
    "(real_estate.shape[0], real_estate_clear.shape[0])"
   ]
  },
  {
   "cell_type": "markdown",
   "metadata": {},
   "source": [
    "**Вывод**\n",
    "\n",
    "Мы изучили площади квартир, цены, кол-во комнат и высоту потолков.\n",
    "\n",
    "Выяснили, что 75% объявлений с квартирами до 70 кв. м.,но при этом максимально размер 900 кв м. Квартир с площадью больше 200 кв м очень мало.\n",
    "\n",
    "Узнали что цена 75% квартир до 7 млн. А самая дорогая квартира 763 млн.\n",
    "\n",
    "Основная масса объявлений с 1-2 комантными квартирами, чуть меньше 3х комнатных квартир. Студии и квартиры с 4+ комнатами в меньшем кол-ве.\n",
    "\n",
    "Самая часто встречающаяся высота потолков находится в диапазоне от 2.5 до 2.75 м.\n",
    "\n",
    "Продажи обычно занимают от 45 до 230 дней. В среднем 95 дней.\n",
    "\n",
    "Убрали выбросы и анамалии в виде 14-19 комнатных квартир, квартир с 4-5 балконами, с площадью больше 200 кв м, ценой 12000 и ценой больше 20 млн, а так же высотой потолков меньше 2х метров и больше 5."
   ]
  },
  {
   "cell_type": "markdown",
   "metadata": {},
   "source": [
    "#### 4.4 Какие факторы больше всего влияют на стоимость квартиры? \n",
    "- Изучите, зависит ли цена от площади, числа комнат, удалённости от центра. \n",
    "- Изучите зависимость цены от того, на каком этаже расположена квартира: первом, последнем или другом. \n",
    "- Также изучите зависимость от даты размещения: дня недели, месяца и года."
   ]
  },
  {
   "cell_type": "code",
   "execution_count": 91,
   "metadata": {},
   "outputs": [
    {
     "data": {
      "text/html": [
       "<div>\n",
       "<style scoped>\n",
       "    .dataframe tbody tr th:only-of-type {\n",
       "        vertical-align: middle;\n",
       "    }\n",
       "\n",
       "    .dataframe tbody tr th {\n",
       "        vertical-align: top;\n",
       "    }\n",
       "\n",
       "    .dataframe thead th {\n",
       "        text-align: right;\n",
       "    }\n",
       "</style>\n",
       "<table border=\"1\" class=\"dataframe\">\n",
       "  <thead>\n",
       "    <tr style=\"text-align: right;\">\n",
       "      <th></th>\n",
       "      <th>last_price</th>\n",
       "      <th>total_area</th>\n",
       "      <th>rooms</th>\n",
       "      <th>city_centers_nearest</th>\n",
       "    </tr>\n",
       "  </thead>\n",
       "  <tbody>\n",
       "    <tr>\n",
       "      <td>last_price</td>\n",
       "      <td>1.000000</td>\n",
       "      <td>0.770407</td>\n",
       "      <td>0.506199</td>\n",
       "      <td>-0.363717</td>\n",
       "    </tr>\n",
       "    <tr>\n",
       "      <td>total_area</td>\n",
       "      <td>0.770407</td>\n",
       "      <td>1.000000</td>\n",
       "      <td>0.803133</td>\n",
       "      <td>-0.201476</td>\n",
       "    </tr>\n",
       "    <tr>\n",
       "      <td>rooms</td>\n",
       "      <td>0.506199</td>\n",
       "      <td>0.803133</td>\n",
       "      <td>1.000000</td>\n",
       "      <td>-0.142851</td>\n",
       "    </tr>\n",
       "    <tr>\n",
       "      <td>city_centers_nearest</td>\n",
       "      <td>-0.363717</td>\n",
       "      <td>-0.201476</td>\n",
       "      <td>-0.142851</td>\n",
       "      <td>1.000000</td>\n",
       "    </tr>\n",
       "  </tbody>\n",
       "</table>\n",
       "</div>"
      ],
      "text/plain": [
       "                      last_price  total_area     rooms  city_centers_nearest\n",
       "last_price              1.000000    0.770407  0.506199             -0.363717\n",
       "total_area              0.770407    1.000000  0.803133             -0.201476\n",
       "rooms                   0.506199    0.803133  1.000000             -0.142851\n",
       "city_centers_nearest   -0.363717   -0.201476 -0.142851              1.000000"
      ]
     },
     "execution_count": 91,
     "metadata": {},
     "output_type": "execute_result"
    }
   ],
   "source": [
    "real_estate_clear[['last_price', 'total_area', 'rooms', 'city_centers_nearest']].corr()"
   ]
  },
  {
   "cell_type": "markdown",
   "metadata": {},
   "source": [
    "Цена зависит в первую очередь от общей площади (0.77). А так же цена отрицательно коррелирует с удаленностью от центра, что логично."
   ]
  },
  {
   "cell_type": "code",
   "execution_count": 92,
   "metadata": {
    "scrolled": true
   },
   "outputs": [
    {
     "data": {
      "text/html": [
       "<div>\n",
       "<style scoped>\n",
       "    .dataframe tbody tr th:only-of-type {\n",
       "        vertical-align: middle;\n",
       "    }\n",
       "\n",
       "    .dataframe tbody tr th {\n",
       "        vertical-align: top;\n",
       "    }\n",
       "\n",
       "    .dataframe thead tr th {\n",
       "        text-align: left;\n",
       "    }\n",
       "\n",
       "    .dataframe thead tr:last-of-type th {\n",
       "        text-align: right;\n",
       "    }\n",
       "</style>\n",
       "<table border=\"1\" class=\"dataframe\">\n",
       "  <thead>\n",
       "    <tr>\n",
       "      <th></th>\n",
       "      <th>count</th>\n",
       "      <th>median</th>\n",
       "      <th>mean</th>\n",
       "    </tr>\n",
       "    <tr>\n",
       "      <th></th>\n",
       "      <th>last_price</th>\n",
       "      <th>last_price</th>\n",
       "      <th>last_price</th>\n",
       "    </tr>\n",
       "    <tr>\n",
       "      <th>floor_category</th>\n",
       "      <th></th>\n",
       "      <th></th>\n",
       "      <th></th>\n",
       "    </tr>\n",
       "  </thead>\n",
       "  <tbody>\n",
       "    <tr>\n",
       "      <td>другой</td>\n",
       "      <td>14191</td>\n",
       "      <td>4600000</td>\n",
       "      <td>5.424217e+06</td>\n",
       "    </tr>\n",
       "    <tr>\n",
       "      <td>первый</td>\n",
       "      <td>2384</td>\n",
       "      <td>3799500</td>\n",
       "      <td>4.197981e+06</td>\n",
       "    </tr>\n",
       "    <tr>\n",
       "      <td>последний</td>\n",
       "      <td>2701</td>\n",
       "      <td>4160000</td>\n",
       "      <td>4.972312e+06</td>\n",
       "    </tr>\n",
       "  </tbody>\n",
       "</table>\n",
       "</div>"
      ],
      "text/plain": [
       "                    count     median          mean\n",
       "               last_price last_price    last_price\n",
       "floor_category                                    \n",
       "другой              14191    4600000  5.424217e+06\n",
       "первый               2384    3799500  4.197981e+06\n",
       "последний            2701    4160000  4.972312e+06"
      ]
     },
     "execution_count": 92,
     "metadata": {},
     "output_type": "execute_result"
    }
   ],
   "source": [
    "# посмотрим на зависимость цены от этажности\n",
    "real_estate_clear.pivot_table(index='floor_category', values='last_price', aggfunc=['count', 'median', 'mean'])"
   ]
  },
  {
   "cell_type": "markdown",
   "metadata": {},
   "source": [
    "- Квартиры с первого этажа имеют самую низкую стоимость по медиане и по среднему значению. \n",
    "- Квартиры с последнего этажа немного выше оцениваются.\n",
    "- Оставшиеся квартиры имеют самую высокую цену как по медиане так и по среднему значению. Стоит так же учитывать что таких квартир во много раз больше."
   ]
  },
  {
   "cell_type": "code",
   "execution_count": 93,
   "metadata": {
    "scrolled": false
   },
   "outputs": [
    {
     "data": {
      "image/png": "[encoded data removed]",
      "text/plain": [
       "<Figure size 720x288 with 1 Axes>"
      ]
     },
     "metadata": {
      "needs_background": "light"
     },
     "output_type": "display_data"
    },
    {
     "data": {
      "image/png": "[encoded data removed]",
      "text/plain": [
       "<Figure size 720x288 with 1 Axes>"
      ]
     },
     "metadata": {
      "needs_background": "light"
     },
     "output_type": "display_data"
    },
    {
     "data": {
      "image/png": "[encoded data removed]",
      "text/plain": [
       "<Figure size 720x288 with 1 Axes>"
      ]
     },
     "metadata": {
      "needs_background": "light"
     },
     "output_type": "display_data"
    }
   ],
   "source": [
    "# посмотрим на зависимость цены даты размещения\n",
    "def exposition_plot(df, index):\n",
    "    ax = df.pivot_table(index=index, values='last_price', aggfunc=['median']).plot(style='o-', figsize=(10, 4), grid=True, title=index)\n",
    "    ax.set(xlabel=index, ylabel='median')\n",
    "    plt.show()\n",
    "\n",
    "for index in ['weekday_exposition', 'month_exposition', 'year_exposition']:\n",
    "    exposition_plot(real_estate_clear, index)"
   ]
  },
  {
   "cell_type": "markdown",
   "metadata": {},
   "source": [
    "Можно сказать, что в начале недели и в конце размещаются самые дешенвые варианты, а самые дорогие варианты размещаются во вторник и среду.\n",
    "По месяцам ведино самыые дорогие варианты размещаются в сентябре, а самые дешевые варианты в июне.\n",
    "По годам видно, как стоимость жилья падала с 2014 по 2017 год, последние 2 года стоимость немного росла."
   ]
  },
  {
   "cell_type": "markdown",
   "metadata": {},
   "source": [
    "#### 4.5 Выберите 10 населённых пунктов с наибольшим числом объявлений. \n",
    "- Посчитайте среднюю цену квадратного метра в этих населённых пунктах. \n",
    "- Выделите среди них населённые пункты с самой высокой и низкой стоимостью жилья. \n",
    "\n",
    "Эти данные можно найти по имени в столбце 'locality_name'."
   ]
  },
  {
   "cell_type": "code",
   "execution_count": 94,
   "metadata": {},
   "outputs": [
    {
     "data": {
      "text/plain": [
       "Санкт-Петербург      12669\n",
       "посёлок Мурино         489\n",
       "посёлок Шушары         398\n",
       "Всеволожск             326\n",
       "посёлок Парголово      299\n",
       "Колпино                298\n",
       "Пушкин                 294\n",
       "деревня Кудрово        282\n",
       "Гатчина                258\n",
       "Выборг                 207\n",
       "Name: locality_name, dtype: int64"
      ]
     },
     "execution_count": 94,
     "metadata": {},
     "output_type": "execute_result"
    }
   ],
   "source": [
    "# выберем топ 10 населенных пунктов по кол-ву объявлений\n",
    "top10 = real_estate_clear['locality_name'].value_counts().sort_values(ascending=False).head(10)\n",
    "top10"
   ]
  },
  {
   "cell_type": "code",
   "execution_count": 95,
   "metadata": {
    "scrolled": false
   },
   "outputs": [
    {
     "data": {
      "text/plain": [
       "locality_name\n",
       "Санкт-Петербург      102083.0\n",
       "Пушкин                97725.5\n",
       "деревня Кудрово       91930.0\n",
       "посёлок Парголово     91429.0\n",
       "посёлок Мурино        85714.0\n",
       "посёлок Шушары        76439.0\n",
       "Колпино               73356.0\n",
       "Гатчина               67123.5\n",
       "Всеволожск            65737.5\n",
       "Выборг                56944.0\n",
       "Name: price_per_meter, dtype: float64"
      ]
     },
     "execution_count": 95,
     "metadata": {},
     "output_type": "execute_result"
    }
   ],
   "source": [
    "# посчитаем среднюю цену квадратного метра\n",
    "locality_price_median = (\n",
    "    real_estate_clear.query('locality_name in @top10.index')\n",
    "    .groupby('locality_name')['price_per_meter']\n",
    "    .median()\n",
    "    .sort_values(ascending=False)\n",
    ")\n",
    "\n",
    "locality_price_median"
   ]
  },
  {
   "cell_type": "markdown",
   "metadata": {},
   "source": [
    "Квартиры с самой высокой стоимостью находятся в Санкт-Петербурге, что не удивительно, а с самой низкой стоимостью в Выборге."
   ]
  },
  {
   "cell_type": "markdown",
   "metadata": {},
   "source": [
    "#### 4.6 Изучите предложения квартир: для каждой квартиры есть информация о расстоянии до центра. \n",
    "Выделите квартиры в Санкт-Петербурге ('locality_name'). \n",
    "\n",
    "Ваша задача — выяснить, какая область входит в центр. \n",
    "\n",
    "- Создайте столбец с расстоянием до центра в километрах: округлите до целых значений. \n",
    "- После этого посчитайте среднюю цену для каждого километра. \n",
    "- Постройте график: он должен показывать, как цена зависит от удалённости от центра. \n",
    "- Определите границу, где график сильно меняется — это и будет центральная зона."
   ]
  },
  {
   "cell_type": "code",
   "execution_count": 96,
   "metadata": {},
   "outputs": [],
   "source": [
    "# выберем все объявления из Санкт-Петербурга\n",
    "piter = real_estate_clear.query('locality_name == \"Санкт-Петербург\"')"
   ]
  },
  {
   "cell_type": "code",
   "execution_count": 97,
   "metadata": {
    "scrolled": false
   },
   "outputs": [
    {
     "name": "stderr",
     "output_type": "stream",
     "text": [
      "/opt/conda/lib/python3.7/site-packages/ipykernel_launcher.py:2: SettingWithCopyWarning: \n",
      "A value is trying to be set on a copy of a slice from a DataFrame.\n",
      "Try using .loc[row_indexer,col_indexer] = value instead\n",
      "\n",
      "See the caveats in the documentation: http://pandas.pydata.org/pandas-docs/stable/user_guide/indexing.html#returning-a-view-versus-a-copy\n",
      "  \n"
     ]
    }
   ],
   "source": [
    "# запишем в новый столбец расстояние подерленное на 1000\n",
    "piter['city_centers_nearest_km'] = (piter['city_centers_nearest'] / 1000).round()"
   ]
  },
  {
   "cell_type": "code",
   "execution_count": 98,
   "metadata": {
    "scrolled": false
   },
   "outputs": [
    {
     "data": {
      "text/plain": [
       "city_centers_nearest_km\n",
       "0.0     8795000\n",
       "1.0     9675000\n",
       "2.0     8900000\n",
       "3.0     7600000\n",
       "4.0     8340000\n",
       "5.0     8150000\n",
       "6.0     7500000\n",
       "7.0     6525000\n",
       "8.0     6520000\n",
       "9.0     5100000\n",
       "10.0    4800000\n",
       "11.0    4800000\n",
       "12.0    4800000\n",
       "13.0    5055000\n",
       "14.0    4700000\n",
       "15.0    4700000\n",
       "16.0    4600000\n",
       "17.0    4500000\n",
       "18.0    4199000\n",
       "19.0    4300000\n",
       "20.0    5225000\n",
       "21.0    4850000\n",
       "22.0    4650000\n",
       "23.0    4270000\n",
       "24.0    3610000\n",
       "25.0    3794881\n",
       "26.0    3310000\n",
       "27.0    8300000\n",
       "28.0    4990000\n",
       "29.0    4370000\n",
       "Name: last_price, dtype: int64"
      ]
     },
     "execution_count": 98,
     "metadata": {},
     "output_type": "execute_result"
    }
   ],
   "source": [
    "# посчитаем медиану стоимости каждого километра\n",
    "piter_km_price = piter.groupby('city_centers_nearest_km')['last_price'].median()\n",
    "piter_km_price"
   ]
  },
  {
   "cell_type": "code",
   "execution_count": 99,
   "metadata": {},
   "outputs": [
    {
     "data": {
      "image/png": "[encoded data removed]",
      "text/plain": [
       "<Figure size 720x288 with 1 Axes>"
      ]
     },
     "metadata": {
      "needs_background": "light"
     },
     "output_type": "display_data"
    }
   ],
   "source": [
    "ax = piter_km_price.plot(style='o-', figsize=(10, 4), grid=True, title='last_price per km')\n",
    "ax.set(xlabel='city_centers_nearest_km', ylabel='last_price')\n",
    "plt.show()"
   ]
  },
  {
   "cell_type": "markdown",
   "metadata": {},
   "source": [
    "На графике видно как стоимость каждого последующего км уменьшается, кроме резкого всплеска в конце графика.\n",
    "Примерно после 7-8 км идет резкий спад стоимости, будем считать это центральная зона."
   ]
  },
  {
   "cell_type": "markdown",
   "metadata": {},
   "source": [
    "#### 4.7 Выделите сегмент квартир в центре. \n",
    "- Проанализируйте эту территорию и изучите следующие параметры: площадь, цена, число комнат, высота потолков. \n",
    "- Также выделите факторы, которые влияют на стоимость квартиры (число комнат, этаж, удалённость от центра, дата размещения объявления). \n",
    "- Сделайте выводы. Отличаются ли они от общих выводов по всему городу?"
   ]
  },
  {
   "cell_type": "code",
   "execution_count": 100,
   "metadata": {},
   "outputs": [],
   "source": [
    "# как выяснили ранее центральная зона у нас до 8 км\n",
    "piter_center = piter.query('city_centers_nearest_km < 8')"
   ]
  },
  {
   "cell_type": "code",
   "execution_count": 101,
   "metadata": {
    "scrolled": false
   },
   "outputs": [
    {
     "data": {
      "text/html": [
       "<div>\n",
       "<style scoped>\n",
       "    .dataframe tbody tr th:only-of-type {\n",
       "        vertical-align: middle;\n",
       "    }\n",
       "\n",
       "    .dataframe tbody tr th {\n",
       "        vertical-align: top;\n",
       "    }\n",
       "\n",
       "    .dataframe thead th {\n",
       "        text-align: right;\n",
       "    }\n",
       "</style>\n",
       "<table border=\"1\" class=\"dataframe\">\n",
       "  <thead>\n",
       "    <tr style=\"text-align: right;\">\n",
       "      <th></th>\n",
       "      <th>total_area</th>\n",
       "      <th>last_price</th>\n",
       "      <th>rooms</th>\n",
       "      <th>ceiling_height</th>\n",
       "    </tr>\n",
       "  </thead>\n",
       "  <tbody>\n",
       "    <tr>\n",
       "      <td>count</td>\n",
       "      <td>2431.000000</td>\n",
       "      <td>2.431000e+03</td>\n",
       "      <td>2431.000000</td>\n",
       "      <td>2431.000000</td>\n",
       "    </tr>\n",
       "    <tr>\n",
       "      <td>mean</td>\n",
       "      <td>74.589671</td>\n",
       "      <td>8.747912e+06</td>\n",
       "      <td>2.534348</td>\n",
       "      <td>2.890753</td>\n",
       "    </tr>\n",
       "    <tr>\n",
       "      <td>std</td>\n",
       "      <td>30.687855</td>\n",
       "      <td>3.626710e+06</td>\n",
       "      <td>1.153431</td>\n",
       "      <td>0.330961</td>\n",
       "    </tr>\n",
       "    <tr>\n",
       "      <td>min</td>\n",
       "      <td>12.000000</td>\n",
       "      <td>1.600000e+06</td>\n",
       "      <td>0.000000</td>\n",
       "      <td>2.400000</td>\n",
       "    </tr>\n",
       "    <tr>\n",
       "      <td>25%</td>\n",
       "      <td>51.000000</td>\n",
       "      <td>6.025000e+06</td>\n",
       "      <td>2.000000</td>\n",
       "      <td>2.650000</td>\n",
       "    </tr>\n",
       "    <tr>\n",
       "      <td>50%</td>\n",
       "      <td>70.000000</td>\n",
       "      <td>8.000000e+06</td>\n",
       "      <td>2.000000</td>\n",
       "      <td>2.710000</td>\n",
       "    </tr>\n",
       "    <tr>\n",
       "      <td>75%</td>\n",
       "      <td>91.750000</td>\n",
       "      <td>1.090000e+07</td>\n",
       "      <td>3.000000</td>\n",
       "      <td>3.085000</td>\n",
       "    </tr>\n",
       "    <tr>\n",
       "      <td>max</td>\n",
       "      <td>197.200000</td>\n",
       "      <td>1.999900e+07</td>\n",
       "      <td>7.000000</td>\n",
       "      <td>4.800000</td>\n",
       "    </tr>\n",
       "  </tbody>\n",
       "</table>\n",
       "</div>"
      ],
      "text/plain": [
       "        total_area    last_price        rooms  ceiling_height\n",
       "count  2431.000000  2.431000e+03  2431.000000     2431.000000\n",
       "mean     74.589671  8.747912e+06     2.534348        2.890753\n",
       "std      30.687855  3.626710e+06     1.153431        0.330961\n",
       "min      12.000000  1.600000e+06     0.000000        2.400000\n",
       "25%      51.000000  6.025000e+06     2.000000        2.650000\n",
       "50%      70.000000  8.000000e+06     2.000000        2.710000\n",
       "75%      91.750000  1.090000e+07     3.000000        3.085000\n",
       "max     197.200000  1.999900e+07     7.000000        4.800000"
      ]
     },
     "execution_count": 101,
     "metadata": {},
     "output_type": "execute_result"
    }
   ],
   "source": [
    "# посмотрим на основные статистические показатели центра\n",
    "piter_center[['total_area', 'last_price', 'rooms', 'ceiling_height']].describe()"
   ]
  },
  {
   "cell_type": "code",
   "execution_count": 102,
   "metadata": {},
   "outputs": [
    {
     "data": {
      "text/html": [
       "<div>\n",
       "<style scoped>\n",
       "    .dataframe tbody tr th:only-of-type {\n",
       "        vertical-align: middle;\n",
       "    }\n",
       "\n",
       "    .dataframe tbody tr th {\n",
       "        vertical-align: top;\n",
       "    }\n",
       "\n",
       "    .dataframe thead th {\n",
       "        text-align: right;\n",
       "    }\n",
       "</style>\n",
       "<table border=\"1\" class=\"dataframe\">\n",
       "  <thead>\n",
       "    <tr style=\"text-align: right;\">\n",
       "      <th></th>\n",
       "      <th>total_area</th>\n",
       "      <th>last_price</th>\n",
       "      <th>rooms</th>\n",
       "      <th>ceiling_height</th>\n",
       "    </tr>\n",
       "  </thead>\n",
       "  <tbody>\n",
       "    <tr>\n",
       "      <td>count</td>\n",
       "      <td>12669.000000</td>\n",
       "      <td>1.266900e+04</td>\n",
       "      <td>12669.000000</td>\n",
       "      <td>12669.000000</td>\n",
       "    </tr>\n",
       "    <tr>\n",
       "      <td>mean</td>\n",
       "      <td>57.702904</td>\n",
       "      <td>6.145669e+06</td>\n",
       "      <td>2.035836</td>\n",
       "      <td>2.700116</td>\n",
       "    </tr>\n",
       "    <tr>\n",
       "      <td>std</td>\n",
       "      <td>24.317759</td>\n",
       "      <td>3.064998e+06</td>\n",
       "      <td>0.983112</td>\n",
       "      <td>0.211147</td>\n",
       "    </tr>\n",
       "    <tr>\n",
       "      <td>min</td>\n",
       "      <td>12.000000</td>\n",
       "      <td>1.190000e+06</td>\n",
       "      <td>0.000000</td>\n",
       "      <td>2.000000</td>\n",
       "    </tr>\n",
       "    <tr>\n",
       "      <td>25%</td>\n",
       "      <td>40.500000</td>\n",
       "      <td>4.050000e+06</td>\n",
       "      <td>1.000000</td>\n",
       "      <td>2.600000</td>\n",
       "    </tr>\n",
       "    <tr>\n",
       "      <td>50%</td>\n",
       "      <td>51.500000</td>\n",
       "      <td>5.200000e+06</td>\n",
       "      <td>2.000000</td>\n",
       "      <td>2.650000</td>\n",
       "    </tr>\n",
       "    <tr>\n",
       "      <td>75%</td>\n",
       "      <td>69.000000</td>\n",
       "      <td>7.200000e+06</td>\n",
       "      <td>3.000000</td>\n",
       "      <td>2.700000</td>\n",
       "    </tr>\n",
       "    <tr>\n",
       "      <td>max</td>\n",
       "      <td>199.200000</td>\n",
       "      <td>1.999900e+07</td>\n",
       "      <td>7.000000</td>\n",
       "      <td>4.800000</td>\n",
       "    </tr>\n",
       "  </tbody>\n",
       "</table>\n",
       "</div>"
      ],
      "text/plain": [
       "         total_area    last_price         rooms  ceiling_height\n",
       "count  12669.000000  1.266900e+04  12669.000000    12669.000000\n",
       "mean      57.702904  6.145669e+06      2.035836        2.700116\n",
       "std       24.317759  3.064998e+06      0.983112        0.211147\n",
       "min       12.000000  1.190000e+06      0.000000        2.000000\n",
       "25%       40.500000  4.050000e+06      1.000000        2.600000\n",
       "50%       51.500000  5.200000e+06      2.000000        2.650000\n",
       "75%       69.000000  7.200000e+06      3.000000        2.700000\n",
       "max      199.200000  1.999900e+07      7.000000        4.800000"
      ]
     },
     "execution_count": 102,
     "metadata": {},
     "output_type": "execute_result"
    }
   ],
   "source": [
    "# посмотрим на основные статистические показатели всего города\n",
    "piter[['total_area', 'last_price', 'rooms', 'ceiling_height']].describe()"
   ]
  },
  {
   "cell_type": "code",
   "execution_count": 103,
   "metadata": {},
   "outputs": [
    {
     "data": {
      "image/png": "[encoded data removed]",
      "text/plain": [
       "<Figure size 864x432 with 1 Axes>"
      ]
     },
     "metadata": {
      "needs_background": "light"
     },
     "output_type": "display_data"
    },
    {
     "data": {
      "image/png": "[encoded data removed]",
      "text/plain": [
       "<Figure size 864x432 with 1 Axes>"
      ]
     },
     "metadata": {
      "needs_background": "light"
     },
     "output_type": "display_data"
    },
    {
     "data": {
      "image/png": "[encoded data removed]",
      "text/plain": [
       "<Figure size 864x432 with 1 Axes>"
      ]
     },
     "metadata": {
      "needs_background": "light"
     },
     "output_type": "display_data"
    },
    {
     "data": {
      "image/png": "[encoded data removed]",
      "text/plain": [
       "<Figure size 864x432 with 1 Axes>"
      ]
     },
     "metadata": {
      "needs_background": "light"
     },
     "output_type": "display_data"
    }
   ],
   "source": [
    "# сделаем функцию для отрисовки гистограмм\n",
    "def piter_vs_center(column):\n",
    "    plt.figure(figsize=(12,6))\n",
    "    piter[column].plot(kind='hist', bins=30, color='b', grid=True, alpha=0.5, density=True)\n",
    "    piter_center[column].plot(kind='hist', bins=30, color='g', grid=True, alpha=0.5, density=True)\n",
    "    plt.title(column)\n",
    "    plt.xlabel(column)\n",
    "    plt.ylabel('count')\n",
    "    plt.show()\n",
    "\n",
    "for column in ['total_area', 'last_price', 'rooms', 'ceiling_height']:\n",
    "    piter_vs_center(column)"
   ]
  },
  {
   "cell_type": "markdown",
   "metadata": {},
   "source": [
    "В отличии от всего Санкт-Петербурга, в центре города площадь от 40 до 75 кв м это основное кол-во квартир. Медиана площади практически не отличается в центре и во всем городе, а вот среднее значение в центре 74 кв м против 57 кв м во всем городе, это означает что в центре квартиры по общей площади более равномерно представлены, нет перекоса в сторону квартир с меньшей площалью, что видно на совмещенной гистограмме.\n",
    "\n",
    "Тоже самое и с ценой. Среднее и медиана значительно больше в центре.\n",
    "\n",
    "Кол-во комнат так же отличается, в центре представлено больше 2-3 комнатных квартир, а во всем городе большинство же за 1-2 комнатными квартирами.\n",
    "\n",
    "Высота потолков точно так же в центре выше чем во всем городе."
   ]
  },
  {
   "cell_type": "code",
   "execution_count": 104,
   "metadata": {
    "scrolled": false
   },
   "outputs": [
    {
     "data": {
      "text/html": [
       "<div>\n",
       "<style scoped>\n",
       "    .dataframe tbody tr th:only-of-type {\n",
       "        vertical-align: middle;\n",
       "    }\n",
       "\n",
       "    .dataframe tbody tr th {\n",
       "        vertical-align: top;\n",
       "    }\n",
       "\n",
       "    .dataframe thead th {\n",
       "        text-align: right;\n",
       "    }\n",
       "</style>\n",
       "<table border=\"1\" class=\"dataframe\">\n",
       "  <thead>\n",
       "    <tr style=\"text-align: right;\">\n",
       "      <th></th>\n",
       "      <th>last_price</th>\n",
       "      <th>rooms</th>\n",
       "      <th>city_centers_nearest</th>\n",
       "    </tr>\n",
       "  </thead>\n",
       "  <tbody>\n",
       "    <tr>\n",
       "      <td>last_price</td>\n",
       "      <td>1.000000</td>\n",
       "      <td>0.481926</td>\n",
       "      <td>-0.141371</td>\n",
       "    </tr>\n",
       "    <tr>\n",
       "      <td>rooms</td>\n",
       "      <td>0.481926</td>\n",
       "      <td>1.000000</td>\n",
       "      <td>-0.209342</td>\n",
       "    </tr>\n",
       "    <tr>\n",
       "      <td>city_centers_nearest</td>\n",
       "      <td>-0.141371</td>\n",
       "      <td>-0.209342</td>\n",
       "      <td>1.000000</td>\n",
       "    </tr>\n",
       "  </tbody>\n",
       "</table>\n",
       "</div>"
      ],
      "text/plain": [
       "                      last_price     rooms  city_centers_nearest\n",
       "last_price              1.000000  0.481926             -0.141371\n",
       "rooms                   0.481926  1.000000             -0.209342\n",
       "city_centers_nearest   -0.141371 -0.209342              1.000000"
      ]
     },
     "execution_count": 104,
     "metadata": {},
     "output_type": "execute_result"
    }
   ],
   "source": [
    "# посмотрим на зависимость цены в центре \n",
    "piter_center[['last_price', 'rooms', 'city_centers_nearest']].corr()"
   ]
  },
  {
   "cell_type": "markdown",
   "metadata": {},
   "source": [
    "Матрица корреляции говорит о том что кол-во комнат влияет немного на стоимость жилья, а вот растояние от центра обратно влияет на стоимость, что тоже логично и ожидаемо."
   ]
  },
  {
   "cell_type": "code",
   "execution_count": 105,
   "metadata": {},
   "outputs": [
    {
     "data": {
      "text/html": [
       "<div>\n",
       "<style scoped>\n",
       "    .dataframe tbody tr th:only-of-type {\n",
       "        vertical-align: middle;\n",
       "    }\n",
       "\n",
       "    .dataframe tbody tr th {\n",
       "        vertical-align: top;\n",
       "    }\n",
       "\n",
       "    .dataframe thead tr th {\n",
       "        text-align: left;\n",
       "    }\n",
       "\n",
       "    .dataframe thead tr:last-of-type th {\n",
       "        text-align: right;\n",
       "    }\n",
       "</style>\n",
       "<table border=\"1\" class=\"dataframe\">\n",
       "  <thead>\n",
       "    <tr>\n",
       "      <th></th>\n",
       "      <th>median</th>\n",
       "    </tr>\n",
       "    <tr>\n",
       "      <th></th>\n",
       "      <th>last_price</th>\n",
       "    </tr>\n",
       "    <tr>\n",
       "      <th>rooms</th>\n",
       "      <th></th>\n",
       "    </tr>\n",
       "  </thead>\n",
       "  <tbody>\n",
       "    <tr>\n",
       "      <td>0</td>\n",
       "      <td>3200000</td>\n",
       "    </tr>\n",
       "    <tr>\n",
       "      <td>1</td>\n",
       "      <td>4000000</td>\n",
       "    </tr>\n",
       "    <tr>\n",
       "      <td>2</td>\n",
       "      <td>5450000</td>\n",
       "    </tr>\n",
       "    <tr>\n",
       "      <td>3</td>\n",
       "      <td>6750000</td>\n",
       "    </tr>\n",
       "    <tr>\n",
       "      <td>4</td>\n",
       "      <td>8750000</td>\n",
       "    </tr>\n",
       "    <tr>\n",
       "      <td>5</td>\n",
       "      <td>11500000</td>\n",
       "    </tr>\n",
       "    <tr>\n",
       "      <td>6</td>\n",
       "      <td>13000000</td>\n",
       "    </tr>\n",
       "    <tr>\n",
       "      <td>7</td>\n",
       "      <td>13700000</td>\n",
       "    </tr>\n",
       "  </tbody>\n",
       "</table>\n",
       "</div>"
      ],
      "text/plain": [
       "          median\n",
       "      last_price\n",
       "rooms           \n",
       "0        3200000\n",
       "1        4000000\n",
       "2        5450000\n",
       "3        6750000\n",
       "4        8750000\n",
       "5       11500000\n",
       "6       13000000\n",
       "7       13700000"
      ]
     },
     "execution_count": 105,
     "metadata": {},
     "output_type": "execute_result"
    }
   ],
   "source": [
    "piter.pivot_table(index='rooms', values='last_price', aggfunc=['median'])"
   ]
  },
  {
   "cell_type": "code",
   "execution_count": 106,
   "metadata": {
    "scrolled": false
   },
   "outputs": [
    {
     "data": {
      "image/png": "[encoded data removed]",
      "text/plain": [
       "<Figure size 720x432 with 1 Axes>"
      ]
     },
     "metadata": {
      "needs_background": "light"
     },
     "output_type": "display_data"
    }
   ],
   "source": [
    "# Посмотрим на график по кол-ву комнат и стоимости, чтобы убедиться\n",
    "ax = (\n",
    "    piter\n",
    "    .pivot_table(index='rooms', values='last_price', aggfunc=['median'])\n",
    "    .rename(columns={'last_price': 'piter_last_price'})\n",
    "    .plot(style='o-', figsize=(10, 6), grid=True)\n",
    ")\n",
    "ax2 = (\n",
    "    piter_center\n",
    "    .pivot_table(index='rooms', values='last_price', aggfunc=['median'])\n",
    "    .rename(columns={'last_price': 'piter_center_last_price'})\n",
    "    .plot(ax=ax, style='o-', figsize=(10, 6), grid=True)\n",
    ")\n",
    "plt.xlabel('rooms')\n",
    "plt.ylabel('last_price')\n",
    "plt.title('Price per room')\n",
    "plt.show()"
   ]
  },
  {
   "cell_type": "code",
   "execution_count": 107,
   "metadata": {},
   "outputs": [
    {
     "data": {
      "text/html": [
       "<div>\n",
       "<style scoped>\n",
       "    .dataframe tbody tr th:only-of-type {\n",
       "        vertical-align: middle;\n",
       "    }\n",
       "\n",
       "    .dataframe tbody tr th {\n",
       "        vertical-align: top;\n",
       "    }\n",
       "\n",
       "    .dataframe thead tr th {\n",
       "        text-align: left;\n",
       "    }\n",
       "\n",
       "    .dataframe thead tr:last-of-type th {\n",
       "        text-align: right;\n",
       "    }\n",
       "</style>\n",
       "<table border=\"1\" class=\"dataframe\">\n",
       "  <thead>\n",
       "    <tr>\n",
       "      <th></th>\n",
       "      <th>count</th>\n",
       "      <th>median</th>\n",
       "      <th>mean</th>\n",
       "    </tr>\n",
       "    <tr>\n",
       "      <th></th>\n",
       "      <th>last_price</th>\n",
       "      <th>last_price</th>\n",
       "      <th>last_price</th>\n",
       "    </tr>\n",
       "    <tr>\n",
       "      <th>floor_category</th>\n",
       "      <th></th>\n",
       "      <th></th>\n",
       "      <th></th>\n",
       "    </tr>\n",
       "  </thead>\n",
       "  <tbody>\n",
       "    <tr>\n",
       "      <td>другой</td>\n",
       "      <td>1709</td>\n",
       "      <td>8326824</td>\n",
       "      <td>9.081248e+06</td>\n",
       "    </tr>\n",
       "    <tr>\n",
       "      <td>первый</td>\n",
       "      <td>295</td>\n",
       "      <td>6100000</td>\n",
       "      <td>6.883591e+06</td>\n",
       "    </tr>\n",
       "    <tr>\n",
       "      <td>последний</td>\n",
       "      <td>427</td>\n",
       "      <td>8000000</td>\n",
       "      <td>8.701784e+06</td>\n",
       "    </tr>\n",
       "  </tbody>\n",
       "</table>\n",
       "</div>"
      ],
      "text/plain": [
       "                    count     median          mean\n",
       "               last_price last_price    last_price\n",
       "floor_category                                    \n",
       "другой               1709    8326824  9.081248e+06\n",
       "первый                295    6100000  6.883591e+06\n",
       "последний             427    8000000  8.701784e+06"
      ]
     },
     "execution_count": 107,
     "metadata": {},
     "output_type": "execute_result"
    }
   ],
   "source": [
    "# посмотрим на зависимость цены в центре от этажности\n",
    "piter_center.pivot_table(index='floor_category', values='last_price', aggfunc=['count', 'median', 'mean'])"
   ]
  },
  {
   "cell_type": "markdown",
   "metadata": {},
   "source": [
    "В целом ничего не меняется, в центре тоже первые и последний этаж стоят дешевле."
   ]
  },
  {
   "cell_type": "code",
   "execution_count": 108,
   "metadata": {},
   "outputs": [
    {
     "data": {
      "image/png": "[encoded data removed]",
      "text/plain": [
       "<Figure size 720x288 with 1 Axes>"
      ]
     },
     "metadata": {
      "needs_background": "light"
     },
     "output_type": "display_data"
    },
    {
     "data": {
      "image/png": "[encoded data removed]",
      "text/plain": [
       "<Figure size 720x288 with 1 Axes>"
      ]
     },
     "metadata": {
      "needs_background": "light"
     },
     "output_type": "display_data"
    },
    {
     "data": {
      "image/png": "[encoded data removed]",
      "text/plain": [
       "<Figure size 720x288 with 1 Axes>"
      ]
     },
     "metadata": {
      "needs_background": "light"
     },
     "output_type": "display_data"
    }
   ],
   "source": [
    "# посмотрим на зависимость цены даты размещения\n",
    "def exposition_plot_vs(piter_df, piter_center_df, index):\n",
    "    ax = (\n",
    "        piter_df\n",
    "        .pivot_table(index=index, values='last_price', aggfunc=['median'])\n",
    "        .rename(columns={'last_price': 'piter_last_price'})\n",
    "        .plot(style='o-', figsize=(10, 4), grid=True)\n",
    "    )\n",
    "    ax2 = (\n",
    "        piter_center_df\n",
    "        .pivot_table(index=index, values='last_price', aggfunc=['median'])\n",
    "        .rename(columns={'last_price': 'piter_center_last_price'})\n",
    "        .plot(ax=ax, style='o-', figsize=(10, 4), grid=True)\n",
    "    )\n",
    "    plt.xlabel(index)\n",
    "    plt.ylabel('last_price median')\n",
    "    plt.title(index)\n",
    "    plt.show()\n",
    "    \n",
    "# посмотрим на зависимость цены даты размещения, функция у нас уже была написана ранее\n",
    "for index in ['weekday_exposition', 'month_exposition', 'year_exposition']:\n",
    "    exposition_plot_vs(piter, piter_center, index)"
   ]
  },
  {
   "cell_type": "markdown",
   "metadata": {},
   "source": [
    "В зависимости от дня недели в центре немного другая ситация, воскресенье и пятница лидеры по размещению в эти дни самых дорогих вариантов.\n",
    "\n",
    "Январь и сентябрь стали самыми поппулярными месяцами для размещения дорогих квартир, а декабрь оказался самым популярным по размещению дешевых вариантов. Можно наблюдать как в течении года стомость квартир падает и поднимается.\n",
    "\n",
    "Последний график по годам показывает как сильно изменилась стоимость квартир в центре за последние 5 лет."
   ]
  },
  {
   "cell_type": "markdown",
   "metadata": {},
   "source": [
    "**Вывод**\n",
    "\n",
    "Мы посчитали "
   ]
  },
  {
   "cell_type": "markdown",
   "metadata": {},
   "source": [
    "### Шаг 5. Общий вывод\n",
    "<a id=\"step_5\"></a>"
   ]
  },
  {
   "cell_type": "markdown",
   "metadata": {},
   "source": [
    "#### 1. Исходные данные\n",
    "В исходных данных 23699 строк и 22 столбца.\n",
    "\n",
    "Очень большое кол-во пропусков, неоптимальных типов данных.\n",
    "\n",
    "#### 2. Предобработка данных\n",
    "В предообработке данных мы проделали следующие действия:\n",
    "\n",
    "1) Сначала мы привели в порядок наименование столбцов, для удобной работы в дальнейшем.\n",
    "\n",
    "2) Далее мы обработали пропуски:\n",
    "- высоту потолков мы заполнили медианой\n",
    "- признак апартаментов заполнили значением, хоть он нам и не понадобился\n",
    "- кол-во балконов заполнили нолями, и он тоже нам не понадобился\n",
    "- удалили строки без населенных пунктов\n",
    "- удалили строки без указанных кол-ва этажей в доме\n",
    "- заполнили кол-во парков и водоемов нолями т.к. не указаны билащие объекты\n",
    "- посчтиали некий коффициент который определяет площзадь кухни отностиельно общей площади и заполнили площадь кухни соответствующей общей площадью умноженной этот коэффициент\n",
    "- заполнили медианой в зависимости от населенного пункта рассстояние до центра\n",
    "...\n",
    "\n",
    "3) Заменили необходимые типы данных на нужные нам.\n",
    "\n",
    "#### 3. Для дальнейшей работы нам необходимы были дополнительные параметры:\n",
    "1) Мы посчитали стоимость квадратного метра каждой квартиры.\n",
    "2) Мы определили день нелеи от даты размещения, а так же месяц и год\n",
    "3) Мы категориизировали данные об этажах: первый, последний, другой\n",
    "4) Мы посчитали соотношение жилой и общей площади, а также кухни и общей площади\n",
    "\n",
    "#### 4. Исследовательский анализ\n",
    "В рамках исследовательского анализа данных:\n",
    "1) Мы изучили параметры объявлений: площадь, цена, число комнат, высота потолков. \n",
    "1.1) Узнали, что 75% объявлений с квартирами до 70 кв. м., при том что максимально значение 900 квм. Построили график.\n",
    "1.2) У нас очень отличаются среднее и медиана стоимости квартир, т.к. у нас 75% значений до 7 млн, а максимальное значение анамально большое и равно 763 млн.\n",
    "1.3) У нас есть выбросы в кол-ве комнат, например макисмальное значение 19 комнат является анамально большим\n",
    "\n",
    "2) Изучили время продажи квартиры:\n",
    "Продажи обычно занимают от 45 до 230 дней. Отклонения в меньшую или большую сторону это необычно быстрые или долгие продажи\n",
    "\n",
    "3) Убрали редкие и выбивающиеся значения\n",
    "\n",
    "4) Выясняли какие факторы больше всего влияют на стоимость квартиры\n",
    "4.1) Цена зависит в первую очередь от общей площади (0.77). А так же цена отрицательно коррелирует с удаленностью от центра, что логично. Квартиры с первого этажа имеют самую низкую стоимость по медиане и по среднему значению.Квартиры с последнего этажа немного выше оцениваются. Оставшиеся квартиры имеют самую высокую цену как по медиане так и по среднему значению. Стоит так же учитывать что таких квартир во много раз больше.\n",
    "4.2) Выбрали 10 населенных пунктовс наибольшим кол-во размещенных объявлений. Посчитали среднюю цену квадратного метра в каждом населенном пункте. И определили что в Санкт-Петербург самый высокая стоимость квадратного метра.\n",
    "4.3) Выделили квартиры только из Санкт-Петербурга. Посчитали стоимость для каждого километра от центра. Примерно после 7-8 км идет резкий спад стоимости, будем считать это центральная зона.\n",
    "4.4) Выделили центр Санкт-Петербурга. В отличии от всего Санкт-Петербурга, в центре города площадь от 40 до 75 кв м это основное кол-во квартир. В центре квартиры по общей площади более равномерно представлены, нет перекоса в сторону квартир с меньшей площалью, в центре представлено больше 2-3 комнатных квартир, а во всем городе большинство же за 1-2 комнатными квартирами. Высота потолков в центре выше чем во всем городе.\n"
   ]
  }
 ],
 "metadata": {
  "kernelspec": {
   "display_name": "Python 3",
   "language": "python",
   "name": "python3"
  },
  "language_info": {
   "codemirror_mode": {
    "name": "ipython",
    "version": 3
   },
   "file_extension": ".py",
   "mimetype": "text/x-python",
   "name": "python",
   "nbconvert_exporter": "python",
   "pygments_lexer": "ipython3",
   "version": "3.9.0"
  },
  "toc": {
   "base_numbering": 1,
   "nav_menu": {},
   "number_sections": true,
   "sideBar": true,
   "skip_h1_title": false,
   "title_cell": "Table of Contents",
   "title_sidebar": "Contents",
   "toc_cell": false,
   "toc_position": {},
   "toc_section_display": true,
   "toc_window_display": false
  }
 },
 "nbformat": 4,
 "nbformat_minor": 2
}
