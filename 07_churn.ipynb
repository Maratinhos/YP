{
 "cells": [
  {
   "cell_type": "markdown",
   "metadata": {},
   "source": [
    "# Отток клиентов"
   ]
  },
  {
   "cell_type": "markdown",
   "metadata": {},
   "source": [
    "Из «Бета-Банка» стали уходить клиенты. Каждый месяц. Немного, но заметно. Банковские маркетологи посчитали: сохранять текущих клиентов дешевле, чем привлекать новых.\n",
    "\n",
    "Нужно спрогнозировать, уйдёт клиент из банка в ближайшее время или нет. Вам предоставлены исторические данные о поведении клиентов и расторжении договоров с банком. \n",
    "\n",
    "Постройте модель с предельно большим значением *F1*-меры. Чтобы сдать проект успешно, нужно довести метрику до 0.59. Проверьте *F1*-меру на тестовой выборке самостоятельно.\n",
    "\n",
    "Дополнительно измеряйте *AUC-ROC*, сравнивайте её значение с *F1*-мерой.\n",
    "\n",
    "Источник данных: [https://www.kaggle.com/barelydedicated/bank-customer-churn-modeling](https://www.kaggle.com/barelydedicated/bank-customer-churn-modeling)\n",
    "\n",
    "**Описание данных**\n",
    "\n",
    "Данные находятся в файле _/datasets/Churn.csv_ (англ. «отток клиентов»).\n",
    "Признаки\n",
    "\n",
    "- RowNumber — индекс строки в данных\n",
    "- CustomerId — уникальный идентификатор клиента\n",
    "- Surname — фамилия\n",
    "- CreditScore — кредитный рейтинг\n",
    "- Geography — страна проживания\n",
    "- Gender — пол\n",
    "- Age — возраст\n",
    "- Tenure — количество недвижимости у клиента\n",
    "- Balance — баланс на счёте\n",
    "- NumOfProducts — количество продуктов банка, используемых клиентом\n",
    "- HasCrCard — наличие кредитной карты\n",
    "- IsActiveMember — активность клиента\n",
    "- EstimatedSalary — предполагаемая зарплата\n",
    "\n",
    "Целевой признак\n",
    "\n",
    "- Exited — факт ухода клиента\n",
    "\n",
    "\n",
    "**Оглавление**\n",
    "\n",
    "1. [Подготовка данных](#step_1)\n",
    "2. [Исследование задачи](#step_2)\n",
    "3. [Борьба с дисбалансом](#step_3)\n",
    "4. [Тестирование модели](#step_4)"
   ]
  },
  {
   "cell_type": "markdown",
   "metadata": {},
   "source": [
    "# 1. Подготовка данных\n",
    "<a id=\"step_1\"></a>"
   ]
  },
  {
   "cell_type": "code",
   "execution_count": 1,
   "metadata": {},
   "outputs": [],
   "source": [
    "import pandas as pd\n",
    "import numpy as np\n",
    "import matplotlib.pyplot as plt\n",
    "import seaborn as sns\n",
    "import warnings\n",
    "\n",
    "from sklearn.tree import DecisionTreeClassifier\n",
    "from sklearn.linear_model import LogisticRegression\n",
    "from sklearn.ensemble import RandomForestClassifier\n",
    "from sklearn.model_selection import train_test_split, GridSearchCV\n",
    "from sklearn.metrics import roc_auc_score, f1_score, precision_score, recall_score\n",
    "from sklearn.utils import shuffle"
   ]
  },
  {
   "cell_type": "code",
   "execution_count": 2,
   "metadata": {},
   "outputs": [],
   "source": [
    "warnings.filterwarnings(\"ignore\")"
   ]
  },
  {
   "cell_type": "code",
   "execution_count": 3,
   "metadata": {},
   "outputs": [],
   "source": [
    "df = pd.read_csv('/datasets/Churn.csv')"
   ]
  },
  {
   "cell_type": "code",
   "execution_count": 4,
   "metadata": {},
   "outputs": [
    {
     "data": {
      "text/html": [
       "<div>\n",
       "<style scoped>\n",
       "    .dataframe tbody tr th:only-of-type {\n",
       "        vertical-align: middle;\n",
       "    }\n",
       "\n",
       "    .dataframe tbody tr th {\n",
       "        vertical-align: top;\n",
       "    }\n",
       "\n",
       "    .dataframe thead th {\n",
       "        text-align: right;\n",
       "    }\n",
       "</style>\n",
       "<table border=\"1\" class=\"dataframe\">\n",
       "  <thead>\n",
       "    <tr style=\"text-align: right;\">\n",
       "      <th></th>\n",
       "      <th>RowNumber</th>\n",
       "      <th>CustomerId</th>\n",
       "      <th>Surname</th>\n",
       "      <th>CreditScore</th>\n",
       "      <th>Geography</th>\n",
       "      <th>Gender</th>\n",
       "      <th>Age</th>\n",
       "      <th>Tenure</th>\n",
       "      <th>Balance</th>\n",
       "      <th>NumOfProducts</th>\n",
       "      <th>HasCrCard</th>\n",
       "      <th>IsActiveMember</th>\n",
       "      <th>EstimatedSalary</th>\n",
       "      <th>Exited</th>\n",
       "    </tr>\n",
       "  </thead>\n",
       "  <tbody>\n",
       "    <tr>\n",
       "      <th>35</th>\n",
       "      <td>36</td>\n",
       "      <td>15794171</td>\n",
       "      <td>Lombardo</td>\n",
       "      <td>475</td>\n",
       "      <td>France</td>\n",
       "      <td>Female</td>\n",
       "      <td>45</td>\n",
       "      <td>0.0</td>\n",
       "      <td>134264.04</td>\n",
       "      <td>1</td>\n",
       "      <td>1</td>\n",
       "      <td>0</td>\n",
       "      <td>27822.99</td>\n",
       "      <td>1</td>\n",
       "    </tr>\n",
       "    <tr>\n",
       "      <th>8391</th>\n",
       "      <td>8392</td>\n",
       "      <td>15579074</td>\n",
       "      <td>Obiajulu</td>\n",
       "      <td>619</td>\n",
       "      <td>Germany</td>\n",
       "      <td>Male</td>\n",
       "      <td>38</td>\n",
       "      <td>10.0</td>\n",
       "      <td>84651.79</td>\n",
       "      <td>1</td>\n",
       "      <td>1</td>\n",
       "      <td>1</td>\n",
       "      <td>184754.26</td>\n",
       "      <td>0</td>\n",
       "    </tr>\n",
       "    <tr>\n",
       "      <th>5998</th>\n",
       "      <td>5999</td>\n",
       "      <td>15644212</td>\n",
       "      <td>Han</td>\n",
       "      <td>644</td>\n",
       "      <td>Spain</td>\n",
       "      <td>Male</td>\n",
       "      <td>28</td>\n",
       "      <td>0.0</td>\n",
       "      <td>0.00</td>\n",
       "      <td>2</td>\n",
       "      <td>1</td>\n",
       "      <td>0</td>\n",
       "      <td>119419.37</td>\n",
       "      <td>0</td>\n",
       "    </tr>\n",
       "    <tr>\n",
       "      <th>1213</th>\n",
       "      <td>1214</td>\n",
       "      <td>15624229</td>\n",
       "      <td>Noble</td>\n",
       "      <td>694</td>\n",
       "      <td>France</td>\n",
       "      <td>Female</td>\n",
       "      <td>22</td>\n",
       "      <td>4.0</td>\n",
       "      <td>0.00</td>\n",
       "      <td>2</td>\n",
       "      <td>1</td>\n",
       "      <td>1</td>\n",
       "      <td>11525.72</td>\n",
       "      <td>0</td>\n",
       "    </tr>\n",
       "    <tr>\n",
       "      <th>1827</th>\n",
       "      <td>1828</td>\n",
       "      <td>15740104</td>\n",
       "      <td>Tuan</td>\n",
       "      <td>425</td>\n",
       "      <td>Spain</td>\n",
       "      <td>Female</td>\n",
       "      <td>22</td>\n",
       "      <td>7.0</td>\n",
       "      <td>169649.73</td>\n",
       "      <td>2</td>\n",
       "      <td>0</td>\n",
       "      <td>1</td>\n",
       "      <td>136365.00</td>\n",
       "      <td>1</td>\n",
       "    </tr>\n",
       "  </tbody>\n",
       "</table>\n",
       "</div>"
      ],
      "text/plain": [
       "      RowNumber  CustomerId   Surname  CreditScore Geography  Gender  Age  \\\n",
       "35           36    15794171  Lombardo          475    France  Female   45   \n",
       "8391       8392    15579074  Obiajulu          619   Germany    Male   38   \n",
       "5998       5999    15644212       Han          644     Spain    Male   28   \n",
       "1213       1214    15624229     Noble          694    France  Female   22   \n",
       "1827       1828    15740104      Tuan          425     Spain  Female   22   \n",
       "\n",
       "      Tenure    Balance  NumOfProducts  HasCrCard  IsActiveMember  \\\n",
       "35       0.0  134264.04              1          1               0   \n",
       "8391    10.0   84651.79              1          1               1   \n",
       "5998     0.0       0.00              2          1               0   \n",
       "1213     4.0       0.00              2          1               1   \n",
       "1827     7.0  169649.73              2          0               1   \n",
       "\n",
       "      EstimatedSalary  Exited  \n",
       "35           27822.99       1  \n",
       "8391        184754.26       0  \n",
       "5998        119419.37       0  \n",
       "1213         11525.72       0  \n",
       "1827        136365.00       1  "
      ]
     },
     "execution_count": 4,
     "metadata": {},
     "output_type": "execute_result"
    }
   ],
   "source": [
    "df.sample(5)"
   ]
  },
  {
   "cell_type": "code",
   "execution_count": 5,
   "metadata": {
    "scrolled": true
   },
   "outputs": [
    {
     "name": "stdout",
     "output_type": "stream",
     "text": [
      "<class 'pandas.core.frame.DataFrame'>\n",
      "RangeIndex: 10000 entries, 0 to 9999\n",
      "Data columns (total 14 columns):\n",
      "RowNumber          10000 non-null int64\n",
      "CustomerId         10000 non-null int64\n",
      "Surname            10000 non-null object\n",
      "CreditScore        10000 non-null int64\n",
      "Geography          10000 non-null object\n",
      "Gender             10000 non-null object\n",
      "Age                10000 non-null int64\n",
      "Tenure             9091 non-null float64\n",
      "Balance            10000 non-null float64\n",
      "NumOfProducts      10000 non-null int64\n",
      "HasCrCard          10000 non-null int64\n",
      "IsActiveMember     10000 non-null int64\n",
      "EstimatedSalary    10000 non-null float64\n",
      "Exited             10000 non-null int64\n",
      "dtypes: float64(3), int64(8), object(3)\n",
      "memory usage: 1.1+ MB\n"
     ]
    }
   ],
   "source": [
    "df.info()"
   ]
  },
  {
   "cell_type": "code",
   "execution_count": 6,
   "metadata": {},
   "outputs": [
    {
     "data": {
      "text/plain": [
       "True"
      ]
     },
     "execution_count": 6,
     "metadata": {},
     "output_type": "execute_result"
    }
   ],
   "source": [
    "len(df['CustomerId'].unique()) == df.shape[0]"
   ]
  },
  {
   "cell_type": "code",
   "execution_count": 7,
   "metadata": {},
   "outputs": [],
   "source": [
    "df = df.drop(['RowNumber', 'Surname'], axis=1)"
   ]
  },
  {
   "cell_type": "code",
   "execution_count": 8,
   "metadata": {},
   "outputs": [],
   "source": [
    "df.set_index(['CustomerId'], inplace=True)"
   ]
  },
  {
   "cell_type": "code",
   "execution_count": 9,
   "metadata": {
    "scrolled": true
   },
   "outputs": [
    {
     "data": {
      "text/html": [
       "<div>\n",
       "<style scoped>\n",
       "    .dataframe tbody tr th:only-of-type {\n",
       "        vertical-align: middle;\n",
       "    }\n",
       "\n",
       "    .dataframe tbody tr th {\n",
       "        vertical-align: top;\n",
       "    }\n",
       "\n",
       "    .dataframe thead th {\n",
       "        text-align: right;\n",
       "    }\n",
       "</style>\n",
       "<table border=\"1\" class=\"dataframe\">\n",
       "  <thead>\n",
       "    <tr style=\"text-align: right;\">\n",
       "      <th></th>\n",
       "      <th>CreditScore</th>\n",
       "      <th>Geography</th>\n",
       "      <th>Gender</th>\n",
       "      <th>Age</th>\n",
       "      <th>Tenure</th>\n",
       "      <th>Balance</th>\n",
       "      <th>NumOfProducts</th>\n",
       "      <th>HasCrCard</th>\n",
       "      <th>IsActiveMember</th>\n",
       "      <th>EstimatedSalary</th>\n",
       "      <th>Exited</th>\n",
       "    </tr>\n",
       "    <tr>\n",
       "      <th>CustomerId</th>\n",
       "      <th></th>\n",
       "      <th></th>\n",
       "      <th></th>\n",
       "      <th></th>\n",
       "      <th></th>\n",
       "      <th></th>\n",
       "      <th></th>\n",
       "      <th></th>\n",
       "      <th></th>\n",
       "      <th></th>\n",
       "      <th></th>\n",
       "    </tr>\n",
       "  </thead>\n",
       "  <tbody>\n",
       "    <tr>\n",
       "      <th>15635240</th>\n",
       "      <td>553</td>\n",
       "      <td>France</td>\n",
       "      <td>Male</td>\n",
       "      <td>42</td>\n",
       "      <td>1.0</td>\n",
       "      <td>0.00</td>\n",
       "      <td>2</td>\n",
       "      <td>0</td>\n",
       "      <td>0</td>\n",
       "      <td>23822.04</td>\n",
       "      <td>0</td>\n",
       "    </tr>\n",
       "    <tr>\n",
       "      <th>15653572</th>\n",
       "      <td>673</td>\n",
       "      <td>Spain</td>\n",
       "      <td>Male</td>\n",
       "      <td>43</td>\n",
       "      <td>NaN</td>\n",
       "      <td>127132.96</td>\n",
       "      <td>1</td>\n",
       "      <td>0</td>\n",
       "      <td>1</td>\n",
       "      <td>6009.27</td>\n",
       "      <td>1</td>\n",
       "    </tr>\n",
       "    <tr>\n",
       "      <th>15698839</th>\n",
       "      <td>460</td>\n",
       "      <td>Germany</td>\n",
       "      <td>Male</td>\n",
       "      <td>46</td>\n",
       "      <td>NaN</td>\n",
       "      <td>127559.97</td>\n",
       "      <td>2</td>\n",
       "      <td>1</td>\n",
       "      <td>1</td>\n",
       "      <td>126952.50</td>\n",
       "      <td>0</td>\n",
       "    </tr>\n",
       "    <tr>\n",
       "      <th>15715199</th>\n",
       "      <td>568</td>\n",
       "      <td>Spain</td>\n",
       "      <td>Male</td>\n",
       "      <td>27</td>\n",
       "      <td>5.0</td>\n",
       "      <td>126815.97</td>\n",
       "      <td>2</td>\n",
       "      <td>0</td>\n",
       "      <td>1</td>\n",
       "      <td>118648.12</td>\n",
       "      <td>0</td>\n",
       "    </tr>\n",
       "    <tr>\n",
       "      <th>15627971</th>\n",
       "      <td>504</td>\n",
       "      <td>France</td>\n",
       "      <td>Female</td>\n",
       "      <td>32</td>\n",
       "      <td>NaN</td>\n",
       "      <td>206663.75</td>\n",
       "      <td>1</td>\n",
       "      <td>0</td>\n",
       "      <td>0</td>\n",
       "      <td>16281.94</td>\n",
       "      <td>0</td>\n",
       "    </tr>\n",
       "  </tbody>\n",
       "</table>\n",
       "</div>"
      ],
      "text/plain": [
       "            CreditScore Geography  Gender  Age  Tenure    Balance  \\\n",
       "CustomerId                                                          \n",
       "15635240            553    France    Male   42     1.0       0.00   \n",
       "15653572            673     Spain    Male   43     NaN  127132.96   \n",
       "15698839            460   Germany    Male   46     NaN  127559.97   \n",
       "15715199            568     Spain    Male   27     5.0  126815.97   \n",
       "15627971            504    France  Female   32     NaN  206663.75   \n",
       "\n",
       "            NumOfProducts  HasCrCard  IsActiveMember  EstimatedSalary  Exited  \n",
       "CustomerId                                                                     \n",
       "15635240                2          0               0         23822.04       0  \n",
       "15653572                1          0               1          6009.27       1  \n",
       "15698839                2          1               1        126952.50       0  \n",
       "15715199                2          0               1        118648.12       0  \n",
       "15627971                1          0               0         16281.94       0  "
      ]
     },
     "execution_count": 9,
     "metadata": {},
     "output_type": "execute_result"
    }
   ],
   "source": [
    "df.sample(5)"
   ]
  },
  {
   "cell_type": "code",
   "execution_count": 10,
   "metadata": {
    "scrolled": false
   },
   "outputs": [
    {
     "data": {
      "text/html": [
       "<div>\n",
       "<style scoped>\n",
       "    .dataframe tbody tr th:only-of-type {\n",
       "        vertical-align: middle;\n",
       "    }\n",
       "\n",
       "    .dataframe tbody tr th {\n",
       "        vertical-align: top;\n",
       "    }\n",
       "\n",
       "    .dataframe thead th {\n",
       "        text-align: right;\n",
       "    }\n",
       "</style>\n",
       "<table border=\"1\" class=\"dataframe\">\n",
       "  <thead>\n",
       "    <tr style=\"text-align: right;\">\n",
       "      <th></th>\n",
       "      <th>CreditScore</th>\n",
       "      <th>Age</th>\n",
       "      <th>Tenure</th>\n",
       "      <th>Balance</th>\n",
       "      <th>NumOfProducts</th>\n",
       "      <th>HasCrCard</th>\n",
       "      <th>IsActiveMember</th>\n",
       "      <th>EstimatedSalary</th>\n",
       "      <th>Exited</th>\n",
       "    </tr>\n",
       "  </thead>\n",
       "  <tbody>\n",
       "    <tr>\n",
       "      <th>count</th>\n",
       "      <td>10000.000000</td>\n",
       "      <td>10000.000000</td>\n",
       "      <td>9091.000000</td>\n",
       "      <td>10000.000000</td>\n",
       "      <td>10000.000000</td>\n",
       "      <td>10000.00000</td>\n",
       "      <td>10000.000000</td>\n",
       "      <td>10000.000000</td>\n",
       "      <td>10000.000000</td>\n",
       "    </tr>\n",
       "    <tr>\n",
       "      <th>mean</th>\n",
       "      <td>650.528800</td>\n",
       "      <td>38.921800</td>\n",
       "      <td>4.997690</td>\n",
       "      <td>76485.889288</td>\n",
       "      <td>1.530200</td>\n",
       "      <td>0.70550</td>\n",
       "      <td>0.515100</td>\n",
       "      <td>100090.239881</td>\n",
       "      <td>0.203700</td>\n",
       "    </tr>\n",
       "    <tr>\n",
       "      <th>std</th>\n",
       "      <td>96.653299</td>\n",
       "      <td>10.487806</td>\n",
       "      <td>2.894723</td>\n",
       "      <td>62397.405202</td>\n",
       "      <td>0.581654</td>\n",
       "      <td>0.45584</td>\n",
       "      <td>0.499797</td>\n",
       "      <td>57510.492818</td>\n",
       "      <td>0.402769</td>\n",
       "    </tr>\n",
       "    <tr>\n",
       "      <th>min</th>\n",
       "      <td>350.000000</td>\n",
       "      <td>18.000000</td>\n",
       "      <td>0.000000</td>\n",
       "      <td>0.000000</td>\n",
       "      <td>1.000000</td>\n",
       "      <td>0.00000</td>\n",
       "      <td>0.000000</td>\n",
       "      <td>11.580000</td>\n",
       "      <td>0.000000</td>\n",
       "    </tr>\n",
       "    <tr>\n",
       "      <th>25%</th>\n",
       "      <td>584.000000</td>\n",
       "      <td>32.000000</td>\n",
       "      <td>2.000000</td>\n",
       "      <td>0.000000</td>\n",
       "      <td>1.000000</td>\n",
       "      <td>0.00000</td>\n",
       "      <td>0.000000</td>\n",
       "      <td>51002.110000</td>\n",
       "      <td>0.000000</td>\n",
       "    </tr>\n",
       "    <tr>\n",
       "      <th>50%</th>\n",
       "      <td>652.000000</td>\n",
       "      <td>37.000000</td>\n",
       "      <td>5.000000</td>\n",
       "      <td>97198.540000</td>\n",
       "      <td>1.000000</td>\n",
       "      <td>1.00000</td>\n",
       "      <td>1.000000</td>\n",
       "      <td>100193.915000</td>\n",
       "      <td>0.000000</td>\n",
       "    </tr>\n",
       "    <tr>\n",
       "      <th>75%</th>\n",
       "      <td>718.000000</td>\n",
       "      <td>44.000000</td>\n",
       "      <td>7.000000</td>\n",
       "      <td>127644.240000</td>\n",
       "      <td>2.000000</td>\n",
       "      <td>1.00000</td>\n",
       "      <td>1.000000</td>\n",
       "      <td>149388.247500</td>\n",
       "      <td>0.000000</td>\n",
       "    </tr>\n",
       "    <tr>\n",
       "      <th>max</th>\n",
       "      <td>850.000000</td>\n",
       "      <td>92.000000</td>\n",
       "      <td>10.000000</td>\n",
       "      <td>250898.090000</td>\n",
       "      <td>4.000000</td>\n",
       "      <td>1.00000</td>\n",
       "      <td>1.000000</td>\n",
       "      <td>199992.480000</td>\n",
       "      <td>1.000000</td>\n",
       "    </tr>\n",
       "  </tbody>\n",
       "</table>\n",
       "</div>"
      ],
      "text/plain": [
       "        CreditScore           Age       Tenure        Balance  NumOfProducts  \\\n",
       "count  10000.000000  10000.000000  9091.000000   10000.000000   10000.000000   \n",
       "mean     650.528800     38.921800     4.997690   76485.889288       1.530200   \n",
       "std       96.653299     10.487806     2.894723   62397.405202       0.581654   \n",
       "min      350.000000     18.000000     0.000000       0.000000       1.000000   \n",
       "25%      584.000000     32.000000     2.000000       0.000000       1.000000   \n",
       "50%      652.000000     37.000000     5.000000   97198.540000       1.000000   \n",
       "75%      718.000000     44.000000     7.000000  127644.240000       2.000000   \n",
       "max      850.000000     92.000000    10.000000  250898.090000       4.000000   \n",
       "\n",
       "         HasCrCard  IsActiveMember  EstimatedSalary        Exited  \n",
       "count  10000.00000    10000.000000     10000.000000  10000.000000  \n",
       "mean       0.70550        0.515100    100090.239881      0.203700  \n",
       "std        0.45584        0.499797     57510.492818      0.402769  \n",
       "min        0.00000        0.000000        11.580000      0.000000  \n",
       "25%        0.00000        0.000000     51002.110000      0.000000  \n",
       "50%        1.00000        1.000000    100193.915000      0.000000  \n",
       "75%        1.00000        1.000000    149388.247500      0.000000  \n",
       "max        1.00000        1.000000    199992.480000      1.000000  "
      ]
     },
     "execution_count": 10,
     "metadata": {},
     "output_type": "execute_result"
    }
   ],
   "source": [
    "df.describe()"
   ]
  },
  {
   "cell_type": "code",
   "execution_count": 11,
   "metadata": {
    "scrolled": true
   },
   "outputs": [
    {
     "data": {
      "text/plain": [
       "CreditScore          0\n",
       "Geography            0\n",
       "Gender               0\n",
       "Age                  0\n",
       "Tenure             909\n",
       "Balance              0\n",
       "NumOfProducts        0\n",
       "HasCrCard            0\n",
       "IsActiveMember       0\n",
       "EstimatedSalary      0\n",
       "Exited               0\n",
       "dtype: int64"
      ]
     },
     "execution_count": 11,
     "metadata": {},
     "output_type": "execute_result"
    }
   ],
   "source": [
    "df.isna().sum()"
   ]
  },
  {
   "cell_type": "code",
   "execution_count": 12,
   "metadata": {},
   "outputs": [
    {
     "data": {
      "text/html": [
       "<div>\n",
       "<style scoped>\n",
       "    .dataframe tbody tr th:only-of-type {\n",
       "        vertical-align: middle;\n",
       "    }\n",
       "\n",
       "    .dataframe tbody tr th {\n",
       "        vertical-align: top;\n",
       "    }\n",
       "\n",
       "    .dataframe thead th {\n",
       "        text-align: right;\n",
       "    }\n",
       "</style>\n",
       "<table border=\"1\" class=\"dataframe\">\n",
       "  <thead>\n",
       "    <tr style=\"text-align: right;\">\n",
       "      <th></th>\n",
       "      <th>CreditScore</th>\n",
       "      <th>Geography</th>\n",
       "      <th>Gender</th>\n",
       "      <th>Age</th>\n",
       "      <th>Tenure</th>\n",
       "      <th>Balance</th>\n",
       "      <th>NumOfProducts</th>\n",
       "      <th>HasCrCard</th>\n",
       "      <th>IsActiveMember</th>\n",
       "      <th>EstimatedSalary</th>\n",
       "      <th>Exited</th>\n",
       "    </tr>\n",
       "    <tr>\n",
       "      <th>CustomerId</th>\n",
       "      <th></th>\n",
       "      <th></th>\n",
       "      <th></th>\n",
       "      <th></th>\n",
       "      <th></th>\n",
       "      <th></th>\n",
       "      <th></th>\n",
       "      <th></th>\n",
       "      <th></th>\n",
       "      <th></th>\n",
       "      <th></th>\n",
       "    </tr>\n",
       "  </thead>\n",
       "  <tbody>\n",
       "    <tr>\n",
       "      <th>15644453</th>\n",
       "      <td>606</td>\n",
       "      <td>Germany</td>\n",
       "      <td>Female</td>\n",
       "      <td>41</td>\n",
       "      <td>NaN</td>\n",
       "      <td>132670.53</td>\n",
       "      <td>1</td>\n",
       "      <td>1</td>\n",
       "      <td>0</td>\n",
       "      <td>156476.36</td>\n",
       "      <td>1</td>\n",
       "    </tr>\n",
       "    <tr>\n",
       "      <th>15600258</th>\n",
       "      <td>701</td>\n",
       "      <td>France</td>\n",
       "      <td>Male</td>\n",
       "      <td>43</td>\n",
       "      <td>NaN</td>\n",
       "      <td>0.00</td>\n",
       "      <td>2</td>\n",
       "      <td>1</td>\n",
       "      <td>1</td>\n",
       "      <td>165303.79</td>\n",
       "      <td>0</td>\n",
       "    </tr>\n",
       "    <tr>\n",
       "      <th>15604355</th>\n",
       "      <td>519</td>\n",
       "      <td>France</td>\n",
       "      <td>Male</td>\n",
       "      <td>39</td>\n",
       "      <td>NaN</td>\n",
       "      <td>97700.02</td>\n",
       "      <td>1</td>\n",
       "      <td>1</td>\n",
       "      <td>1</td>\n",
       "      <td>30709.03</td>\n",
       "      <td>0</td>\n",
       "    </tr>\n",
       "    <tr>\n",
       "      <th>15724145</th>\n",
       "      <td>616</td>\n",
       "      <td>Germany</td>\n",
       "      <td>Male</td>\n",
       "      <td>29</td>\n",
       "      <td>NaN</td>\n",
       "      <td>149318.55</td>\n",
       "      <td>1</td>\n",
       "      <td>1</td>\n",
       "      <td>0</td>\n",
       "      <td>140746.13</td>\n",
       "      <td>0</td>\n",
       "    </tr>\n",
       "    <tr>\n",
       "      <th>15668385</th>\n",
       "      <td>642</td>\n",
       "      <td>France</td>\n",
       "      <td>Male</td>\n",
       "      <td>40</td>\n",
       "      <td>NaN</td>\n",
       "      <td>154863.15</td>\n",
       "      <td>1</td>\n",
       "      <td>1</td>\n",
       "      <td>1</td>\n",
       "      <td>138052.51</td>\n",
       "      <td>0</td>\n",
       "    </tr>\n",
       "    <tr>\n",
       "      <th>15704160</th>\n",
       "      <td>648</td>\n",
       "      <td>Spain</td>\n",
       "      <td>Male</td>\n",
       "      <td>49</td>\n",
       "      <td>NaN</td>\n",
       "      <td>0.00</td>\n",
       "      <td>1</td>\n",
       "      <td>1</td>\n",
       "      <td>0</td>\n",
       "      <td>149946.43</td>\n",
       "      <td>1</td>\n",
       "    </tr>\n",
       "    <tr>\n",
       "      <th>15678779</th>\n",
       "      <td>502</td>\n",
       "      <td>France</td>\n",
       "      <td>Male</td>\n",
       "      <td>33</td>\n",
       "      <td>NaN</td>\n",
       "      <td>0.00</td>\n",
       "      <td>2</td>\n",
       "      <td>0</td>\n",
       "      <td>1</td>\n",
       "      <td>4082.52</td>\n",
       "      <td>0</td>\n",
       "    </tr>\n",
       "    <tr>\n",
       "      <th>15595136</th>\n",
       "      <td>645</td>\n",
       "      <td>France</td>\n",
       "      <td>Female</td>\n",
       "      <td>37</td>\n",
       "      <td>NaN</td>\n",
       "      <td>0.00</td>\n",
       "      <td>2</td>\n",
       "      <td>1</td>\n",
       "      <td>1</td>\n",
       "      <td>68987.55</td>\n",
       "      <td>0</td>\n",
       "    </tr>\n",
       "    <tr>\n",
       "      <th>15815690</th>\n",
       "      <td>614</td>\n",
       "      <td>Spain</td>\n",
       "      <td>Female</td>\n",
       "      <td>40</td>\n",
       "      <td>NaN</td>\n",
       "      <td>113348.50</td>\n",
       "      <td>1</td>\n",
       "      <td>1</td>\n",
       "      <td>1</td>\n",
       "      <td>77789.01</td>\n",
       "      <td>0</td>\n",
       "    </tr>\n",
       "    <tr>\n",
       "      <th>15812628</th>\n",
       "      <td>453</td>\n",
       "      <td>Germany</td>\n",
       "      <td>Female</td>\n",
       "      <td>38</td>\n",
       "      <td>NaN</td>\n",
       "      <td>120623.21</td>\n",
       "      <td>1</td>\n",
       "      <td>1</td>\n",
       "      <td>0</td>\n",
       "      <td>129697.99</td>\n",
       "      <td>0</td>\n",
       "    </tr>\n",
       "  </tbody>\n",
       "</table>\n",
       "</div>"
      ],
      "text/plain": [
       "            CreditScore Geography  Gender  Age  Tenure    Balance  \\\n",
       "CustomerId                                                          \n",
       "15644453            606   Germany  Female   41     NaN  132670.53   \n",
       "15600258            701    France    Male   43     NaN       0.00   \n",
       "15604355            519    France    Male   39     NaN   97700.02   \n",
       "15724145            616   Germany    Male   29     NaN  149318.55   \n",
       "15668385            642    France    Male   40     NaN  154863.15   \n",
       "15704160            648     Spain    Male   49     NaN       0.00   \n",
       "15678779            502    France    Male   33     NaN       0.00   \n",
       "15595136            645    France  Female   37     NaN       0.00   \n",
       "15815690            614     Spain  Female   40     NaN  113348.50   \n",
       "15812628            453   Germany  Female   38     NaN  120623.21   \n",
       "\n",
       "            NumOfProducts  HasCrCard  IsActiveMember  EstimatedSalary  Exited  \n",
       "CustomerId                                                                     \n",
       "15644453                1          1               0        156476.36       1  \n",
       "15600258                2          1               1        165303.79       0  \n",
       "15604355                1          1               1         30709.03       0  \n",
       "15724145                1          1               0        140746.13       0  \n",
       "15668385                1          1               1        138052.51       0  \n",
       "15704160                1          1               0        149946.43       1  \n",
       "15678779                2          0               1          4082.52       0  \n",
       "15595136                2          1               1         68987.55       0  \n",
       "15815690                1          1               1         77789.01       0  \n",
       "15812628                1          1               0        129697.99       0  "
      ]
     },
     "execution_count": 12,
     "metadata": {},
     "output_type": "execute_result"
    }
   ],
   "source": [
    "df.query('Tenure.isna()').sample(10)"
   ]
  },
  {
   "cell_type": "code",
   "execution_count": 13,
   "metadata": {},
   "outputs": [],
   "source": [
    "df = df.dropna(subset=['Tenure'])"
   ]
  },
  {
   "cell_type": "code",
   "execution_count": 14,
   "metadata": {},
   "outputs": [
    {
     "data": {
      "image/png": "[encoded data removed]",
      "text/plain": [
       "<Figure size 360x360 with 1 Axes>"
      ]
     },
     "metadata": {
      "needs_background": "light"
     },
     "output_type": "display_data"
    }
   ],
   "source": [
    "sns.catplot(x='Geography', data=df, kind='count').set(title='Geography', xlabel='Geography', ylabel='count')\n",
    "plt.show()"
   ]
  },
  {
   "cell_type": "code",
   "execution_count": 15,
   "metadata": {},
   "outputs": [
    {
     "data": {
      "image/png": "[encoded data removed]",
      "text/plain": [
       "<Figure size 360x360 with 1 Axes>"
      ]
     },
     "metadata": {
      "needs_background": "light"
     },
     "output_type": "display_data"
    }
   ],
   "source": [
    "sns.catplot(x='Gender', data=df, kind='count').set(title='Gender', xlabel='Gender', ylabel='count')\n",
    "plt.show()"
   ]
  },
  {
   "cell_type": "code",
   "execution_count": 16,
   "metadata": {},
   "outputs": [
    {
     "data": {
      "image/png": "[encoded data removed]",
      "text/plain": [
       "<Figure size 1152x288 with 1 Axes>"
      ]
     },
     "metadata": {
      "needs_background": "light"
     },
     "output_type": "display_data"
    }
   ],
   "source": [
    "fig = plt.figure(figsize=(16, 4))\n",
    "sns.distplot(df['CreditScore'], kde=False, bins=30).set(title='CreditScore hist', xlabel='CreditScore', ylabel='count')\n",
    "plt.show()"
   ]
  },
  {
   "cell_type": "code",
   "execution_count": 17,
   "metadata": {
    "scrolled": true
   },
   "outputs": [
    {
     "data": {
      "image/png": "[encoded data removed]",
      "text/plain": [
       "<Figure size 1152x288 with 1 Axes>"
      ]
     },
     "metadata": {
      "needs_background": "light"
     },
     "output_type": "display_data"
    }
   ],
   "source": [
    "fig = plt.figure(figsize=(16, 4))\n",
    "sns.distplot(df['Age'], kde=False, bins=30).set(title='Age hist', xlabel='Age', ylabel='count')\n",
    "plt.show()"
   ]
  },
  {
   "cell_type": "code",
   "execution_count": 18,
   "metadata": {},
   "outputs": [
    {
     "data": {
      "text/plain": [
       "0.0     382\n",
       "1.0     952\n",
       "2.0     950\n",
       "3.0     928\n",
       "4.0     885\n",
       "5.0     927\n",
       "6.0     881\n",
       "7.0     925\n",
       "8.0     933\n",
       "9.0     882\n",
       "10.0    446\n",
       "Name: Tenure, dtype: int64"
      ]
     },
     "execution_count": 18,
     "metadata": {},
     "output_type": "execute_result"
    }
   ],
   "source": [
    "df['Tenure'].value_counts().sort_index()"
   ]
  },
  {
   "cell_type": "code",
   "execution_count": 19,
   "metadata": {},
   "outputs": [
    {
     "data": {
      "image/png": "[encoded data removed]",
      "text/plain": [
       "<Figure size 1152x288 with 1 Axes>"
      ]
     },
     "metadata": {
      "needs_background": "light"
     },
     "output_type": "display_data"
    }
   ],
   "source": [
    "fig = plt.figure(figsize=(16, 4))\n",
    "sns.countplot(df['Tenure']).set(title='Tenure')\n",
    "plt.show()"
   ]
  },
  {
   "cell_type": "code",
   "execution_count": 20,
   "metadata": {
    "scrolled": true
   },
   "outputs": [
    {
     "data": {
      "image/png": "[encoded data removed]",
      "text/plain": [
       "<Figure size 1152x288 with 1 Axes>"
      ]
     },
     "metadata": {
      "needs_background": "light"
     },
     "output_type": "display_data"
    }
   ],
   "source": [
    "fig = plt.figure(figsize=(16, 4))\n",
    "sns.distplot(df['Balance'], kde=False, bins=30).set(title='Balance hist', xlabel='Balance', ylabel='count')\n",
    "plt.show()"
   ]
  },
  {
   "cell_type": "code",
   "execution_count": 21,
   "metadata": {},
   "outputs": [
    {
     "data": {
      "text/plain": [
       "1    4617\n",
       "2    4184\n",
       "3     234\n",
       "4      56\n",
       "Name: NumOfProducts, dtype: int64"
      ]
     },
     "execution_count": 21,
     "metadata": {},
     "output_type": "execute_result"
    }
   ],
   "source": [
    "df['NumOfProducts'].value_counts()"
   ]
  },
  {
   "cell_type": "code",
   "execution_count": 22,
   "metadata": {},
   "outputs": [
    {
     "data": {
      "image/png": "[encoded data removed]",
      "text/plain": [
       "<Figure size 1152x288 with 1 Axes>"
      ]
     },
     "metadata": {
      "needs_background": "light"
     },
     "output_type": "display_data"
    }
   ],
   "source": [
    "fig = plt.figure(figsize=(16, 4))\n",
    "sns.countplot(df['NumOfProducts']).set(title='NumOfProducts')\n",
    "plt.show()"
   ]
  },
  {
   "cell_type": "code",
   "execution_count": 23,
   "metadata": {},
   "outputs": [
    {
     "data": {
      "image/png": "[encoded data removed]",
      "text/plain": [
       "<Figure size 1152x288 with 1 Axes>"
      ]
     },
     "metadata": {
      "needs_background": "light"
     },
     "output_type": "display_data"
    }
   ],
   "source": [
    "fig = plt.figure(figsize=(16, 4))\n",
    "sns.countplot(df['HasCrCard']).set(title='HasCrCard')\n",
    "plt.show()"
   ]
  },
  {
   "cell_type": "code",
   "execution_count": 24,
   "metadata": {},
   "outputs": [
    {
     "data": {
      "image/png": "[encoded data removed]",
      "text/plain": [
       "<Figure size 1152x288 with 1 Axes>"
      ]
     },
     "metadata": {
      "needs_background": "light"
     },
     "output_type": "display_data"
    }
   ],
   "source": [
    "fig = plt.figure(figsize=(16, 4))\n",
    "sns.countplot(df['IsActiveMember']).set(title='IsActiveMember')\n",
    "plt.show()"
   ]
  },
  {
   "cell_type": "code",
   "execution_count": 25,
   "metadata": {
    "scrolled": true
   },
   "outputs": [
    {
     "data": {
      "image/png": "[encoded data removed]",
      "text/plain": [
       "<Figure size 1152x288 with 1 Axes>"
      ]
     },
     "metadata": {
      "needs_background": "light"
     },
     "output_type": "display_data"
    }
   ],
   "source": [
    "fig = plt.figure(figsize=(16, 4))\n",
    "sns.distplot(df['EstimatedSalary'], kde=False, bins=30).set(title='EstimatedSalary hist', xlabel='EstimatedSalary', ylabel='count')\n",
    "plt.show()"
   ]
  },
  {
   "cell_type": "code",
   "execution_count": 26,
   "metadata": {
    "scrolled": true
   },
   "outputs": [
    {
     "data": {
      "image/png": "[encoded data removed]",
      "text/plain": [
       "<Figure size 1152x288 with 1 Axes>"
      ]
     },
     "metadata": {
      "needs_background": "light"
     },
     "output_type": "display_data"
    }
   ],
   "source": [
    "plt.figure(figsize=(16, 4))\n",
    "sns.countplot(x='Exited', data=df).set(title='Exited')\n",
    "plt.show()"
   ]
  },
  {
   "cell_type": "code",
   "execution_count": 27,
   "metadata": {},
   "outputs": [
    {
     "data": {
      "text/plain": [
       "3.9034519956850056"
      ]
     },
     "execution_count": 27,
     "metadata": {},
     "output_type": "execute_result"
    }
   ],
   "source": [
    "df[df['Exited'] == 0].shape[0] / df[df['Exited'] == 1].shape[0]"
   ]
  },
  {
   "cell_type": "code",
   "execution_count": 28,
   "metadata": {},
   "outputs": [],
   "source": [
    "df = pd.get_dummies(df, columns=['Geography', 'Gender'], drop_first=True)"
   ]
  },
  {
   "cell_type": "code",
   "execution_count": 29,
   "metadata": {
    "scrolled": true
   },
   "outputs": [
    {
     "data": {
      "text/html": [
       "<div>\n",
       "<style scoped>\n",
       "    .dataframe tbody tr th:only-of-type {\n",
       "        vertical-align: middle;\n",
       "    }\n",
       "\n",
       "    .dataframe tbody tr th {\n",
       "        vertical-align: top;\n",
       "    }\n",
       "\n",
       "    .dataframe thead th {\n",
       "        text-align: right;\n",
       "    }\n",
       "</style>\n",
       "<table border=\"1\" class=\"dataframe\">\n",
       "  <thead>\n",
       "    <tr style=\"text-align: right;\">\n",
       "      <th></th>\n",
       "      <th>CreditScore</th>\n",
       "      <th>Age</th>\n",
       "      <th>Tenure</th>\n",
       "      <th>Balance</th>\n",
       "      <th>NumOfProducts</th>\n",
       "      <th>HasCrCard</th>\n",
       "      <th>IsActiveMember</th>\n",
       "      <th>EstimatedSalary</th>\n",
       "      <th>Exited</th>\n",
       "      <th>Geography_Germany</th>\n",
       "      <th>Geography_Spain</th>\n",
       "      <th>Gender_Male</th>\n",
       "    </tr>\n",
       "    <tr>\n",
       "      <th>CustomerId</th>\n",
       "      <th></th>\n",
       "      <th></th>\n",
       "      <th></th>\n",
       "      <th></th>\n",
       "      <th></th>\n",
       "      <th></th>\n",
       "      <th></th>\n",
       "      <th></th>\n",
       "      <th></th>\n",
       "      <th></th>\n",
       "      <th></th>\n",
       "      <th></th>\n",
       "    </tr>\n",
       "  </thead>\n",
       "  <tbody>\n",
       "    <tr>\n",
       "      <th>15570192</th>\n",
       "      <td>608</td>\n",
       "      <td>40</td>\n",
       "      <td>8.0</td>\n",
       "      <td>121729.42</td>\n",
       "      <td>1</td>\n",
       "      <td>0</td>\n",
       "      <td>0</td>\n",
       "      <td>61164.45</td>\n",
       "      <td>0</td>\n",
       "      <td>1</td>\n",
       "      <td>0</td>\n",
       "      <td>0</td>\n",
       "    </tr>\n",
       "    <tr>\n",
       "      <th>15754494</th>\n",
       "      <td>585</td>\n",
       "      <td>33</td>\n",
       "      <td>4.0</td>\n",
       "      <td>152805.05</td>\n",
       "      <td>1</td>\n",
       "      <td>1</td>\n",
       "      <td>0</td>\n",
       "      <td>63239.65</td>\n",
       "      <td>0</td>\n",
       "      <td>0</td>\n",
       "      <td>0</td>\n",
       "      <td>0</td>\n",
       "    </tr>\n",
       "    <tr>\n",
       "      <th>15569670</th>\n",
       "      <td>627</td>\n",
       "      <td>30</td>\n",
       "      <td>6.0</td>\n",
       "      <td>112372.96</td>\n",
       "      <td>1</td>\n",
       "      <td>1</td>\n",
       "      <td>1</td>\n",
       "      <td>118029.09</td>\n",
       "      <td>0</td>\n",
       "      <td>1</td>\n",
       "      <td>0</td>\n",
       "      <td>1</td>\n",
       "    </tr>\n",
       "    <tr>\n",
       "      <th>15689061</th>\n",
       "      <td>611</td>\n",
       "      <td>68</td>\n",
       "      <td>5.0</td>\n",
       "      <td>82547.11</td>\n",
       "      <td>2</td>\n",
       "      <td>1</td>\n",
       "      <td>1</td>\n",
       "      <td>146448.01</td>\n",
       "      <td>0</td>\n",
       "      <td>0</td>\n",
       "      <td>0</td>\n",
       "      <td>1</td>\n",
       "    </tr>\n",
       "    <tr>\n",
       "      <th>15711299</th>\n",
       "      <td>711</td>\n",
       "      <td>52</td>\n",
       "      <td>8.0</td>\n",
       "      <td>145262.54</td>\n",
       "      <td>1</td>\n",
       "      <td>0</td>\n",
       "      <td>1</td>\n",
       "      <td>131473.31</td>\n",
       "      <td>0</td>\n",
       "      <td>1</td>\n",
       "      <td>0</td>\n",
       "      <td>0</td>\n",
       "    </tr>\n",
       "  </tbody>\n",
       "</table>\n",
       "</div>"
      ],
      "text/plain": [
       "            CreditScore  Age  Tenure    Balance  NumOfProducts  HasCrCard  \\\n",
       "CustomerId                                                                  \n",
       "15570192            608   40     8.0  121729.42              1          0   \n",
       "15754494            585   33     4.0  152805.05              1          1   \n",
       "15569670            627   30     6.0  112372.96              1          1   \n",
       "15689061            611   68     5.0   82547.11              2          1   \n",
       "15711299            711   52     8.0  145262.54              1          0   \n",
       "\n",
       "            IsActiveMember  EstimatedSalary  Exited  Geography_Germany  \\\n",
       "CustomerId                                                               \n",
       "15570192                 0         61164.45       0                  1   \n",
       "15754494                 0         63239.65       0                  0   \n",
       "15569670                 1        118029.09       0                  1   \n",
       "15689061                 1        146448.01       0                  0   \n",
       "15711299                 1        131473.31       0                  1   \n",
       "\n",
       "            Geography_Spain  Gender_Male  \n",
       "CustomerId                                \n",
       "15570192                  0            0  \n",
       "15754494                  0            0  \n",
       "15569670                  0            1  \n",
       "15689061                  0            1  \n",
       "15711299                  0            0  "
      ]
     },
     "execution_count": 29,
     "metadata": {},
     "output_type": "execute_result"
    }
   ],
   "source": [
    "df.sample(5)"
   ]
  },
  {
   "cell_type": "code",
   "execution_count": 30,
   "metadata": {},
   "outputs": [],
   "source": [
    "features = df.drop(['Exited'], axis=1)\n",
    "target = df['Exited']\n",
    "\n",
    "features, target = shuffle(features, target, random_state=12345)"
   ]
  },
  {
   "cell_type": "code",
   "execution_count": 31,
   "metadata": {},
   "outputs": [],
   "source": [
    "features_train, features_tt, target_train, target_tt = train_test_split(\n",
    "    features, \n",
    "    target, \n",
    "    test_size=0.4, \n",
    "    random_state=12345\n",
    ")"
   ]
  },
  {
   "cell_type": "code",
   "execution_count": 32,
   "metadata": {},
   "outputs": [],
   "source": [
    "features_valid, features_test, target_valid, target_test = train_test_split(\n",
    "    features_tt, \n",
    "    target_tt, \n",
    "    test_size=0.5, \n",
    "    random_state=12345\n",
    ")"
   ]
  },
  {
   "cell_type": "code",
   "execution_count": 33,
   "metadata": {},
   "outputs": [
    {
     "data": {
      "text/plain": [
       "True"
      ]
     },
     "execution_count": 33,
     "metadata": {},
     "output_type": "execute_result"
    }
   ],
   "source": [
    "features_train.shape[0] + features_valid.shape[0] + features_test.shape[0] == features.shape[0]"
   ]
  },
  {
   "cell_type": "markdown",
   "metadata": {},
   "source": [
    "Мы загрузили данные. У нас 10000 клиентов. Т.к. у нас есть уникальный идентификатор клиента CustomerId, то сделали его индексом, а лишние данные удалили (RowNumber, Surname).\n",
    "\n",
    "У нас есть пропуски в кол-ве недвижимости. Удалили строки с пропуском. 35% клиентов с нулевым балансом на счете. Клиентов ушедших почти в 4 раза меньше оставшихся.\n",
    "\n",
    "Два категориальных признака Страна проживания и Пол преобразуем в численные техникой OHE (One-Hot Encoding, прямое кодирование), удалив один столбец, т.к. оставшихся достаточно для восстановления значения удаленного столбца.\n",
    "\n",
    "Мы поделили данные на тренировочные, валидационные и тестовые в соотношении 3:1:1."
   ]
  },
  {
   "cell_type": "markdown",
   "metadata": {},
   "source": [
    "# 2. Исследование задачи\n",
    "<a id=\"step_2\"></a>"
   ]
  },
  {
   "cell_type": "code",
   "execution_count": 34,
   "metadata": {
    "scrolled": true
   },
   "outputs": [
    {
     "data": {
      "image/png": "[encoded data removed]",
      "text/plain": [
       "<Figure size 1152x288 with 1 Axes>"
      ]
     },
     "metadata": {
      "needs_background": "light"
     },
     "output_type": "display_data"
    }
   ],
   "source": [
    "plt.figure(figsize=(16, 4))\n",
    "sns.countplot(target_train).set(title='Train Exited')\n",
    "plt.show()"
   ]
  },
  {
   "cell_type": "code",
   "execution_count": 35,
   "metadata": {
    "scrolled": true
   },
   "outputs": [
    {
     "data": {
      "image/png": "[encoded data removed]",
      "text/plain": [
       "<Figure size 1152x288 with 1 Axes>"
      ]
     },
     "metadata": {
      "needs_background": "light"
     },
     "output_type": "display_data"
    }
   ],
   "source": [
    "plt.figure(figsize=(16, 4))\n",
    "sns.countplot(target_valid).set(title='Valid Exited')\n",
    "plt.show()"
   ]
  },
  {
   "cell_type": "code",
   "execution_count": 36,
   "metadata": {
    "scrolled": true
   },
   "outputs": [
    {
     "data": {
      "image/png": "[encoded data removed]",
      "text/plain": [
       "<Figure size 1152x288 with 1 Axes>"
      ]
     },
     "metadata": {
      "needs_background": "light"
     },
     "output_type": "display_data"
    }
   ],
   "source": [
    "plt.figure(figsize=(16, 4))\n",
    "sns.countplot(target_test).set(title='Test Exited')\n",
    "plt.show()"
   ]
  },
  {
   "cell_type": "markdown",
   "metadata": {},
   "source": [
    "### Логистическая регрессия"
   ]
  },
  {
   "cell_type": "code",
   "execution_count": 37,
   "metadata": {
    "scrolled": true
   },
   "outputs": [
    {
     "name": "stdout",
     "output_type": "stream",
     "text": [
      "LogisticRegression:\n",
      "F1 Score = 0.11594202898550725\n",
      "AUC-ROC = 0.5252739483916579\n",
      "Точность = 0.5333333333333333\n",
      "Полнота = 0.06504065040650407\n",
      "\n",
      "CPU times: user 89.1 ms, sys: 54.2 ms, total: 143 ms\n",
      "Wall time: 92.8 ms\n"
     ]
    }
   ],
   "source": [
    "%%time\n",
    "\n",
    "LR_model = LogisticRegression(random_state=12345, solver='liblinear')\n",
    "LR_model.fit(features_train, target_train)\n",
    "\n",
    "LR_predictions = LR_model.predict(features_valid)\n",
    "LR_precision_score = precision_score(target_valid, LR_predictions)\n",
    "LR_recall_score = recall_score(target_valid, LR_predictions)\n",
    "LR_f1_score = f1_score(target_valid, LR_predictions)\n",
    "LR_roc_auc = roc_auc_score(target_valid, LR_predictions)\n",
    "\n",
    "# сохраним результаты в табличку\n",
    "models = pd.DataFrame({\n",
    "    'model':['LogisticRegression'], \n",
    "    'f1_score':[LR_f1_score], \n",
    "    'roc_auc':[LR_roc_auc]\n",
    "})\n",
    "\n",
    "print(f'LogisticRegression:')\n",
    "print(f'F1 Score = {LR_f1_score}')\n",
    "print(f'AUC-ROC = {LR_roc_auc}')\n",
    "print(f'Точность = {LR_precision_score}')\n",
    "print(f'Полнота = {LR_recall_score}')\n",
    "print()"
   ]
  },
  {
   "cell_type": "markdown",
   "metadata": {},
   "source": [
    "### Случайный лес"
   ]
  },
  {
   "cell_type": "code",
   "execution_count": 38,
   "metadata": {},
   "outputs": [
    {
     "name": "stdout",
     "output_type": "stream",
     "text": [
      "RandomForestClassifier depth=12, estimators=10\n",
      "F1 Score = 0.5656565656565656\n",
      "AUC-ROC = 0.7079735393627228\n",
      "Точность = 0.7466666666666667\n",
      "Полнота = 0.45528455284552843\n",
      "\n",
      "CPU times: user 30.3 s, sys: 153 ms, total: 30.5 s\n",
      "Wall time: 30.7 s\n"
     ]
    }
   ],
   "source": [
    "%%time\n",
    "\n",
    "RF_model = None\n",
    "best_depth = 0\n",
    "best_est = 0\n",
    "best_RF_f1_score = 0\n",
    "\n",
    "for est in range(10,100,10):\n",
    "    for depth in range(2,20,2):\n",
    "        model = RandomForestClassifier(random_state=12345, n_estimators=est, max_depth=depth)\n",
    "        model.fit(features_train, target_train)\n",
    "        \n",
    "        RF_predictions = model.predict(features_valid)\n",
    "        RF_f1_score = f1_score(target_valid, RF_predictions)\n",
    "        \n",
    "        if RF_f1_score > best_RF_f1_score:\n",
    "            RF_model = model\n",
    "            best_RF_f1_score = RF_f1_score\n",
    "            best_depth = depth\n",
    "            best_est = est\n",
    "\n",
    "RF_predictions = RF_model.predict(features_valid)\n",
    "RF_precision_score = precision_score(target_valid, RF_predictions)\n",
    "RF_recall_score = recall_score(target_valid, RF_predictions)\n",
    "RF_f1_score = f1_score(target_valid, RF_predictions)\n",
    "RF_roc_auc = roc_auc_score(target_valid, RF_predictions)\n",
    "\n",
    "models = models.append(\n",
    "    pd.DataFrame({\n",
    "        'model':['RandomForestClassifier'], \n",
    "        'f1_score':[RF_f1_score], \n",
    "        'roc_auc':[RF_roc_auc]}\n",
    "    ), \n",
    "    ignore_index=True\n",
    ")\n",
    "\n",
    "print(f'RandomForestClassifier depth={best_depth}, estimators={best_est}')\n",
    "print(f'F1 Score = {RF_f1_score}')\n",
    "print(f'AUC-ROC = {RF_roc_auc}')\n",
    "print(f'Точность = {RF_precision_score}')\n",
    "print(f'Полнота = {RF_recall_score}')\n",
    "print()"
   ]
  },
  {
   "cell_type": "markdown",
   "metadata": {},
   "source": [
    "На всех выборках видим дисбаланс, положительных ответов ~4 меньше.\n",
    "\n",
    "Логистическая регрессия вернула очень маленькое значение метрики F1 (0.11). Это связано с тем что данная модель плохо угадывает положительные отчеты (Полнота=0.06).\n",
    "\n",
    "Случайный лес дал лучший результат по метрике F1 (0.56), т.к. полнота и точность значительно больше чем выдала модель логистической регрессии."
   ]
  },
  {
   "cell_type": "markdown",
   "metadata": {},
   "source": [
    "# 3. Борьба с дисбалансом\n",
    "<a id=\"step_3\"></a>"
   ]
  },
  {
   "cell_type": "markdown",
   "metadata": {},
   "source": [
    "### Взвешивание классов"
   ]
  },
  {
   "cell_type": "markdown",
   "metadata": {},
   "source": [
    "#### Логистическая регрессия"
   ]
  },
  {
   "cell_type": "code",
   "execution_count": 39,
   "metadata": {},
   "outputs": [
    {
     "name": "stdout",
     "output_type": "stream",
     "text": [
      "LogisticRegression:\n",
      "F1 Score = 0.4794007490636704\n",
      "AUC-ROC = 0.6940194246662964\n",
      "Точность = 0.36623748211731044\n",
      "Полнота = 0.6937669376693767\n",
      "\n",
      "CPU times: user 110 ms, sys: 40.2 ms, total: 150 ms\n",
      "Wall time: 119 ms\n"
     ]
    }
   ],
   "source": [
    "%%time\n",
    "\n",
    "LR_model_balanced = LogisticRegression(random_state=12345, solver='liblinear', class_weight='balanced')\n",
    "LR_model_balanced.fit(features_train, target_train)\n",
    "\n",
    "LR_predictions = LR_model_balanced.predict(features_valid)\n",
    "LR_precision_score = precision_score(target_valid, LR_predictions)\n",
    "LR_recall_score = recall_score(target_valid, LR_predictions)\n",
    "LR_f1_score = f1_score(target_valid, LR_predictions)\n",
    "LR_roc_auc = roc_auc_score(target_valid, LR_predictions)\n",
    "\n",
    "models = models.append(\n",
    "    pd.DataFrame({\n",
    "        'model':['LogisticRegression Balanced'], \n",
    "        'f1_score':[LR_f1_score], \n",
    "        'roc_auc':[LR_roc_auc]}\n",
    "    ), \n",
    "    ignore_index=True\n",
    ")\n",
    "\n",
    "print(f'LogisticRegression:')\n",
    "print(f'F1 Score = {LR_f1_score}')\n",
    "print(f'AUC-ROC = {LR_roc_auc}')\n",
    "print(f'Точность = {LR_precision_score}')\n",
    "print(f'Полнота = {LR_recall_score}')\n",
    "print()"
   ]
  },
  {
   "cell_type": "markdown",
   "metadata": {},
   "source": [
    "#### Случайный лес"
   ]
  },
  {
   "cell_type": "code",
   "execution_count": 40,
   "metadata": {},
   "outputs": [
    {
     "name": "stdout",
     "output_type": "stream",
     "text": [
      "RandomForestClassifier depth=6, estimators=60\n",
      "F1 Score = 0.6297169811320755\n",
      "AUC-ROC = 0.7886347186453232\n",
      "Точность = 0.55741127348643\n",
      "Полнота = 0.7235772357723578\n",
      "\n",
      "CPU times: user 28.8 s, sys: 171 ms, total: 29 s\n",
      "Wall time: 32.6 s\n"
     ]
    }
   ],
   "source": [
    "%%time\n",
    "\n",
    "RF_model_balanced = None\n",
    "best_depth = 0\n",
    "best_est = 0\n",
    "best_RF_f1_score = 0\n",
    "\n",
    "for est in range(10,100,10):\n",
    "    for depth in range(2,20,2):\n",
    "        model = RandomForestClassifier(random_state=12345, n_estimators=est, max_depth=depth, class_weight='balanced')\n",
    "        model.fit(features_train, target_train)\n",
    "        \n",
    "        RF_predictions = model.predict(features_valid)\n",
    "        RF_f1_score = f1_score(target_valid, RF_predictions)\n",
    "        \n",
    "        if RF_f1_score > best_RF_f1_score:\n",
    "            RF_model_balanced = model\n",
    "            best_RF_f1_score = RF_f1_score\n",
    "            best_depth = depth\n",
    "            best_est = est\n",
    "\n",
    "RF_predictions = RF_model_balanced.predict(features_valid)\n",
    "RF_precision_score = precision_score(target_valid, RF_predictions)\n",
    "RF_recall_score = recall_score(target_valid, RF_predictions)\n",
    "RF_f1_score = f1_score(target_valid, RF_predictions)\n",
    "RF_roc_auc = roc_auc_score(target_valid, RF_predictions)\n",
    "\n",
    "models = models.append(\n",
    "    pd.DataFrame({\n",
    "        'model':['RandomForestClassifier Balanced'], \n",
    "        'f1_score':[RF_f1_score], \n",
    "        'roc_auc':[RF_roc_auc]}\n",
    "    ), \n",
    "    ignore_index=True\n",
    ")\n",
    "\n",
    "print(f'RandomForestClassifier depth={best_depth}, estimators={best_est}')\n",
    "print(f'F1 Score = {RF_f1_score}')\n",
    "print(f'AUC-ROC = {RF_roc_auc}')\n",
    "print(f'Точность = {RF_precision_score}')\n",
    "print(f'Полнота = {RF_recall_score}')\n",
    "print()"
   ]
  },
  {
   "cell_type": "markdown",
   "metadata": {},
   "source": [
    "### Увеличение выборки"
   ]
  },
  {
   "cell_type": "code",
   "execution_count": 41,
   "metadata": {},
   "outputs": [],
   "source": [
    "def upsample(features, target, repeat):\n",
    "    features_zeros = features[target == 0]\n",
    "    features_ones = features[target == 1]\n",
    "    target_zeros = target[target == 0]\n",
    "    target_ones = target[target == 1]\n",
    "    \n",
    "    features_upsampled = pd.concat([features_zeros] + [features_ones] * repeat)\n",
    "    target_upsampled = pd.concat([target_zeros] + [target_ones] * repeat)\n",
    "    features_upsampled, target_upsampled = shuffle(features_upsampled, target_upsampled, random_state=12345)\n",
    "    \n",
    "    return features_upsampled, target_upsampled"
   ]
  },
  {
   "cell_type": "code",
   "execution_count": 42,
   "metadata": {},
   "outputs": [
    {
     "data": {
      "text/plain": [
       "4.003669724770642"
      ]
     },
     "execution_count": 42,
     "metadata": {},
     "output_type": "execute_result"
    }
   ],
   "source": [
    "np.sum(target_train == 0) / np.sum(target_train == 1)"
   ]
  },
  {
   "cell_type": "code",
   "execution_count": 43,
   "metadata": {},
   "outputs": [],
   "source": [
    "features_train_up, target_train_up = upsample(features_train, target_train, 4)"
   ]
  },
  {
   "cell_type": "code",
   "execution_count": 44,
   "metadata": {},
   "outputs": [
    {
     "data": {
      "text/plain": [
       "1.0009174311926605"
      ]
     },
     "execution_count": 44,
     "metadata": {},
     "output_type": "execute_result"
    }
   ],
   "source": [
    "np.sum(target_train_up == 0) / np.sum(target_train_up == 1)"
   ]
  },
  {
   "cell_type": "markdown",
   "metadata": {},
   "source": [
    "#### Логистическая регрессия"
   ]
  },
  {
   "cell_type": "code",
   "execution_count": 45,
   "metadata": {},
   "outputs": [
    {
     "name": "stdout",
     "output_type": "stream",
     "text": [
      "LogisticRegression:\n",
      "F1 Score = 0.4458259325044405\n",
      "AUC-ROC = 0.6655052264808363\n",
      "Точность = 0.33157199471598414\n",
      "Полнота = 0.6802168021680217\n",
      "\n",
      "CPU times: user 124 ms, sys: 76.3 ms, total: 200 ms\n",
      "Wall time: 208 ms\n"
     ]
    }
   ],
   "source": [
    "%%time\n",
    "\n",
    "LR_model_up = LogisticRegression(random_state=12345, solver='liblinear')\n",
    "LR_model_up.fit(features_train_up, target_train_up)\n",
    "\n",
    "LR_predictions = LR_model_up.predict(features_valid)\n",
    "LR_precision_score = precision_score(target_valid, LR_predictions)\n",
    "LR_recall_score = recall_score(target_valid, LR_predictions)\n",
    "LR_f1_score = f1_score(target_valid, LR_predictions)\n",
    "LR_roc_auc = roc_auc_score(target_valid, LR_predictions)\n",
    "\n",
    "models = models.append(\n",
    "    pd.DataFrame({\n",
    "        'model':['LogisticRegression Upsampled'], \n",
    "        'f1_score':[LR_f1_score], \n",
    "        'roc_auc':[LR_roc_auc]}\n",
    "    ), \n",
    "    ignore_index=True\n",
    ")\n",
    "\n",
    "print(f'LogisticRegression:')\n",
    "print(f'F1 Score = {LR_f1_score}')\n",
    "print(f'AUC-ROC = {LR_roc_auc}')\n",
    "print(f'Точность = {LR_precision_score}')\n",
    "print(f'Полнота = {LR_recall_score}')\n",
    "print()"
   ]
  },
  {
   "cell_type": "markdown",
   "metadata": {},
   "source": [
    "#### Случайный лес"
   ]
  },
  {
   "cell_type": "code",
   "execution_count": 46,
   "metadata": {},
   "outputs": [
    {
     "name": "stdout",
     "output_type": "stream",
     "text": [
      "RandomForestClassifier depth=10, estimators=20\n",
      "F1 Score = 0.6254826254826255\n",
      "AUC-ROC = 0.7723324748775439\n",
      "Точность = 0.5955882352941176\n",
      "Полнота = 0.6585365853658537\n",
      "\n",
      "CPU times: user 44.2 s, sys: 142 ms, total: 44.4 s\n",
      "Wall time: 1min 31s\n"
     ]
    }
   ],
   "source": [
    "%%time\n",
    "\n",
    "RF_model_up = None\n",
    "best_depth = 0\n",
    "best_est = 0\n",
    "best_RF_f1_score = 0\n",
    "\n",
    "for est in range(10,100,10):\n",
    "    for depth in range(2,20,2):\n",
    "        model = RandomForestClassifier(random_state=12345, n_estimators=est, max_depth=depth)\n",
    "        model.fit(features_train_up, target_train_up)\n",
    "        \n",
    "        RF_predictions = model.predict(features_valid)\n",
    "        RF_f1_score = f1_score(target_valid, RF_predictions)\n",
    "        \n",
    "        if RF_f1_score > best_RF_f1_score:\n",
    "            RF_model_up = model\n",
    "            best_RF_f1_score = RF_f1_score\n",
    "            best_depth = depth\n",
    "            best_est = est\n",
    "\n",
    "RF_predictions = RF_model_up.predict(features_valid)\n",
    "RF_precision_score = precision_score(target_valid, RF_predictions)\n",
    "RF_recall_score = recall_score(target_valid, RF_predictions)\n",
    "RF_f1_score = f1_score(target_valid, RF_predictions)\n",
    "RF_roc_auc = roc_auc_score(target_valid, RF_predictions)\n",
    "\n",
    "models = models.append(\n",
    "    pd.DataFrame({\n",
    "        'model':['RandomForestClassifier Upsampled'], \n",
    "        'f1_score':[RF_f1_score], \n",
    "        'roc_auc':[RF_roc_auc]}\n",
    "    ), \n",
    "    ignore_index=True\n",
    ")\n",
    "\n",
    "print(f'RandomForestClassifier depth={best_depth}, estimators={best_est}')\n",
    "print(f'F1 Score = {RF_f1_score}')\n",
    "print(f'AUC-ROC = {RF_roc_auc}')\n",
    "print(f'Точность = {RF_precision_score}')\n",
    "print(f'Полнота = {RF_recall_score}')\n",
    "print()"
   ]
  },
  {
   "cell_type": "markdown",
   "metadata": {},
   "source": [
    "### Уменьшение выборки"
   ]
  },
  {
   "cell_type": "code",
   "execution_count": 47,
   "metadata": {},
   "outputs": [],
   "source": [
    "def downsample(features, target, fraction):\n",
    "    features_zeros = features[target == 0]\n",
    "    features_ones = features[target == 1]\n",
    "    target_zeros = target[target == 0]\n",
    "    target_ones = target[target == 1]\n",
    "    \n",
    "    features_downsampled = pd.concat([features_zeros.sample(frac=fraction, random_state=12345)] + [features_ones])\n",
    "    target_downsampled = pd.concat([target_zeros.sample(frac=fraction, random_state=12345)] + [target_ones])\n",
    "    features_downsampled, target_downsampled = shuffle(features_downsampled, target_downsampled, random_state=12345)\n",
    "    \n",
    "    return features_downsampled, target_downsampled"
   ]
  },
  {
   "cell_type": "code",
   "execution_count": 48,
   "metadata": {},
   "outputs": [
    {
     "data": {
      "text/plain": [
       "0.24977085242896424"
      ]
     },
     "execution_count": 48,
     "metadata": {},
     "output_type": "execute_result"
    }
   ],
   "source": [
    "np.sum(target_train == 1) / np.sum(target_train == 0)"
   ]
  },
  {
   "cell_type": "code",
   "execution_count": 49,
   "metadata": {},
   "outputs": [],
   "source": [
    "features_train_down, target_train_down = downsample(features_train, target_train, 0.25)"
   ]
  },
  {
   "cell_type": "code",
   "execution_count": 50,
   "metadata": {},
   "outputs": [
    {
     "data": {
      "text/plain": [
       "0.999083409715857"
      ]
     },
     "execution_count": 50,
     "metadata": {},
     "output_type": "execute_result"
    }
   ],
   "source": [
    "np.sum(target_train_down == 1) / np.sum(target_train_down == 0)"
   ]
  },
  {
   "cell_type": "markdown",
   "metadata": {},
   "source": [
    "#### Логистическая регрессия"
   ]
  },
  {
   "cell_type": "code",
   "execution_count": 51,
   "metadata": {},
   "outputs": [
    {
     "name": "stdout",
     "output_type": "stream",
     "text": [
      "LogisticRegression:\n",
      "F1 Score = 0.4428697962798938\n",
      "AUC-ROC = 0.6627699506808732\n",
      "Точность = 0.32894736842105265\n",
      "Полнота = 0.6775067750677507\n",
      "\n",
      "CPU times: user 61.4 ms, sys: 60.3 ms, total: 122 ms\n",
      "Wall time: 168 ms\n"
     ]
    }
   ],
   "source": [
    "%%time\n",
    "\n",
    "LR_model_down = LogisticRegression(random_state=12345, solver='liblinear')\n",
    "LR_model_down.fit(features_train_down, target_train_down)\n",
    "\n",
    "LR_predictions = LR_model_down.predict(features_valid)\n",
    "LR_precision_score = precision_score(target_valid, LR_predictions)\n",
    "LR_recall_score = recall_score(target_valid, LR_predictions)\n",
    "LR_f1_score = f1_score(target_valid, LR_predictions)\n",
    "LR_roc_auc = roc_auc_score(target_valid, LR_predictions)\n",
    "\n",
    "models = models.append(\n",
    "    pd.DataFrame({\n",
    "        'model':['LogisticRegression Downsampled'], \n",
    "        'f1_score':[LR_f1_score], \n",
    "        'roc_auc':[LR_roc_auc]}\n",
    "    ), \n",
    "    ignore_index=True\n",
    ")\n",
    "\n",
    "print(f'LogisticRegression:')\n",
    "print(f'F1 Score = {LR_f1_score}')\n",
    "print(f'AUC-ROC = {LR_roc_auc}')\n",
    "print(f'Точность = {LR_precision_score}')\n",
    "print(f'Полнота = {LR_recall_score}')\n",
    "print()"
   ]
  },
  {
   "cell_type": "markdown",
   "metadata": {},
   "source": [
    "#### Случайный лес"
   ]
  },
  {
   "cell_type": "code",
   "execution_count": 52,
   "metadata": {},
   "outputs": [
    {
     "name": "stdout",
     "output_type": "stream",
     "text": [
      "RandomForestClassifier depth=8, estimators=60\n",
      "F1 Score = 0.605927552140505\n",
      "AUC-ROC = 0.7821963002238718\n",
      "Точность = 0.5092250922509225\n",
      "Полнота = 0.7479674796747967\n",
      "\n",
      "CPU times: user 18.4 s, sys: 83.2 ms, total: 18.4 s\n",
      "Wall time: 37.9 s\n"
     ]
    }
   ],
   "source": [
    "%%time\n",
    "\n",
    "RF_model_down = None\n",
    "best_depth = 0\n",
    "best_est = 0\n",
    "best_RF_f1_score = 0\n",
    "\n",
    "for est in range(10,100,10):\n",
    "    for depth in range(2,20,2):\n",
    "        model = RandomForestClassifier(random_state=12345, n_estimators=est, max_depth=depth)\n",
    "        model.fit(features_train_down, target_train_down)\n",
    "        \n",
    "        RF_predictions = model.predict(features_valid)\n",
    "        RF_f1_score = f1_score(target_valid, RF_predictions)\n",
    "        \n",
    "        if RF_f1_score > best_RF_f1_score:\n",
    "            RF_model_down = model\n",
    "            best_RF_f1_score = RF_f1_score\n",
    "            best_depth = depth\n",
    "            best_est = est\n",
    "\n",
    "RF_predictions = RF_model_down.predict(features_valid)\n",
    "RF_precision_score = precision_score(target_valid, RF_predictions)\n",
    "RF_recall_score = recall_score(target_valid, RF_predictions)\n",
    "RF_f1_score = f1_score(target_valid, RF_predictions)\n",
    "RF_roc_auc = roc_auc_score(target_valid, RF_predictions)\n",
    "\n",
    "models = models.append(\n",
    "    pd.DataFrame({\n",
    "        'model':['RandomForestClassifier Downsampled'], \n",
    "        'f1_score':[RF_f1_score], \n",
    "        'roc_auc':[RF_roc_auc]}\n",
    "    ), \n",
    "    ignore_index=True\n",
    ")\n",
    "\n",
    "print(f'RandomForestClassifier depth={best_depth}, estimators={best_est}')\n",
    "print(f'F1 Score = {RF_f1_score}')\n",
    "print(f'AUC-ROC = {RF_roc_auc}')\n",
    "print(f'Точность = {RF_precision_score}')\n",
    "print(f'Полнота = {RF_recall_score}')\n",
    "print()"
   ]
  },
  {
   "cell_type": "code",
   "execution_count": 53,
   "metadata": {
    "scrolled": true
   },
   "outputs": [
    {
     "data": {
      "text/html": [
       "<div>\n",
       "<style scoped>\n",
       "    .dataframe tbody tr th:only-of-type {\n",
       "        vertical-align: middle;\n",
       "    }\n",
       "\n",
       "    .dataframe tbody tr th {\n",
       "        vertical-align: top;\n",
       "    }\n",
       "\n",
       "    .dataframe thead th {\n",
       "        text-align: right;\n",
       "    }\n",
       "</style>\n",
       "<table border=\"1\" class=\"dataframe\">\n",
       "  <thead>\n",
       "    <tr style=\"text-align: right;\">\n",
       "      <th></th>\n",
       "      <th>model</th>\n",
       "      <th>f1_score</th>\n",
       "      <th>roc_auc</th>\n",
       "    </tr>\n",
       "  </thead>\n",
       "  <tbody>\n",
       "    <tr>\n",
       "      <th>3</th>\n",
       "      <td>RandomForestClassifier Balanced</td>\n",
       "      <td>0.629717</td>\n",
       "      <td>0.788635</td>\n",
       "    </tr>\n",
       "    <tr>\n",
       "      <th>5</th>\n",
       "      <td>RandomForestClassifier Upsampled</td>\n",
       "      <td>0.625483</td>\n",
       "      <td>0.772332</td>\n",
       "    </tr>\n",
       "    <tr>\n",
       "      <th>7</th>\n",
       "      <td>RandomForestClassifier Downsampled</td>\n",
       "      <td>0.605928</td>\n",
       "      <td>0.782196</td>\n",
       "    </tr>\n",
       "    <tr>\n",
       "      <th>1</th>\n",
       "      <td>RandomForestClassifier</td>\n",
       "      <td>0.565657</td>\n",
       "      <td>0.707974</td>\n",
       "    </tr>\n",
       "    <tr>\n",
       "      <th>2</th>\n",
       "      <td>LogisticRegression Balanced</td>\n",
       "      <td>0.479401</td>\n",
       "      <td>0.694019</td>\n",
       "    </tr>\n",
       "    <tr>\n",
       "      <th>4</th>\n",
       "      <td>LogisticRegression Upsampled</td>\n",
       "      <td>0.445826</td>\n",
       "      <td>0.665505</td>\n",
       "    </tr>\n",
       "    <tr>\n",
       "      <th>6</th>\n",
       "      <td>LogisticRegression Downsampled</td>\n",
       "      <td>0.442870</td>\n",
       "      <td>0.662770</td>\n",
       "    </tr>\n",
       "    <tr>\n",
       "      <th>0</th>\n",
       "      <td>LogisticRegression</td>\n",
       "      <td>0.115942</td>\n",
       "      <td>0.525274</td>\n",
       "    </tr>\n",
       "  </tbody>\n",
       "</table>\n",
       "</div>"
      ],
      "text/plain": [
       "                                model  f1_score   roc_auc\n",
       "3     RandomForestClassifier Balanced  0.629717  0.788635\n",
       "5    RandomForestClassifier Upsampled  0.625483  0.772332\n",
       "7  RandomForestClassifier Downsampled  0.605928  0.782196\n",
       "1              RandomForestClassifier  0.565657  0.707974\n",
       "2         LogisticRegression Balanced  0.479401  0.694019\n",
       "4        LogisticRegression Upsampled  0.445826  0.665505\n",
       "6      LogisticRegression Downsampled  0.442870  0.662770\n",
       "0                  LogisticRegression  0.115942  0.525274"
      ]
     },
     "execution_count": 53,
     "metadata": {},
     "output_type": "execute_result"
    }
   ],
   "source": [
    "models.sort_values(by='f1_score', ascending=False)"
   ]
  },
  {
   "cell_type": "markdown",
   "metadata": {},
   "source": [
    "### Вывод"
   ]
  },
  {
   "cell_type": "markdown",
   "metadata": {},
   "source": [
    "По итоговой таблице результатов различных вариаций моделей видно, что лучший результат выдает модель Случайный лес с метрикой F1 = 0.62. Стоит так же отметить, что даже с дисбалансом Случайный лес выдает результат лучше чем Логистическая регрессия в любом виде.\n",
    "\n",
    "В качестве основной модели возьмем Случаный лес (RF_model_balanced) со взвешиванием классов."
   ]
  },
  {
   "cell_type": "markdown",
   "metadata": {},
   "source": [
    "# 4. Тестирование модели\n",
    "<a id=\"step_4\"></a>"
   ]
  },
  {
   "cell_type": "code",
   "execution_count": 54,
   "metadata": {},
   "outputs": [
    {
     "name": "stdout",
     "output_type": "stream",
     "text": [
      "F1 Score = 0.605927552140505\n",
      "AUC-ROC = 0.7821963002238718\n",
      "\n",
      "Точность = 0.567287784679089\n",
      "Полнота = 0.7479674796747967\n"
     ]
    }
   ],
   "source": [
    "test_predictions = RF_model_balanced.predict(features_test)\n",
    "\n",
    "test_precision_score = precision_score(target_test, test_predictions)\n",
    "test_recall_score = recall_score(target_valid, RF_predictions)\n",
    "test_f1_score = f1_score(target_valid, RF_predictions)\n",
    "test_roc_auc = roc_auc_score(target_valid, RF_predictions)\n",
    "\n",
    "print(f'F1 Score = {test_f1_score}')\n",
    "print(f'AUC-ROC = {test_roc_auc}')\n",
    "print()\n",
    "print(f'Точность = {test_precision_score}')\n",
    "print(f'Полнота = {test_recall_score}')"
   ]
  },
  {
   "cell_type": "markdown",
   "metadata": {},
   "source": [
    "### Вывод"
   ]
  },
  {
   "cell_type": "markdown",
   "metadata": {},
   "source": [
    "Модель Случайный лес с гиперпараметрами Глубина: 6, Кол-во деревьев: 60. Модель обучалась со взвешиванием классов.\n",
    "\n",
    "На скрытой тестовой выборке наша модель показала результат аналогично валидационной выборке:\n",
    "- F1 = 0.60\n",
    "- AUC-ROC = 0.78"
   ]
  }
 ],
 "metadata": {
  "kernelspec": {
   "display_name": "Python 3",
   "language": "python",
   "name": "python3"
  },
  "language_info": {
   "codemirror_mode": {
    "name": "ipython",
    "version": 3
   },
   "file_extension": ".py",
   "mimetype": "text/x-python",
   "name": "python",
   "nbconvert_exporter": "python",
   "pygments_lexer": "ipython3",
   "version": "3.9.0"
  },
  "toc": {
   "base_numbering": 1,
   "nav_menu": {},
   "number_sections": true,
   "sideBar": true,
   "skip_h1_title": false,
   "title_cell": "Table of Contents",
   "title_sidebar": "Contents",
   "toc_cell": false,
   "toc_position": {},
   "toc_section_display": true,
   "toc_window_display": false
  }
 },
 "nbformat": 4,
 "nbformat_minor": 2
}
